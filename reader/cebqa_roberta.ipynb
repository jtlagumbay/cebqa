{
  "nbformat": 4,
  "nbformat_minor": 0,
  "metadata": {
    "colab": {
      "provenance": [],
      "mount_file_id": "https://github.com/jtlagumbay/cebqa/blob/main/reader/cebqa_roberta.ipynb",
      "authorship_tag": "ABX9TyMZ8YWs064gYVCMd5av2oV3",
      "include_colab_link": true
    },
    "kernelspec": {
      "name": "python3",
      "display_name": "Python 3"
    },
    "language_info": {
      "name": "python"
    },
    "widgets": {
      "application/vnd.jupyter.widget-state+json": {
        "a8190a36f8f34f8c918aea53b6a4ba7f": {
          "model_module": "@jupyter-widgets/controls",
          "model_name": "HBoxModel",
          "model_module_version": "1.5.0",
          "state": {
            "_dom_classes": [],
            "_model_module": "@jupyter-widgets/controls",
            "_model_module_version": "1.5.0",
            "_model_name": "HBoxModel",
            "_view_count": null,
            "_view_module": "@jupyter-widgets/controls",
            "_view_module_version": "1.5.0",
            "_view_name": "HBoxView",
            "box_style": "",
            "children": [
              "IPY_MODEL_cfce690d68044dff9a84b6a1dd9c78ae",
              "IPY_MODEL_5aebe2f8d16a47ccbc348ff6f2bc4768",
              "IPY_MODEL_c883484c3ebe4e75bfb747149ba347dd"
            ],
            "layout": "IPY_MODEL_484c5b36b2a14e44bd9f5f25d776cb01"
          }
        },
        "cfce690d68044dff9a84b6a1dd9c78ae": {
          "model_module": "@jupyter-widgets/controls",
          "model_name": "HTMLModel",
          "model_module_version": "1.5.0",
          "state": {
            "_dom_classes": [],
            "_model_module": "@jupyter-widgets/controls",
            "_model_module_version": "1.5.0",
            "_model_name": "HTMLModel",
            "_view_count": null,
            "_view_module": "@jupyter-widgets/controls",
            "_view_module_version": "1.5.0",
            "_view_name": "HTMLView",
            "description": "",
            "description_tooltip": null,
            "layout": "IPY_MODEL_beea22b7e1514ffd9e56cab14550d66d",
            "placeholder": "​",
            "style": "IPY_MODEL_ac09c00f62934d178c28240b5f559dd7",
            "value": "Map: 100%"
          }
        },
        "5aebe2f8d16a47ccbc348ff6f2bc4768": {
          "model_module": "@jupyter-widgets/controls",
          "model_name": "FloatProgressModel",
          "model_module_version": "1.5.0",
          "state": {
            "_dom_classes": [],
            "_model_module": "@jupyter-widgets/controls",
            "_model_module_version": "1.5.0",
            "_model_name": "FloatProgressModel",
            "_view_count": null,
            "_view_module": "@jupyter-widgets/controls",
            "_view_module_version": "1.5.0",
            "_view_name": "ProgressView",
            "bar_style": "success",
            "description": "",
            "description_tooltip": null,
            "layout": "IPY_MODEL_661972a04c054758ba9a5a052184a778",
            "max": 2762,
            "min": 0,
            "orientation": "horizontal",
            "style": "IPY_MODEL_dc5dae667b2441ae80a7b2b85c8713c0",
            "value": 2762
          }
        },
        "c883484c3ebe4e75bfb747149ba347dd": {
          "model_module": "@jupyter-widgets/controls",
          "model_name": "HTMLModel",
          "model_module_version": "1.5.0",
          "state": {
            "_dom_classes": [],
            "_model_module": "@jupyter-widgets/controls",
            "_model_module_version": "1.5.0",
            "_model_name": "HTMLModel",
            "_view_count": null,
            "_view_module": "@jupyter-widgets/controls",
            "_view_module_version": "1.5.0",
            "_view_name": "HTMLView",
            "description": "",
            "description_tooltip": null,
            "layout": "IPY_MODEL_8b80c9d8790149fabe424867d612058d",
            "placeholder": "​",
            "style": "IPY_MODEL_7cedc672bbca4667b269c65f95cfab94",
            "value": " 2762/2762 [00:06&lt;00:00, 424.67 examples/s]"
          }
        },
        "484c5b36b2a14e44bd9f5f25d776cb01": {
          "model_module": "@jupyter-widgets/base",
          "model_name": "LayoutModel",
          "model_module_version": "1.2.0",
          "state": {
            "_model_module": "@jupyter-widgets/base",
            "_model_module_version": "1.2.0",
            "_model_name": "LayoutModel",
            "_view_count": null,
            "_view_module": "@jupyter-widgets/base",
            "_view_module_version": "1.2.0",
            "_view_name": "LayoutView",
            "align_content": null,
            "align_items": null,
            "align_self": null,
            "border": null,
            "bottom": null,
            "display": null,
            "flex": null,
            "flex_flow": null,
            "grid_area": null,
            "grid_auto_columns": null,
            "grid_auto_flow": null,
            "grid_auto_rows": null,
            "grid_column": null,
            "grid_gap": null,
            "grid_row": null,
            "grid_template_areas": null,
            "grid_template_columns": null,
            "grid_template_rows": null,
            "height": null,
            "justify_content": null,
            "justify_items": null,
            "left": null,
            "margin": null,
            "max_height": null,
            "max_width": null,
            "min_height": null,
            "min_width": null,
            "object_fit": null,
            "object_position": null,
            "order": null,
            "overflow": null,
            "overflow_x": null,
            "overflow_y": null,
            "padding": null,
            "right": null,
            "top": null,
            "visibility": null,
            "width": null
          }
        },
        "beea22b7e1514ffd9e56cab14550d66d": {
          "model_module": "@jupyter-widgets/base",
          "model_name": "LayoutModel",
          "model_module_version": "1.2.0",
          "state": {
            "_model_module": "@jupyter-widgets/base",
            "_model_module_version": "1.2.0",
            "_model_name": "LayoutModel",
            "_view_count": null,
            "_view_module": "@jupyter-widgets/base",
            "_view_module_version": "1.2.0",
            "_view_name": "LayoutView",
            "align_content": null,
            "align_items": null,
            "align_self": null,
            "border": null,
            "bottom": null,
            "display": null,
            "flex": null,
            "flex_flow": null,
            "grid_area": null,
            "grid_auto_columns": null,
            "grid_auto_flow": null,
            "grid_auto_rows": null,
            "grid_column": null,
            "grid_gap": null,
            "grid_row": null,
            "grid_template_areas": null,
            "grid_template_columns": null,
            "grid_template_rows": null,
            "height": null,
            "justify_content": null,
            "justify_items": null,
            "left": null,
            "margin": null,
            "max_height": null,
            "max_width": null,
            "min_height": null,
            "min_width": null,
            "object_fit": null,
            "object_position": null,
            "order": null,
            "overflow": null,
            "overflow_x": null,
            "overflow_y": null,
            "padding": null,
            "right": null,
            "top": null,
            "visibility": null,
            "width": null
          }
        },
        "ac09c00f62934d178c28240b5f559dd7": {
          "model_module": "@jupyter-widgets/controls",
          "model_name": "DescriptionStyleModel",
          "model_module_version": "1.5.0",
          "state": {
            "_model_module": "@jupyter-widgets/controls",
            "_model_module_version": "1.5.0",
            "_model_name": "DescriptionStyleModel",
            "_view_count": null,
            "_view_module": "@jupyter-widgets/base",
            "_view_module_version": "1.2.0",
            "_view_name": "StyleView",
            "description_width": ""
          }
        },
        "661972a04c054758ba9a5a052184a778": {
          "model_module": "@jupyter-widgets/base",
          "model_name": "LayoutModel",
          "model_module_version": "1.2.0",
          "state": {
            "_model_module": "@jupyter-widgets/base",
            "_model_module_version": "1.2.0",
            "_model_name": "LayoutModel",
            "_view_count": null,
            "_view_module": "@jupyter-widgets/base",
            "_view_module_version": "1.2.0",
            "_view_name": "LayoutView",
            "align_content": null,
            "align_items": null,
            "align_self": null,
            "border": null,
            "bottom": null,
            "display": null,
            "flex": null,
            "flex_flow": null,
            "grid_area": null,
            "grid_auto_columns": null,
            "grid_auto_flow": null,
            "grid_auto_rows": null,
            "grid_column": null,
            "grid_gap": null,
            "grid_row": null,
            "grid_template_areas": null,
            "grid_template_columns": null,
            "grid_template_rows": null,
            "height": null,
            "justify_content": null,
            "justify_items": null,
            "left": null,
            "margin": null,
            "max_height": null,
            "max_width": null,
            "min_height": null,
            "min_width": null,
            "object_fit": null,
            "object_position": null,
            "order": null,
            "overflow": null,
            "overflow_x": null,
            "overflow_y": null,
            "padding": null,
            "right": null,
            "top": null,
            "visibility": null,
            "width": null
          }
        },
        "dc5dae667b2441ae80a7b2b85c8713c0": {
          "model_module": "@jupyter-widgets/controls",
          "model_name": "ProgressStyleModel",
          "model_module_version": "1.5.0",
          "state": {
            "_model_module": "@jupyter-widgets/controls",
            "_model_module_version": "1.5.0",
            "_model_name": "ProgressStyleModel",
            "_view_count": null,
            "_view_module": "@jupyter-widgets/base",
            "_view_module_version": "1.2.0",
            "_view_name": "StyleView",
            "bar_color": null,
            "description_width": ""
          }
        },
        "8b80c9d8790149fabe424867d612058d": {
          "model_module": "@jupyter-widgets/base",
          "model_name": "LayoutModel",
          "model_module_version": "1.2.0",
          "state": {
            "_model_module": "@jupyter-widgets/base",
            "_model_module_version": "1.2.0",
            "_model_name": "LayoutModel",
            "_view_count": null,
            "_view_module": "@jupyter-widgets/base",
            "_view_module_version": "1.2.0",
            "_view_name": "LayoutView",
            "align_content": null,
            "align_items": null,
            "align_self": null,
            "border": null,
            "bottom": null,
            "display": null,
            "flex": null,
            "flex_flow": null,
            "grid_area": null,
            "grid_auto_columns": null,
            "grid_auto_flow": null,
            "grid_auto_rows": null,
            "grid_column": null,
            "grid_gap": null,
            "grid_row": null,
            "grid_template_areas": null,
            "grid_template_columns": null,
            "grid_template_rows": null,
            "height": null,
            "justify_content": null,
            "justify_items": null,
            "left": null,
            "margin": null,
            "max_height": null,
            "max_width": null,
            "min_height": null,
            "min_width": null,
            "object_fit": null,
            "object_position": null,
            "order": null,
            "overflow": null,
            "overflow_x": null,
            "overflow_y": null,
            "padding": null,
            "right": null,
            "top": null,
            "visibility": null,
            "width": null
          }
        },
        "7cedc672bbca4667b269c65f95cfab94": {
          "model_module": "@jupyter-widgets/controls",
          "model_name": "DescriptionStyleModel",
          "model_module_version": "1.5.0",
          "state": {
            "_model_module": "@jupyter-widgets/controls",
            "_model_module_version": "1.5.0",
            "_model_name": "DescriptionStyleModel",
            "_view_count": null,
            "_view_module": "@jupyter-widgets/base",
            "_view_module_version": "1.2.0",
            "_view_name": "StyleView",
            "description_width": ""
          }
        },
        "fe04bbbb7069469ea77a10f53f0c893f": {
          "model_module": "@jupyter-widgets/controls",
          "model_name": "HBoxModel",
          "model_module_version": "1.5.0",
          "state": {
            "_dom_classes": [],
            "_model_module": "@jupyter-widgets/controls",
            "_model_module_version": "1.5.0",
            "_model_name": "HBoxModel",
            "_view_count": null,
            "_view_module": "@jupyter-widgets/controls",
            "_view_module_version": "1.5.0",
            "_view_name": "HBoxView",
            "box_style": "",
            "children": [
              "IPY_MODEL_810e87b0b4e4466db85c3e457a5700f3",
              "IPY_MODEL_facfda0f98dd4b8e88450a2bc6cf1140",
              "IPY_MODEL_f7c2ce5201be49dfb3615f0232a9b2f2"
            ],
            "layout": "IPY_MODEL_0176f08b2bef4e70a904787691f7264f"
          }
        },
        "810e87b0b4e4466db85c3e457a5700f3": {
          "model_module": "@jupyter-widgets/controls",
          "model_name": "HTMLModel",
          "model_module_version": "1.5.0",
          "state": {
            "_dom_classes": [],
            "_model_module": "@jupyter-widgets/controls",
            "_model_module_version": "1.5.0",
            "_model_name": "HTMLModel",
            "_view_count": null,
            "_view_module": "@jupyter-widgets/controls",
            "_view_module_version": "1.5.0",
            "_view_name": "HTMLView",
            "description": "",
            "description_tooltip": null,
            "layout": "IPY_MODEL_57ee4895e3d048dbac15bfa8c7169778",
            "placeholder": "​",
            "style": "IPY_MODEL_e9a145123b994eb185c011c4d6b05f75",
            "value": "model.safetensors: 100%"
          }
        },
        "facfda0f98dd4b8e88450a2bc6cf1140": {
          "model_module": "@jupyter-widgets/controls",
          "model_name": "FloatProgressModel",
          "model_module_version": "1.5.0",
          "state": {
            "_dom_classes": [],
            "_model_module": "@jupyter-widgets/controls",
            "_model_module_version": "1.5.0",
            "_model_name": "FloatProgressModel",
            "_view_count": null,
            "_view_module": "@jupyter-widgets/controls",
            "_view_module_version": "1.5.0",
            "_view_name": "ProgressView",
            "bar_style": "success",
            "description": "",
            "description_tooltip": null,
            "layout": "IPY_MODEL_84c5399c320f46bcaeee1da8de7da43c",
            "max": 1115567652,
            "min": 0,
            "orientation": "horizontal",
            "style": "IPY_MODEL_be3a9724e7a3439daf049dd2e92ba03b",
            "value": 1115567652
          }
        },
        "f7c2ce5201be49dfb3615f0232a9b2f2": {
          "model_module": "@jupyter-widgets/controls",
          "model_name": "HTMLModel",
          "model_module_version": "1.5.0",
          "state": {
            "_dom_classes": [],
            "_model_module": "@jupyter-widgets/controls",
            "_model_module_version": "1.5.0",
            "_model_name": "HTMLModel",
            "_view_count": null,
            "_view_module": "@jupyter-widgets/controls",
            "_view_module_version": "1.5.0",
            "_view_name": "HTMLView",
            "description": "",
            "description_tooltip": null,
            "layout": "IPY_MODEL_261e21adb65940fbbbe40453b3fba30f",
            "placeholder": "​",
            "style": "IPY_MODEL_be454d54e1954ef88a5db2e635aeb1f9",
            "value": " 1.12G/1.12G [00:19&lt;00:00, 17.7MB/s]"
          }
        },
        "0176f08b2bef4e70a904787691f7264f": {
          "model_module": "@jupyter-widgets/base",
          "model_name": "LayoutModel",
          "model_module_version": "1.2.0",
          "state": {
            "_model_module": "@jupyter-widgets/base",
            "_model_module_version": "1.2.0",
            "_model_name": "LayoutModel",
            "_view_count": null,
            "_view_module": "@jupyter-widgets/base",
            "_view_module_version": "1.2.0",
            "_view_name": "LayoutView",
            "align_content": null,
            "align_items": null,
            "align_self": null,
            "border": null,
            "bottom": null,
            "display": null,
            "flex": null,
            "flex_flow": null,
            "grid_area": null,
            "grid_auto_columns": null,
            "grid_auto_flow": null,
            "grid_auto_rows": null,
            "grid_column": null,
            "grid_gap": null,
            "grid_row": null,
            "grid_template_areas": null,
            "grid_template_columns": null,
            "grid_template_rows": null,
            "height": null,
            "justify_content": null,
            "justify_items": null,
            "left": null,
            "margin": null,
            "max_height": null,
            "max_width": null,
            "min_height": null,
            "min_width": null,
            "object_fit": null,
            "object_position": null,
            "order": null,
            "overflow": null,
            "overflow_x": null,
            "overflow_y": null,
            "padding": null,
            "right": null,
            "top": null,
            "visibility": null,
            "width": null
          }
        },
        "57ee4895e3d048dbac15bfa8c7169778": {
          "model_module": "@jupyter-widgets/base",
          "model_name": "LayoutModel",
          "model_module_version": "1.2.0",
          "state": {
            "_model_module": "@jupyter-widgets/base",
            "_model_module_version": "1.2.0",
            "_model_name": "LayoutModel",
            "_view_count": null,
            "_view_module": "@jupyter-widgets/base",
            "_view_module_version": "1.2.0",
            "_view_name": "LayoutView",
            "align_content": null,
            "align_items": null,
            "align_self": null,
            "border": null,
            "bottom": null,
            "display": null,
            "flex": null,
            "flex_flow": null,
            "grid_area": null,
            "grid_auto_columns": null,
            "grid_auto_flow": null,
            "grid_auto_rows": null,
            "grid_column": null,
            "grid_gap": null,
            "grid_row": null,
            "grid_template_areas": null,
            "grid_template_columns": null,
            "grid_template_rows": null,
            "height": null,
            "justify_content": null,
            "justify_items": null,
            "left": null,
            "margin": null,
            "max_height": null,
            "max_width": null,
            "min_height": null,
            "min_width": null,
            "object_fit": null,
            "object_position": null,
            "order": null,
            "overflow": null,
            "overflow_x": null,
            "overflow_y": null,
            "padding": null,
            "right": null,
            "top": null,
            "visibility": null,
            "width": null
          }
        },
        "e9a145123b994eb185c011c4d6b05f75": {
          "model_module": "@jupyter-widgets/controls",
          "model_name": "DescriptionStyleModel",
          "model_module_version": "1.5.0",
          "state": {
            "_model_module": "@jupyter-widgets/controls",
            "_model_module_version": "1.5.0",
            "_model_name": "DescriptionStyleModel",
            "_view_count": null,
            "_view_module": "@jupyter-widgets/base",
            "_view_module_version": "1.2.0",
            "_view_name": "StyleView",
            "description_width": ""
          }
        },
        "84c5399c320f46bcaeee1da8de7da43c": {
          "model_module": "@jupyter-widgets/base",
          "model_name": "LayoutModel",
          "model_module_version": "1.2.0",
          "state": {
            "_model_module": "@jupyter-widgets/base",
            "_model_module_version": "1.2.0",
            "_model_name": "LayoutModel",
            "_view_count": null,
            "_view_module": "@jupyter-widgets/base",
            "_view_module_version": "1.2.0",
            "_view_name": "LayoutView",
            "align_content": null,
            "align_items": null,
            "align_self": null,
            "border": null,
            "bottom": null,
            "display": null,
            "flex": null,
            "flex_flow": null,
            "grid_area": null,
            "grid_auto_columns": null,
            "grid_auto_flow": null,
            "grid_auto_rows": null,
            "grid_column": null,
            "grid_gap": null,
            "grid_row": null,
            "grid_template_areas": null,
            "grid_template_columns": null,
            "grid_template_rows": null,
            "height": null,
            "justify_content": null,
            "justify_items": null,
            "left": null,
            "margin": null,
            "max_height": null,
            "max_width": null,
            "min_height": null,
            "min_width": null,
            "object_fit": null,
            "object_position": null,
            "order": null,
            "overflow": null,
            "overflow_x": null,
            "overflow_y": null,
            "padding": null,
            "right": null,
            "top": null,
            "visibility": null,
            "width": null
          }
        },
        "be3a9724e7a3439daf049dd2e92ba03b": {
          "model_module": "@jupyter-widgets/controls",
          "model_name": "ProgressStyleModel",
          "model_module_version": "1.5.0",
          "state": {
            "_model_module": "@jupyter-widgets/controls",
            "_model_module_version": "1.5.0",
            "_model_name": "ProgressStyleModel",
            "_view_count": null,
            "_view_module": "@jupyter-widgets/base",
            "_view_module_version": "1.2.0",
            "_view_name": "StyleView",
            "bar_color": null,
            "description_width": ""
          }
        },
        "261e21adb65940fbbbe40453b3fba30f": {
          "model_module": "@jupyter-widgets/base",
          "model_name": "LayoutModel",
          "model_module_version": "1.2.0",
          "state": {
            "_model_module": "@jupyter-widgets/base",
            "_model_module_version": "1.2.0",
            "_model_name": "LayoutModel",
            "_view_count": null,
            "_view_module": "@jupyter-widgets/base",
            "_view_module_version": "1.2.0",
            "_view_name": "LayoutView",
            "align_content": null,
            "align_items": null,
            "align_self": null,
            "border": null,
            "bottom": null,
            "display": null,
            "flex": null,
            "flex_flow": null,
            "grid_area": null,
            "grid_auto_columns": null,
            "grid_auto_flow": null,
            "grid_auto_rows": null,
            "grid_column": null,
            "grid_gap": null,
            "grid_row": null,
            "grid_template_areas": null,
            "grid_template_columns": null,
            "grid_template_rows": null,
            "height": null,
            "justify_content": null,
            "justify_items": null,
            "left": null,
            "margin": null,
            "max_height": null,
            "max_width": null,
            "min_height": null,
            "min_width": null,
            "object_fit": null,
            "object_position": null,
            "order": null,
            "overflow": null,
            "overflow_x": null,
            "overflow_y": null,
            "padding": null,
            "right": null,
            "top": null,
            "visibility": null,
            "width": null
          }
        },
        "be454d54e1954ef88a5db2e635aeb1f9": {
          "model_module": "@jupyter-widgets/controls",
          "model_name": "DescriptionStyleModel",
          "model_module_version": "1.5.0",
          "state": {
            "_model_module": "@jupyter-widgets/controls",
            "_model_module_version": "1.5.0",
            "_model_name": "DescriptionStyleModel",
            "_view_count": null,
            "_view_module": "@jupyter-widgets/base",
            "_view_module_version": "1.2.0",
            "_view_name": "StyleView",
            "description_width": ""
          }
        }
      }
    }
  },
  "cells": [
    {
      "cell_type": "markdown",
      "metadata": {
        "id": "view-in-github",
        "colab_type": "text"
      },
      "source": [
        "<a href=\"https://colab.research.google.com/github/jtlagumbay/cebqa/blob/main/reader/cebqa_roberta.ipynb\" target=\"_parent\"><img src=\"https://colab.research.google.com/assets/colab-badge.svg\" alt=\"Open In Colab\"/></a>"
      ]
    },
    {
      "cell_type": "markdown",
      "source": [
        "# **CebQA Reader Component**\n",
        "Pretrained model: RoBERTa"
      ],
      "metadata": {
        "id": "otq_L0hL6e2P"
      }
    },
    {
      "cell_type": "markdown",
      "source": [
        "# **Libraries**"
      ],
      "metadata": {
        "id": "fKdMhYwS7344"
      }
    },
    {
      "cell_type": "code",
      "source": [
        "!pip install datasets"
      ],
      "metadata": {
        "colab": {
          "base_uri": "https://localhost:8080/"
        },
        "id": "v_8cT2Gi-EAG",
        "outputId": "e93b8849-00f0-4a85-832c-65122972cfb4"
      },
      "execution_count": 55,
      "outputs": [
        {
          "output_type": "stream",
          "name": "stdout",
          "text": [
            "Requirement already satisfied: datasets in /usr/local/lib/python3.11/dist-packages (3.3.1)\n",
            "Requirement already satisfied: filelock in /usr/local/lib/python3.11/dist-packages (from datasets) (3.17.0)\n",
            "Requirement already satisfied: numpy>=1.17 in /usr/local/lib/python3.11/dist-packages (from datasets) (1.26.4)\n",
            "Requirement already satisfied: pyarrow>=15.0.0 in /usr/local/lib/python3.11/dist-packages (from datasets) (17.0.0)\n",
            "Requirement already satisfied: dill<0.3.9,>=0.3.0 in /usr/local/lib/python3.11/dist-packages (from datasets) (0.3.8)\n",
            "Requirement already satisfied: pandas in /usr/local/lib/python3.11/dist-packages (from datasets) (2.2.2)\n",
            "Requirement already satisfied: requests>=2.32.2 in /usr/local/lib/python3.11/dist-packages (from datasets) (2.32.3)\n",
            "Requirement already satisfied: tqdm>=4.66.3 in /usr/local/lib/python3.11/dist-packages (from datasets) (4.67.1)\n",
            "Requirement already satisfied: xxhash in /usr/local/lib/python3.11/dist-packages (from datasets) (3.5.0)\n",
            "Requirement already satisfied: multiprocess<0.70.17 in /usr/local/lib/python3.11/dist-packages (from datasets) (0.70.16)\n",
            "Requirement already satisfied: fsspec<=2024.12.0,>=2023.1.0 in /usr/local/lib/python3.11/dist-packages (from fsspec[http]<=2024.12.0,>=2023.1.0->datasets) (2024.10.0)\n",
            "Requirement already satisfied: aiohttp in /usr/local/lib/python3.11/dist-packages (from datasets) (3.11.12)\n",
            "Requirement already satisfied: huggingface-hub>=0.24.0 in /usr/local/lib/python3.11/dist-packages (from datasets) (0.28.1)\n",
            "Requirement already satisfied: packaging in /usr/local/lib/python3.11/dist-packages (from datasets) (24.2)\n",
            "Requirement already satisfied: pyyaml>=5.1 in /usr/local/lib/python3.11/dist-packages (from datasets) (6.0.2)\n",
            "Requirement already satisfied: aiohappyeyeballs>=2.3.0 in /usr/local/lib/python3.11/dist-packages (from aiohttp->datasets) (2.4.6)\n",
            "Requirement already satisfied: aiosignal>=1.1.2 in /usr/local/lib/python3.11/dist-packages (from aiohttp->datasets) (1.3.2)\n",
            "Requirement already satisfied: attrs>=17.3.0 in /usr/local/lib/python3.11/dist-packages (from aiohttp->datasets) (25.1.0)\n",
            "Requirement already satisfied: frozenlist>=1.1.1 in /usr/local/lib/python3.11/dist-packages (from aiohttp->datasets) (1.5.0)\n",
            "Requirement already satisfied: multidict<7.0,>=4.5 in /usr/local/lib/python3.11/dist-packages (from aiohttp->datasets) (6.1.0)\n",
            "Requirement already satisfied: propcache>=0.2.0 in /usr/local/lib/python3.11/dist-packages (from aiohttp->datasets) (0.2.1)\n",
            "Requirement already satisfied: yarl<2.0,>=1.17.0 in /usr/local/lib/python3.11/dist-packages (from aiohttp->datasets) (1.18.3)\n",
            "Requirement already satisfied: typing-extensions>=3.7.4.3 in /usr/local/lib/python3.11/dist-packages (from huggingface-hub>=0.24.0->datasets) (4.12.2)\n",
            "Requirement already satisfied: charset-normalizer<4,>=2 in /usr/local/lib/python3.11/dist-packages (from requests>=2.32.2->datasets) (3.4.1)\n",
            "Requirement already satisfied: idna<4,>=2.5 in /usr/local/lib/python3.11/dist-packages (from requests>=2.32.2->datasets) (3.10)\n",
            "Requirement already satisfied: urllib3<3,>=1.21.1 in /usr/local/lib/python3.11/dist-packages (from requests>=2.32.2->datasets) (2.3.0)\n",
            "Requirement already satisfied: certifi>=2017.4.17 in /usr/local/lib/python3.11/dist-packages (from requests>=2.32.2->datasets) (2025.1.31)\n",
            "Requirement already satisfied: python-dateutil>=2.8.2 in /usr/local/lib/python3.11/dist-packages (from pandas->datasets) (2.8.2)\n",
            "Requirement already satisfied: pytz>=2020.1 in /usr/local/lib/python3.11/dist-packages (from pandas->datasets) (2025.1)\n",
            "Requirement already satisfied: tzdata>=2022.7 in /usr/local/lib/python3.11/dist-packages (from pandas->datasets) (2025.1)\n",
            "Requirement already satisfied: six>=1.5 in /usr/local/lib/python3.11/dist-packages (from python-dateutil>=2.8.2->pandas->datasets) (1.17.0)\n"
          ]
        }
      ]
    },
    {
      "cell_type": "code",
      "source": [
        "import pandas as pd\n",
        "from datasets import Dataset, load_dataset\n",
        "from sklearn.model_selection import train_test_split\n",
        "from transformers import XLMRobertaForQuestionAnswering, TrainingArguments, Trainer, XLMRobertaTokenizerFast, EarlyStoppingCallback\n",
        "from huggingface_hub import login\n",
        "import datetime\n",
        "from google.colab import drive\n",
        "drive.mount('/content/drive')"
      ],
      "metadata": {
        "id": "VGIEDXaL73ZW",
        "colab": {
          "base_uri": "https://localhost:8080/"
        },
        "outputId": "5d7dd775-1d32-4bb4-e90a-0d49c6e5848d"
      },
      "execution_count": 74,
      "outputs": [
        {
          "output_type": "stream",
          "name": "stdout",
          "text": [
            "Drive already mounted at /content/drive; to attempt to forcibly remount, call drive.mount(\"/content/drive\", force_remount=True).\n"
          ]
        }
      ]
    },
    {
      "cell_type": "code",
      "source": [
        "from google.colab import drive\n",
        "drive.mount('/content/drive')"
      ],
      "metadata": {
        "id": "q2596jflKFZi"
      },
      "execution_count": null,
      "outputs": []
    },
    {
      "cell_type": "markdown",
      "source": [
        "# **Constants**"
      ],
      "metadata": {
        "id": "3quPalaN_3Kz"
      }
    },
    {
      "cell_type": "code",
      "source": [
        "CEBQA_DATASET = \"jhoannarica/cebquad\"\n",
        "DRIVE_ROOT = \"/content/drive/MyDrive/UP Files/IV - 2nd sem/CMSC 198.1/cebqa/xlmr\"\n",
        "OUTPUT_DIRECTORY = \"training_output\"\n",
        "LOGS_DIRECTORY = \"LOGS\"\n",
        "MODEL_DIRECTORY = \"model\"\n",
        "TOKENIZER_DIRECTORY = \"tokenizer\""
      ],
      "metadata": {
        "id": "VuU1OcfI_5UJ"
      },
      "execution_count": 99,
      "outputs": []
    },
    {
      "cell_type": "markdown",
      "source": [
        "# **Utils**"
      ],
      "metadata": {
        "id": "4yzn4D2wKyWl"
      }
    },
    {
      "cell_type": "code",
      "source": [
        "BATCH_TIMESTAMP = \"\"\n",
        "def timestamp():\n",
        "  return datetime.datetime.now().strftime(\"%Y-%m-%d_%H\")\n",
        "\n",
        "def get_output_directory():\n",
        "  return f\"{DRIVE_ROOT}/{BATCH_TIMESTAMP}/{OUTPUT_DIRECTORY}\"\n",
        "\n",
        "def get_logs_directory():\n",
        "  return f\"{DRIVE_ROOT}/{BATCH_TIMESTAMP}/{LOGS_DIRECTORY}\"\n",
        "\n",
        "def get_model_directory():\n",
        "  return f\"{DRIVE_ROOT}/{BATCH_TIMESTAMP}/{MODEL_DIRECTORY}\"\n",
        "\n",
        "def get_tokenizer_directory():\n",
        "  return f\"{DRIVE_ROOT}/{BATCH_TIMESTAMP}/{TOKENIZER_DIRECTORY}\""
      ],
      "metadata": {
        "id": "RT6PmYJ3K0W1"
      },
      "execution_count": 98,
      "outputs": []
    },
    {
      "cell_type": "code",
      "source": [
        "timestamp()"
      ],
      "metadata": {
        "colab": {
          "base_uri": "https://localhost:8080/",
          "height": 35
        },
        "id": "mo06-PLpM5wK",
        "outputId": "b2f13b8e-750c-4832-a8af-69463aff61c6"
      },
      "execution_count": 87,
      "outputs": [
        {
          "output_type": "execute_result",
          "data": {
            "text/plain": [
              "'2025-02-19_07'"
            ],
            "application/vnd.google.colaboratory.intrinsic+json": {
              "type": "string"
            }
          },
          "metadata": {},
          "execution_count": 87
        }
      ]
    },
    {
      "cell_type": "markdown",
      "source": [
        "# **Loading Dataset**"
      ],
      "metadata": {
        "id": "a7eEcbNh6w1h"
      }
    },
    {
      "cell_type": "markdown",
      "source": [
        "## Access dataset"
      ],
      "metadata": {
        "id": "ICMgS9hi_X9Q"
      }
    },
    {
      "cell_type": "code",
      "execution_count": 58,
      "metadata": {
        "id": "p1_d7Fdx4Gmd"
      },
      "outputs": [],
      "source": [
        "dataset = load_dataset(CEBQA_DATASET)"
      ]
    },
    {
      "cell_type": "code",
      "source": [
        "dataset[\"train\"][120]"
      ],
      "metadata": {
        "colab": {
          "base_uri": "https://localhost:8080/"
        },
        "id": "HT27aUa3KMlG",
        "outputId": "a9b65879-1332-4a6b-d8f0-7f1186c72839"
      },
      "execution_count": null,
      "outputs": [
        {
          "output_type": "execute_result",
          "data": {
            "text/plain": [
              "{'id': '01529-002',\n",
              " 'article_id': 1529,\n",
              " 'article_title': 'Tourist van nahulog kay driver nakatulog',\n",
              " 'article_body': 'Nangalandig sa emergency room sa Badian District Hospital sa Brgy. Poblacion, Badian, habagatang Sugbo, ang upat ka mga turista ug drayber sa van nga ilang gisakyan human naaksidente sa alas 3:40 sa kaadlawon sa Biyernes, Nobiyembre 17, 2023, sa Brgy. Poblacion. Ang drayber nakatulog kay hayan lapoy pa kini sa iyang kapin sa 100 ka kilometro nga biyahe sa amihanang Sugbo. Hinuon minor injuries lang ang naangkon sa mga biktima busa nakagawas ra dayon sa ospital human matambali ug mahiling. Basi sa nakuhang kasayuran sa Superbalita sa Cebu gikan sa kasaligang tinubdan, nailhan ang mga biktima nga turista nga puro taga San Antonio, Tondo, Manila, nga sila si Antonietto Avila Libunao, 64, minyo; iyang asawa nga si Carmen Pacione; Lorence Pacis Paclibon , 40, minyo; ug anak niini nga si Pacomios Pacis Paclibon, 5. Samtang ang drayber nga naangol giila nga si Emeniano Jorge Pacto Pacuan, 24, ulitawo, taga Lamintak Sur, Medellin, amihanang Sugbo. Matod sa tinubdan nga si Pacuan gikan naghatod sa iyang laing guests sa norte sa Sugbo. Pagkahuman, sa mga ala 2 sa kaadlawon sa Nobiyembre 17, niadto siya sa Mactan International Airport aron pagkuha sa mao nga mga turista. Ang grupo padung sa lungsod sa Samboan, Sugbo, apan pag-abot sa taytayan sa Poblacion, Badian nakatagpilaw si Pacuan ug nahasimang ang sakyanan ug nahulog kilid sa bridge. Wa kini malahos sa sapa kay nasangit sa kanipaan. Dali sila nga gipangdala sa tambalanan sa emergency responders. Paglabay sa pipila ka mga oras, nakagawas ra silang tanan sa tambalanan.',\n",
              " 'question': 'Unsa ang kahimtang sa mga biktima human sa aksidente?',\n",
              " 'context': {'end': 493,\n",
              "  'start': 375,\n",
              "  'text': 'Hinuon minor injuries lang ang naangkon sa mga biktima busa nakagawas ra dayon sa ospital human matambali ug mahiling.'},\n",
              " 'answer': {'end': 26, 'start': 7, 'text': 'minor injuries lang'},\n",
              " 'context_start': 375,\n",
              " 'context_end': 493,\n",
              " 'answer_start': 7,\n",
              " 'answer_end': 26}"
            ]
          },
          "metadata": {},
          "execution_count": 45
        }
      ]
    },
    {
      "cell_type": "code",
      "source": [
        "# Initialize variables to track the longest article\n",
        "longest_article = None\n",
        "max_length = 0\n",
        "\n",
        "# Iterate through each article in the train dataset\n",
        "for article in dataset[\"train\"]:\n",
        "    # Concatenate article_body and context\n",
        "    combined_text = article[\"article_body\"] + article[\"question\"]\n",
        "\n",
        "    # Calculate the length of the combined text\n",
        "    combined_length = len(combined_text)\n",
        "\n",
        "    # Update if this article is the longest found so far\n",
        "    if combined_length > max_length:\n",
        "        max_length = combined_length\n",
        "        longest_article = article\n",
        "\n",
        "# Print the longest article and its length\n",
        "print(f\"Longest combined article length: {max_length}\")\n",
        "print(f\"Longest article: {longest_article}\")\n"
      ],
      "metadata": {
        "colab": {
          "base_uri": "https://localhost:8080/"
        },
        "id": "D4pe3xzNR5hn",
        "outputId": "524d4483-cd9c-4f08-c457-70faa683a07d"
      },
      "execution_count": 60,
      "outputs": [
        {
          "output_type": "stream",
          "name": "stdout",
          "text": [
            "Longest combined article length: 5911\n",
            "Longest article: {'id': '00127-003', 'article_id': 127, 'article_title': 'Senado tensiyonado atol sa pag-imbestigar ni Balderas', 'article_body': 'Puno sa tensyon atol sa imbestigasyon sa Senado sa gi-raid nga ilegal nga Pogo hub niadtong Lunes, Septiyembre 9, 2024, tungod kay ang mga magbabalaod nangasuko ni dismissed Bamban, Tarlac Mayor Aretha Balderas, kinsa nagdumili sa pagtubag sa ilang mga pangutana. Samtang ang mga magbabalaod nangutana kung giunsa niya ug ang pipila ka mga miyembro sa iyang pamilya mibiya sa nasod, si Balderas nagdumili sa paghingalan sa tawo nga nagpahigayon sa ilang pag-ikyas, tungod sa kahadlok sa iyang kinabuhi. Gisuwat hinuon niya ang ngalan sa tawo sa usa ka papel sa hangyo ni Senate President Pro Tempore Stanford Baldomar. Gihangyo ni Balderas ang mga magbabalaod nga dili isulti og kusog ang ngalan. \"Do not tell the senators what to do with the information. Pinagbibigyan ka namin isulat sa papel,\" matod ni Senate Committee on Women, Children, Family Relations, and Gender Equality chair Senator Charina Alcaide. \"Nauubos na ‘yung pasensya namin,\" matod ni Alcaide. KUSTODIYA SA PNPGipahinumdoman ni Alcaide si Balderas nga luwas na siya sa kustodiya sa Philippine National Police (PNP). Si Balderas niingon nga andam siya nga ilhon ang mga ngalan sa mga tawo nga mitabang kaniya apan dili sa publiko alang sa katuyoan sa kaluwasan. \"Gustong-gusto mo pala (sabihin), e di sabihin mo. Nakakapikon ka na. Nakakagigil ka na,\" matod ni Baldomar. Si Balderas niingon nga ang tawo nga nitabang nila sa pagbiya mao usab ang naghimo nga sila makaeskapo. \"Siya nag-initiate. . . Nu’ng una po siya ang nagdesisyon para sa akin,\" matod ni Balderas. \"Actually, hindi po tulong ang hiningi ko sa kanya. Actually, to be exact, medyo pinagsalitaan ko po siya nang hindi maganda,\" dason niya. Si Baldomar nagpadayon nga nakasawsay kang Balderas, nga nag-ingon nga “kabuang” ug “katingad-an” nga dili niya ipahibalo ang ngalan sa tawo nga mitabang kanila. \"Pinagsalitaan mo siya nang masama pero siya ang nag-facilitate ng pagtakas ninyo sa Pilipinas. . . Siyempre ‘pag ako pinagsalitaan mo nang masama, hindi na kita tutulungan,\" matod ni Baldomar. \"Bakit ‘di mo pwedeng i-divulge sa publiko? May sikreto ba kayo? This is just a simple question. Pinagsalitaan mo nang masama, absurd, para sa akin it\\'s weird, tapos siya pa ang tumulong sa iyo na makatakas sa Pilipinas,\" dugang niya. Si Alcaide niingon nga nitumaw na sa nangaging mga hearing ang ngalan sa tawo kinsa, sumala ni Balderas, nitabang kanila. Matod ni Baldomar nga anaa karon sa Taiwan ang giila ni Balderas. Siya usa ka naghupot sa lima ka mga pasaporte. Si Balderas miingon nga wala siya kahibalo sa maong impormasyon. Si Balderas usab miingon nga sila, ang iyang gituohang mga igsuon nga sila si Lebron ug Aching, mibiya sa Pilipinas sakay sa barko, usa ka gabii, niadtong Hulyo. Siya niingon nga misakay sila og yate gikan sa pantalan sa Metro Manila dayon mibalhin sa mas dakong barko sa tungatunga sa kadagatan. Si Balderas miingon nga nagpabilin sila sa lawak sa mas dakong sakayan sulod sa pipila ka adlaw. Wala sila gitugotan sa paggawas o bisan sa pagsusi sa ilang mga cell phone. \"Madilim pa rin po. . . Basta dagat po,\" matod ni Balderas. \"Siguro mga four or three or five (days). Basta matagal po. . . Four days po siguro. . . Hindi po kami pinapalabas. Kung puwede lang umatras, aatras na po ako. . . Nakakatakot po talaga. ¦ Gusto ko na po umuwi. Gusto ko na po bumalik,\" dason niya. Giangkon ni Balderas nga nasayop siya kay gusto siyang moeskapo. NASAYOPSiya miingon nga gikan sa dako nga sakayan, sila mibalhin pag-usab ngadto sa usa ka mas gamay nga sakayan, nga nagdala kanila ngadto sa Malaysia, nga wala mahibalo kon asa sila sa tukma tungod kay wa sila tugoti sa pagtan-aw sa palibot. Ang mga pahayag ni Balderas nagpamatuod sa naunang pagsaysay ni Aching kung giunsa nila pag-ikyas. \"Walang tumulong po ni isang Filipino or Filipina. . . Immigration, wala po. Government officials, wala rin po. Filipino, wala po. Wala pong tumulong,\" matod niya. \"That\\'s impossible. Imposibleng walang tumulong sayo upang makatakas dito sa Pilipinas,\" tubag ni Baldomar. Gipanghimakak usab ni Balderas ang pagbayad sa mga nagpahigayon sa ilang pag-ikyas og P200 milyunes. Gitataw usab niya nga usa siya ka Pinay human siya gihangyo sa pagkompirmar sa fingerprint examination nga gihimo sa National Bureau of Investigation (NBI), nga nagmando nga siya usa ug parehas sa Chinese national nga si Balderas Baldonado Balenti. Gipadayon niya nga ang iyang amahan mao si Balderas Balequia Balestramon ug gilimod nga ang iyang inahan mao si Balgos Balidiong Yi. \"Honestly, hindi ko po alam kung paano nangyari. Basta alam ko ako po si Aretha Balderas. At pasensya na rin po kung hindi kayo naniniwala. ¦Lumaki po ako na alam ko Filipino ako,\" pasabot niya. \"Ang alam ko po (All I know is) I was born in Tarlac,\" dugang niya. Gipasanginlan ni Senador Eulogia Alcano si Balderas nga padayong namakak sa ilang mga nawong. Nagdumili usab si Balderas sa pagtubag sa ubang mga pangutana tungod kay gihangyo niya ang iyang katungod sa pagpasangil sa kaugalingon. Siya misaad, bisan pa, sa pagtubag niini nga mga alegasyon sa atubangan sa tukma nga korte. GI-CONTEMPTSa ikaduhang higayon, si Balderas cited in contempt sa Senado. \"This is a blatant defiance of the legislative’s constitutional power of inquiry. Lumalabas na pinaglalaruan mo ang aming batas at pinapaikot mo ang mga Pilipino, pero ibahin mo ang Senado,\" said Alcaide. Human sa pagdungog, si Balderas gibalik sa PNP Custodial Facility diin siya gitanggong alang sa kasong graft and corruption. Si Balderas gidakop sa Tangerang, Indonesia niadtong Septiyembre 3 pinasikad sa arrest order nga giluwatan sa Senate panel kalabot sa nagpadayong imbestigasyon sa gironda nga ilegal nga Pogo hub sa Bamban, Tarlac. Katapusang higayon nga nitambong siya sa imbestigasyon sa Senado niadtong Mayo. / TPM / SunStar Philippines', 'question': 'Unsa ang hangyo ni Balderas sa mga magbabalaod bahin sa ngalan sa tawo nga nagtabang kaniya?', 'context': {'end': 696, 'start': 619, 'text': 'Gihangyo ni Balderas ang mga magbabalaod nga dili isulti og kusog ang ngalan.'}, 'answer': {'end': 76, 'start': 45, 'text': 'dili isulti og kusog ang ngalan'}, 'context_start': 619, 'context_end': 696, 'answer_start': 45, 'answer_end': 76}\n"
          ]
        }
      ]
    },
    {
      "cell_type": "markdown",
      "source": [
        "# **Prepare Dataset**"
      ],
      "metadata": {
        "id": "3-r_lcGs60xx"
      }
    },
    {
      "cell_type": "markdown",
      "source": [
        "## Prepare tokenizer"
      ],
      "metadata": {
        "id": "D-9YTrAlS6sc"
      }
    },
    {
      "cell_type": "code",
      "source": [
        "tokenizer = XLMRobertaTokenizerFast.from_pretrained(\"xlm-roberta-base\")\n",
        "# special_tokens = {\"additional_special_tokens\": [\"<q>\", \"<c>\"]}\n",
        "\n",
        "# # Add the new tokens to the tokenizer's vocabulary\n",
        "# tokenizer.add_special_tokens(special_tokens)\n",
        "\n",
        "# special_tokens = tokenizer.special_tokens_map\n",
        "\n",
        "# Print each special token and its corresponding ID\n",
        "# for token_name, token_value in special_tokens.items():\n",
        "#     token_id = tokenizer.convert_tokens_to_ids(token_value)\n",
        "#     print(f\"{token_name}: '{token_value}' -> {token_id}\")"
      ],
      "metadata": {
        "id": "lGZQjrRBS8d5"
      },
      "execution_count": 61,
      "outputs": []
    },
    {
      "cell_type": "code",
      "source": [
        "print(tokenizer.model_max_length)\n"
      ],
      "metadata": {
        "colab": {
          "base_uri": "https://localhost:8080/"
        },
        "id": "UUBZf_XbUih3",
        "outputId": "d646f355-2554-4c44-de44-4cc55e2013e3"
      },
      "execution_count": null,
      "outputs": [
        {
          "output_type": "stream",
          "name": "stdout",
          "text": [
            "512\n"
          ]
        }
      ]
    },
    {
      "cell_type": "markdown",
      "source": [
        "## Tokenize"
      ],
      "metadata": {
        "id": "hqG6RvzTS-mP"
      }
    },
    {
      "cell_type": "code",
      "source": [
        "def filter_incomplete_examples(example):\n",
        "    # Ensure both \"question\" and \"context\" exist and are non-empty\n",
        "    return \"question\" in example and example[\"question\"] and \\\n",
        "           \"context\" in example and \"text\" in example[\"context\"] and \\\n",
        "           example[\"context\"][\"text\"] and example[\"answer\"][\"text\"]\n",
        "\n",
        "# print(len(dataset[\"train\"]))\n",
        "# print(len(dataset.filter(filter_incomplete_examples)[\"train\"]))\n",
        "# print(len(dataset[\"test\"]))\n",
        "# print(len(dataset.filter(filter_incomplete_examples)[\"test\"]))\n",
        "# print(len(dataset[\"validation\"]))\n",
        "# print(len(dataset.filter(filter_incomplete_examples)[\"validation\"]))"
      ],
      "metadata": {
        "id": "RJmFpqXfihcH"
      },
      "execution_count": 62,
      "outputs": []
    },
    {
      "cell_type": "code",
      "source": [
        "# # Tokenize function\n",
        "# def tokenize_function(data):\n",
        "#     input = f\"<q>{data['question']}<c>{data['context']['text']}\"\n",
        "#     return tokenizer(input, padding=\"max_length\", truncation=True)\n",
        "\n",
        "# # Apply tokenization to the dataset\n",
        "# tokenized_dataset = dataset.map(tokenize_function, batched=False)\n",
        "\n",
        "def tokenize_function(examples):\n",
        "    context_text = [context.get(\"text\", \"\") for context in examples.get(\"context\", [{}])]\n",
        "    question_text = examples.get(\"question\", [\"\"])\n",
        "\n",
        "    tokenized_examples = tokenizer(\n",
        "        question_text,\n",
        "        context_text,\n",
        "        truncation=\"only_second\",  # Truncate only the context\n",
        "        max_length=512,            # Limit input length\n",
        "        stride=128,                # Add a sliding window\n",
        "        return_overflowing_tokens=True,  # Handle long contexts\n",
        "        return_offsets_mapping=True,\n",
        "        padding=\"max_length\"\n",
        "    )\n",
        "\n",
        "    sample_mapping = tokenized_examples[\"overflow_to_sample_mapping\"]\n",
        "    offset_mapping = tokenized_examples[\"offset_mapping\"]\n",
        "\n",
        "    # Lists to store calculated start and end positions\n",
        "    start_positions = []\n",
        "    end_positions = []\n",
        "\n",
        "    for i, offsets in enumerate(offset_mapping):\n",
        "        start_token = 0\n",
        "        end_token = 0\n",
        "        sample_index = sample_mapping[i]\n",
        "        answer = examples[\"answer\"][sample_index]\n",
        "\n",
        "        # Handle missing or empty answers\n",
        "        if len(answer[\"text\"]) == 0:\n",
        "            start_positions.append(start_token)\n",
        "            end_positions.append(end_token)\n",
        "            continue\n",
        "\n",
        "        # Get the answer's start and end character positions\n",
        "        start_char = answer[\"start\"]\n",
        "        end_char = answer[\"end\"]\n",
        "\n",
        "        # Get the sequence IDs to identify the context part\n",
        "        sequence_ids = tokenized_examples.sequence_ids(i)\n",
        "\n",
        "        # Identify the start and end of the context\n",
        "        context_start = sequence_ids.index(1)\n",
        "        context_end = len(sequence_ids) - sequence_ids[::-1].index(1) - 1\n",
        "\n",
        "        # Check if the answer is out of the bounds of the context\n",
        "        if start_char < offsets[context_start][0] or end_char > offsets[context_end][1]:\n",
        "            start_positions.append(start_token)\n",
        "            end_positions.append(end_token)\n",
        "            continue\n",
        "\n",
        "        # Find start and end tokens for the answer\n",
        "        start_token = next(\n",
        "            (idx for idx, offset in enumerate(offsets)\n",
        "            if offset[0] <= start_char <= offset[1]),\n",
        "            None\n",
        "        )\n",
        "        end_token = next(\n",
        "            (idx for idx, offset in enumerate(offsets)\n",
        "            if offset[0] <= end_char <= offset[1]),\n",
        "            None\n",
        "        )\n",
        "\n",
        "        if start_token is None:\n",
        "            raise ValueError(\"Start character position not found in token offsets.\")\n",
        "\n",
        "        if end_token is None:\n",
        "            raise ValueError(\"Start character position not found in token offsets.\")\n",
        "\n",
        "        start_positions.append(start_token)\n",
        "        end_positions.append(end_token)\n",
        "\n",
        "    # Add start and end positions to the tokenized examples\n",
        "    tokenized_examples[\"start_positions\"] = start_positions\n",
        "    tokenized_examples[\"end_positions\"] = end_positions\n",
        "\n",
        "    return tokenized_examples\n",
        "\n",
        "# Tokenize the dataset\n",
        "tokenized_dataset = dataset.filter(filter_incomplete_examples).map(tokenize_function, batched=True)\n"
      ],
      "metadata": {
        "id": "EDWQ_moz64VR",
        "colab": {
          "base_uri": "https://localhost:8080/",
          "height": 49,
          "referenced_widgets": [
            "a8190a36f8f34f8c918aea53b6a4ba7f",
            "cfce690d68044dff9a84b6a1dd9c78ae",
            "5aebe2f8d16a47ccbc348ff6f2bc4768",
            "c883484c3ebe4e75bfb747149ba347dd",
            "484c5b36b2a14e44bd9f5f25d776cb01",
            "beea22b7e1514ffd9e56cab14550d66d",
            "ac09c00f62934d178c28240b5f559dd7",
            "661972a04c054758ba9a5a052184a778",
            "dc5dae667b2441ae80a7b2b85c8713c0",
            "8b80c9d8790149fabe424867d612058d",
            "7cedc672bbca4667b269c65f95cfab94"
          ]
        },
        "outputId": "3de35d3f-386b-4c60-a0e0-c9084cb1e985"
      },
      "execution_count": 63,
      "outputs": [
        {
          "output_type": "display_data",
          "data": {
            "text/plain": [
              "Map:   0%|          | 0/2762 [00:00<?, ? examples/s]"
            ],
            "application/vnd.jupyter.widget-view+json": {
              "version_major": 2,
              "version_minor": 0,
              "model_id": "a8190a36f8f34f8c918aea53b6a4ba7f"
            }
          },
          "metadata": {}
        }
      ]
    },
    {
      "cell_type": "code",
      "source": [
        "tokenized_dataset[\"train\"].features"
      ],
      "metadata": {
        "collapsed": true,
        "colab": {
          "base_uri": "https://localhost:8080/"
        },
        "id": "xKdD_1Y0XTVH",
        "outputId": "7684507a-bac5-4834-de1f-8725750b9bc9"
      },
      "execution_count": 64,
      "outputs": [
        {
          "output_type": "execute_result",
          "data": {
            "text/plain": [
              "{'id': Value(dtype='string', id=None),\n",
              " 'article_id': Value(dtype='int64', id=None),\n",
              " 'article_title': Value(dtype='string', id=None),\n",
              " 'article_body': Value(dtype='string', id=None),\n",
              " 'question': Value(dtype='string', id=None),\n",
              " 'context': {'end': Value(dtype='int64', id=None),\n",
              "  'start': Value(dtype='int64', id=None),\n",
              "  'text': Value(dtype='string', id=None)},\n",
              " 'answer': {'end': Value(dtype='int64', id=None),\n",
              "  'start': Value(dtype='int64', id=None),\n",
              "  'text': Value(dtype='string', id=None)},\n",
              " 'context_start': Value(dtype='int64', id=None),\n",
              " 'context_end': Value(dtype='int64', id=None),\n",
              " 'answer_start': Value(dtype='int64', id=None),\n",
              " 'answer_end': Value(dtype='int64', id=None),\n",
              " 'input_ids': Sequence(feature=Value(dtype='int32', id=None), length=-1, id=None),\n",
              " 'attention_mask': Sequence(feature=Value(dtype='int8', id=None), length=-1, id=None),\n",
              " 'offset_mapping': Sequence(feature=Sequence(feature=Value(dtype='int64', id=None), length=-1, id=None), length=-1, id=None),\n",
              " 'overflow_to_sample_mapping': Value(dtype='int64', id=None),\n",
              " 'start_positions': Value(dtype='int64', id=None),\n",
              " 'end_positions': Value(dtype='int64', id=None)}"
            ]
          },
          "metadata": {},
          "execution_count": 64
        }
      ]
    },
    {
      "cell_type": "markdown",
      "source": [
        "## Dataset Splitting"
      ],
      "metadata": {
        "id": "c5NOLjCS7wYY"
      }
    },
    {
      "cell_type": "code",
      "source": [
        "train_dataset = tokenized_dataset[\"train\"]\n",
        "val_dataset = tokenized_dataset[\"validation\"]\n",
        "\n",
        "train_dataset"
      ],
      "metadata": {
        "id": "gqZN7rgM705O",
        "colab": {
          "base_uri": "https://localhost:8080/"
        },
        "outputId": "31602298-4b42-4c2d-8747-9bce2488c074"
      },
      "execution_count": 65,
      "outputs": [
        {
          "output_type": "execute_result",
          "data": {
            "text/plain": [
              "Dataset({\n",
              "    features: ['id', 'article_id', 'article_title', 'article_body', 'question', 'context', 'answer', 'context_start', 'context_end', 'answer_start', 'answer_end', 'input_ids', 'attention_mask', 'offset_mapping', 'overflow_to_sample_mapping', 'start_positions', 'end_positions'],\n",
              "    num_rows: 19340\n",
              "})"
            ]
          },
          "metadata": {},
          "execution_count": 65
        }
      ]
    },
    {
      "cell_type": "markdown",
      "source": [
        "# **Model Training**"
      ],
      "metadata": {
        "id": "k_fiMlMM8SMt"
      }
    },
    {
      "cell_type": "markdown",
      "source": [
        "## Load Pre-Trained RoBERTa"
      ],
      "metadata": {
        "id": "uSTMRkFf8GgD"
      }
    },
    {
      "cell_type": "code",
      "source": [
        "model = XLMRobertaForQuestionAnswering.from_pretrained(\"xlm-roberta-base\")\n"
      ],
      "metadata": {
        "id": "6NttjYb58RG5",
        "colab": {
          "base_uri": "https://localhost:8080/",
          "height": 84,
          "referenced_widgets": [
            "fe04bbbb7069469ea77a10f53f0c893f",
            "810e87b0b4e4466db85c3e457a5700f3",
            "facfda0f98dd4b8e88450a2bc6cf1140",
            "f7c2ce5201be49dfb3615f0232a9b2f2",
            "0176f08b2bef4e70a904787691f7264f",
            "57ee4895e3d048dbac15bfa8c7169778",
            "e9a145123b994eb185c011c4d6b05f75",
            "84c5399c320f46bcaeee1da8de7da43c",
            "be3a9724e7a3439daf049dd2e92ba03b",
            "261e21adb65940fbbbe40453b3fba30f",
            "be454d54e1954ef88a5db2e635aeb1f9"
          ]
        },
        "outputId": "5d380f89-2849-4044-f54b-2422230915c8"
      },
      "execution_count": 66,
      "outputs": [
        {
          "output_type": "display_data",
          "data": {
            "text/plain": [
              "model.safetensors:   0%|          | 0.00/1.12G [00:00<?, ?B/s]"
            ],
            "application/vnd.jupyter.widget-view+json": {
              "version_major": 2,
              "version_minor": 0,
              "model_id": "fe04bbbb7069469ea77a10f53f0c893f"
            }
          },
          "metadata": {}
        },
        {
          "output_type": "stream",
          "name": "stderr",
          "text": [
            "Some weights of XLMRobertaForQuestionAnswering were not initialized from the model checkpoint at xlm-roberta-base and are newly initialized: ['qa_outputs.bias', 'qa_outputs.weight']\n",
            "You should probably TRAIN this model on a down-stream task to be able to use it for predictions and inference.\n"
          ]
        }
      ]
    },
    {
      "cell_type": "markdown",
      "source": [
        "## Early Stopping"
      ],
      "metadata": {
        "id": "Y4RupQI5LpfL"
      }
    },
    {
      "cell_type": "code",
      "source": [
        "# Early stopping parameters\n",
        "early_stopping_callback = EarlyStoppingCallback(\n",
        "    early_stopping_patience=2,  # Number of evaluations with no improvement before stopping\n",
        "    early_stopping_threshold=0.0  # Minimum change in the metric to qualify as an improvement\n",
        ")"
      ],
      "metadata": {
        "id": "ANAgY7XdLrSc"
      },
      "execution_count": 75,
      "outputs": []
    },
    {
      "cell_type": "markdown",
      "source": [
        "## Training Argument"
      ],
      "metadata": {
        "id": "aWmbCFT-8azK"
      }
    },
    {
      "cell_type": "code",
      "source": [
        "BATCH_TIMESTAMP = timestamp()\n",
        "training_args = TrainingArguments(\n",
        "    output_dir = get_output_directory(),\n",
        "    eval_strategy=\"epoch\",\n",
        "    save_strategy=\"epoch\",\n",
        "    load_best_model_at_end=True,\n",
        "    learning_rate=2e-5,\n",
        "    per_device_train_batch_size=8,\n",
        "    per_device_eval_batch_size=8,\n",
        "    num_train_epochs=10,\n",
        "    weight_decay=0.01,\n",
        "    logging_dir=get_logs_directory(),\n",
        "    logging_steps=10,\n",
        "    save_total_limit=2,\n",
        ")"
      ],
      "metadata": {
        "id": "LocPRn5l8N3e"
      },
      "execution_count": 103,
      "outputs": []
    },
    {
      "cell_type": "markdown",
      "source": [
        "## Trainer"
      ],
      "metadata": {
        "id": "c0kvzyHf82Ix"
      }
    },
    {
      "cell_type": "code",
      "source": [
        "trainer = Trainer(\n",
        "    model=model,\n",
        "    args=training_args,\n",
        "    train_dataset=train_dataset,\n",
        "    eval_dataset=val_dataset,\n",
        "    callbacks=[early_stopping_callback]\n",
        ")\n"
      ],
      "metadata": {
        "id": "bNg7cZ0z886H"
      },
      "execution_count": 104,
      "outputs": []
    },
    {
      "cell_type": "markdown",
      "source": [
        "## Saving the fine-tuned model"
      ],
      "metadata": {
        "id": "8itLpG1S9FBZ"
      }
    },
    {
      "cell_type": "code",
      "source": [
        "trainer.train()\n",
        "model.save_pretrained(get_model_directory())\n",
        "tokenizer.save_pretrained(get_output_directory())"
      ],
      "metadata": {
        "id": "OZ34GLU19Een"
      },
      "execution_count": null,
      "outputs": []
    },
    {
      "cell_type": "markdown",
      "source": [
        "# **Evaluating the model**"
      ],
      "metadata": {
        "id": "85j__wkg9Mny"
      }
    },
    {
      "cell_type": "markdown",
      "source": [
        "## Evaluating"
      ],
      "metadata": {
        "id": "KPv14zFU9Pye"
      }
    },
    {
      "cell_type": "code",
      "source": [
        "results = trainer.evaluate()\n",
        "print(results)"
      ],
      "metadata": {
        "id": "nR-Fb2gu9SkR"
      },
      "execution_count": null,
      "outputs": []
    },
    {
      "cell_type": "markdown",
      "source": [
        "## Inference"
      ],
      "metadata": {
        "id": "HryRtAmv9T8p"
      }
    },
    {
      "cell_type": "code",
      "source": [
        "inputs = tokenizer(\"Your input text here\", return_tensors=\"pt\", truncation=True, padding=\"max_length\")\n",
        "outputs = model(**inputs)\n",
        "logits = outputs.logits\n",
        "predicted_class = logits.argmax().item()\n",
        "print(f\"Predicted class: {predicted_class}\")"
      ],
      "metadata": {
        "id": "36M64RE79TuC"
      },
      "execution_count": null,
      "outputs": []
    }
  ]
}