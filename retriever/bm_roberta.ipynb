{
  "cells": [
    {
      "cell_type": "markdown",
      "metadata": {
        "colab_type": "text",
        "id": "view-in-github"
      },
      "source": [
        "<a href=\"https://colab.research.google.com/github/jtlagumbay/cebqa/blob/main/retriever/bm_roberta.ipynb\" target=\"_parent\"><img src=\"https://colab.research.google.com/assets/colab-badge.svg\" alt=\"Open In Colab\"/></a>"
      ]
    },
    {
      "cell_type": "markdown",
      "metadata": {
        "id": "otq_L0hL6e2P"
      },
      "source": [
        "# **QA Pipeline**\n",
        "\n",
        "1. ElasticSeach Indexer\n",
        "2. BM25 Retriever\n",
        "3. Fine-tuned XLMR Reader\n"
      ]
    },
    {
      "cell_type": "markdown",
      "metadata": {
        "id": "sOvUOWAOgjQj"
      },
      "source": [
        "# Dependencies"
      ]
    },
    {
      "cell_type": "code",
      "execution_count": 6,
      "metadata": {
        "colab": {
          "base_uri": "https://localhost:8080/",
          "height": 1000
        },
        "id": "aPzhJswwfHQZ",
        "outputId": "e43e011d-b45f-4336-aef7-20a1fe2fddac"
      },
      "outputs": [
        {
          "name": "stdout",
          "output_type": "stream",
          "text": [
            "Requirement already satisfied: elasticsearch in /usr/local/lib/python3.10/site-packages (8.17.2)\n",
            "Requirement already satisfied: transformers in /usr/local/lib/python3.10/site-packages (4.46.2)\n",
            "Requirement already satisfied: datasets in /usr/local/lib/python3.10/site-packages (3.1.0)\n",
            "Requirement already satisfied: evaluate in /usr/local/lib/python3.10/site-packages (0.4.3)\n",
            "Requirement already satisfied: rank_bm25 in /usr/local/lib/python3.10/site-packages (0.2.2)\n",
            "Requirement already satisfied: nltk in /usr/local/lib/python3.10/site-packages (3.9.1)\n",
            "Requirement already satisfied: fuzzywuzzy in /usr/local/lib/python3.10/site-packages (0.18.0)\n",
            "Requirement already satisfied: sentence_transformers in /usr/local/lib/python3.10/site-packages (3.2.1)\n",
            "Collecting numpy==1.26.4\n",
            "  Using cached numpy-1.26.4-cp310-cp310-macosx_10_9_x86_64.whl.metadata (61 kB)\n",
            "Requirement already satisfied: elastic-transport<9,>=8.15.1 in /usr/local/lib/python3.10/site-packages (from elasticsearch) (8.17.1)\n",
            "Requirement already satisfied: filelock in /usr/local/lib/python3.10/site-packages (from transformers) (3.16.1)\n",
            "Requirement already satisfied: huggingface-hub<1.0,>=0.23.2 in /usr/local/lib/python3.10/site-packages (from transformers) (0.26.2)\n",
            "Requirement already satisfied: packaging>=20.0 in /Users/jhoannaricalagumbay/Library/Python/3.10/lib/python/site-packages (from transformers) (24.2)\n",
            "Requirement already satisfied: pyyaml>=5.1 in /usr/local/lib/python3.10/site-packages (from transformers) (6.0.2)\n",
            "Requirement already satisfied: regex!=2019.12.17 in /usr/local/lib/python3.10/site-packages (from transformers) (2024.11.6)\n",
            "Requirement already satisfied: requests in /usr/local/lib/python3.10/site-packages (from transformers) (2.32.3)\n",
            "Requirement already satisfied: safetensors>=0.4.1 in /usr/local/lib/python3.10/site-packages (from transformers) (0.4.5)\n",
            "Requirement already satisfied: tokenizers<0.21,>=0.20 in /usr/local/lib/python3.10/site-packages (from transformers) (0.20.3)\n",
            "Requirement already satisfied: tqdm>=4.27 in /usr/local/lib/python3.10/site-packages (from transformers) (4.67.0)\n",
            "Requirement already satisfied: pyarrow>=15.0.0 in /usr/local/lib/python3.10/site-packages (from datasets) (18.0.0)\n",
            "Requirement already satisfied: dill<0.3.9,>=0.3.0 in /usr/local/lib/python3.10/site-packages (from datasets) (0.3.8)\n",
            "Requirement already satisfied: pandas in /usr/local/lib/python3.10/site-packages (from datasets) (2.2.3)\n",
            "Requirement already satisfied: xxhash in /usr/local/lib/python3.10/site-packages (from datasets) (3.5.0)\n",
            "Requirement already satisfied: multiprocess<0.70.17 in /usr/local/lib/python3.10/site-packages (from datasets) (0.70.16)\n",
            "Requirement already satisfied: fsspec<=2024.9.0,>=2023.1.0 in /usr/local/lib/python3.10/site-packages (from fsspec[http]<=2024.9.0,>=2023.1.0->datasets) (2024.9.0)\n",
            "Requirement already satisfied: aiohttp in /usr/local/lib/python3.10/site-packages (from datasets) (3.10.10)\n",
            "Requirement already satisfied: click in /usr/local/lib/python3.10/site-packages (from nltk) (8.1.7)\n",
            "Requirement already satisfied: joblib in /usr/local/lib/python3.10/site-packages (from nltk) (1.4.2)\n",
            "Requirement already satisfied: torch>=1.11.0 in /usr/local/lib/python3.10/site-packages (from sentence_transformers) (2.2.2)\n",
            "Requirement already satisfied: scikit-learn in /usr/local/lib/python3.10/site-packages (from sentence_transformers) (1.5.2)\n",
            "Requirement already satisfied: scipy in /usr/local/lib/python3.10/site-packages (from sentence_transformers) (1.14.1)\n",
            "Requirement already satisfied: Pillow in /usr/local/lib/python3.10/site-packages (from sentence_transformers) (11.0.0)\n",
            "Requirement already satisfied: urllib3<3,>=1.26.2 in /usr/local/lib/python3.10/site-packages (from elastic-transport<9,>=8.15.1->elasticsearch) (2.2.3)\n",
            "Requirement already satisfied: certifi in /usr/local/lib/python3.10/site-packages (from elastic-transport<9,>=8.15.1->elasticsearch) (2024.8.30)\n",
            "Requirement already satisfied: aiohappyeyeballs>=2.3.0 in /usr/local/lib/python3.10/site-packages (from aiohttp->datasets) (2.4.3)\n",
            "Requirement already satisfied: aiosignal>=1.1.2 in /usr/local/lib/python3.10/site-packages (from aiohttp->datasets) (1.3.1)\n",
            "Requirement already satisfied: attrs>=17.3.0 in /usr/local/lib/python3.10/site-packages (from aiohttp->datasets) (24.2.0)\n",
            "Requirement already satisfied: frozenlist>=1.1.1 in /usr/local/lib/python3.10/site-packages (from aiohttp->datasets) (1.5.0)\n",
            "Requirement already satisfied: multidict<7.0,>=4.5 in /usr/local/lib/python3.10/site-packages (from aiohttp->datasets) (6.1.0)\n",
            "Requirement already satisfied: yarl<2.0,>=1.12.0 in /usr/local/lib/python3.10/site-packages (from aiohttp->datasets) (1.17.1)\n",
            "Requirement already satisfied: async-timeout<5.0,>=4.0 in /usr/local/lib/python3.10/site-packages (from aiohttp->datasets) (4.0.3)\n",
            "Requirement already satisfied: typing-extensions>=3.7.4.3 in /Users/jhoannaricalagumbay/Library/Python/3.10/lib/python/site-packages (from huggingface-hub<1.0,>=0.23.2->transformers) (4.12.2)\n",
            "Requirement already satisfied: charset-normalizer<4,>=2 in /usr/local/lib/python3.10/site-packages (from requests->transformers) (3.4.0)\n",
            "Requirement already satisfied: idna<4,>=2.5 in /usr/local/lib/python3.10/site-packages (from requests->transformers) (3.10)\n",
            "Requirement already satisfied: sympy in /usr/local/lib/python3.10/site-packages (from torch>=1.11.0->sentence_transformers) (1.13.3)\n",
            "Requirement already satisfied: networkx in /usr/local/lib/python3.10/site-packages (from torch>=1.11.0->sentence_transformers) (3.4.2)\n",
            "Requirement already satisfied: jinja2 in /usr/local/lib/python3.10/site-packages (from torch>=1.11.0->sentence_transformers) (3.1.4)\n",
            "Requirement already satisfied: python-dateutil>=2.8.2 in /Users/jhoannaricalagumbay/Library/Python/3.10/lib/python/site-packages (from pandas->datasets) (2.9.0.post0)\n",
            "Requirement already satisfied: pytz>=2020.1 in /usr/local/lib/python3.10/site-packages (from pandas->datasets) (2024.2)\n",
            "Requirement already satisfied: tzdata>=2022.7 in /usr/local/lib/python3.10/site-packages (from pandas->datasets) (2024.2)\n",
            "Requirement already satisfied: threadpoolctl>=3.1.0 in /usr/local/lib/python3.10/site-packages (from scikit-learn->sentence_transformers) (3.5.0)\n",
            "Requirement already satisfied: six>=1.5 in /Users/jhoannaricalagumbay/Library/Python/3.10/lib/python/site-packages (from python-dateutil>=2.8.2->pandas->datasets) (1.16.0)\n",
            "Requirement already satisfied: propcache>=0.2.0 in /usr/local/lib/python3.10/site-packages (from yarl<2.0,>=1.12.0->aiohttp->datasets) (0.2.0)\n",
            "Requirement already satisfied: MarkupSafe>=2.0 in /usr/local/lib/python3.10/site-packages (from jinja2->torch>=1.11.0->sentence_transformers) (3.0.2)\n",
            "Requirement already satisfied: mpmath<1.4,>=1.1.0 in /usr/local/lib/python3.10/site-packages (from sympy->torch>=1.11.0->sentence_transformers) (1.3.0)\n",
            "Downloading numpy-1.26.4-cp310-cp310-macosx_10_9_x86_64.whl (20.6 MB)\n",
            "\u001b[2K   \u001b[90m━━━━━━━━━━━━━━━━━━━━━━━━━━━━━━━━━━━━━━━━\u001b[0m \u001b[32m20.6/20.6 MB\u001b[0m \u001b[31m3.3 MB/s\u001b[0m eta \u001b[36m0:00:00\u001b[0m00:01\u001b[0m00:01\u001b[0m\n",
            "\u001b[?25hInstalling collected packages: numpy\n",
            "  Attempting uninstall: numpy\n",
            "    Found existing installation: numpy 2.1.3\n",
            "    Uninstalling numpy-2.1.3:\n",
            "      Successfully uninstalled numpy-2.1.3\n",
            "Successfully installed numpy-1.26.4\n",
            "\n",
            "\u001b[1m[\u001b[0m\u001b[34;49mnotice\u001b[0m\u001b[1;39;49m]\u001b[0m\u001b[39;49m A new release of pip is available: \u001b[0m\u001b[31;49m24.2\u001b[0m\u001b[39;49m -> \u001b[0m\u001b[32;49m25.0.1\u001b[0m\n",
            "\u001b[1m[\u001b[0m\u001b[34;49mnotice\u001b[0m\u001b[1;39;49m]\u001b[0m\u001b[39;49m To update, run: \u001b[0m\u001b[32;49mpython3.10 -m pip install --upgrade pip\u001b[0m\n",
            "Note: you may need to restart the kernel to use updated packages.\n"
          ]
        }
      ],
      "source": [
        "pip install elasticsearch transformers datasets evaluate rank_bm25 nltk fuzzywuzzy sentence_transformers numpy==1.26.4\n"
      ]
    },
    {
      "cell_type": "code",
      "execution_count": 31,
      "metadata": {},
      "outputs": [
        {
          "name": "stdout",
          "output_type": "stream",
          "text": [
            "Collecting numpy==1.26.4\n",
            "  Downloading numpy-1.26.4-cp310-cp310-macosx_10_9_x86_64.whl.metadata (61 kB)\n",
            "Downloading numpy-1.26.4-cp310-cp310-macosx_10_9_x86_64.whl (20.6 MB)\n",
            "\u001b[2K   \u001b[90m━━━━━━━━━━━━━━━━━━━━━━━━━━━━━━━━━━━━━━━━\u001b[0m \u001b[32m20.6/20.6 MB\u001b[0m \u001b[31m44.6 MB/s\u001b[0m eta \u001b[36m0:00:00\u001b[0ma \u001b[36m0:00:01\u001b[0m\n",
            "\u001b[?25hInstalling collected packages: numpy\n",
            "  Attempting uninstall: numpy\n",
            "    Found existing installation: numpy 2.2.4\n",
            "    Uninstalling numpy-2.2.4:\n",
            "      Successfully uninstalled numpy-2.2.4\n",
            "Successfully installed numpy-1.26.4\n",
            "\n",
            "\u001b[1m[\u001b[0m\u001b[34;49mnotice\u001b[0m\u001b[1;39;49m]\u001b[0m\u001b[39;49m A new release of pip is available: \u001b[0m\u001b[31;49m24.2\u001b[0m\u001b[39;49m -> \u001b[0m\u001b[32;49m25.0.1\u001b[0m\n",
            "\u001b[1m[\u001b[0m\u001b[34;49mnotice\u001b[0m\u001b[1;39;49m]\u001b[0m\u001b[39;49m To update, run: \u001b[0m\u001b[32;49mpython3.10 -m pip install --upgrade pip\u001b[0m\n",
            "Note: you may need to restart the kernel to use updated packages.\n"
          ]
        }
      ],
      "source": [
        "pip install --upgrade --no-cache-dir numpy==1.26.4"
      ]
    },
    {
      "cell_type": "code",
      "execution_count": 30,
      "metadata": {},
      "outputs": [
        {
          "name": "stdout",
          "output_type": "stream",
          "text": [
            "Looking in indexes: https://download.pytorch.org/whl/cpu\n",
            "Requirement already satisfied: torch in /usr/local/lib/python3.10/site-packages (2.2.2)\n",
            "Collecting torchvision\n",
            "  Downloading https://download.pytorch.org/whl/cpu/torchvision-0.17.2-cp310-cp310-macosx_10_13_x86_64.whl (1.7 MB)\n",
            "\u001b[2K     \u001b[90m━━━━━━━━━━━━━━━━━━━━━━━━━━━━━━━━━━━━━━━━\u001b[0m \u001b[32m1.7/1.7 MB\u001b[0m \u001b[31m2.3 MB/s\u001b[0m eta \u001b[36m0:00:00\u001b[0ma \u001b[36m0:00:01\u001b[0m\n",
            "\u001b[?25hCollecting torchaudio\n",
            "  Downloading https://download.pytorch.org/whl/cpu/torchaudio-2.2.2-cp310-cp310-macosx_10_13_x86_64.whl (3.4 MB)\n",
            "\u001b[2K     \u001b[90m━━━━━━━━━━━━━━━━━━━━━━━━━━━━━━━━━━━━━━━━\u001b[0m \u001b[32m3.4/3.4 MB\u001b[0m \u001b[31m3.7 MB/s\u001b[0m eta \u001b[36m0:00:00\u001b[0ma \u001b[36m0:00:01\u001b[0m\n",
            "\u001b[?25hRequirement already satisfied: filelock in /usr/local/lib/python3.10/site-packages (from torch) (3.16.1)\n",
            "Requirement already satisfied: typing-extensions>=4.8.0 in /Users/jhoannaricalagumbay/Library/Python/3.10/lib/python/site-packages (from torch) (4.12.2)\n",
            "Requirement already satisfied: sympy in /usr/local/lib/python3.10/site-packages (from torch) (1.13.3)\n",
            "Requirement already satisfied: networkx in /usr/local/lib/python3.10/site-packages (from torch) (3.4.2)\n",
            "Requirement already satisfied: jinja2 in /usr/local/lib/python3.10/site-packages (from torch) (3.1.4)\n",
            "Requirement already satisfied: fsspec in /usr/local/lib/python3.10/site-packages (from torch) (2024.9.0)\n",
            "Requirement already satisfied: numpy in /usr/local/lib/python3.10/site-packages (from torchvision) (2.2.4)\n",
            "Requirement already satisfied: pillow!=8.3.*,>=5.3.0 in /usr/local/lib/python3.10/site-packages (from torchvision) (11.0.0)\n",
            "Requirement already satisfied: MarkupSafe>=2.0 in /usr/local/lib/python3.10/site-packages (from jinja2->torch) (3.0.2)\n",
            "Requirement already satisfied: mpmath<1.4,>=1.1.0 in /usr/local/lib/python3.10/site-packages (from sympy->torch) (1.3.0)\n",
            "Installing collected packages: torchvision, torchaudio\n",
            "Successfully installed torchaudio-2.2.2 torchvision-0.17.2\n",
            "\n",
            "\u001b[1m[\u001b[0m\u001b[34;49mnotice\u001b[0m\u001b[1;39;49m]\u001b[0m\u001b[39;49m A new release of pip is available: \u001b[0m\u001b[31;49m24.2\u001b[0m\u001b[39;49m -> \u001b[0m\u001b[32;49m25.0.1\u001b[0m\n",
            "\u001b[1m[\u001b[0m\u001b[34;49mnotice\u001b[0m\u001b[1;39;49m]\u001b[0m\u001b[39;49m To update, run: \u001b[0m\u001b[32;49mpython3.10 -m pip install --upgrade pip\u001b[0m\n",
            "Note: you may need to restart the kernel to use updated packages.\n"
          ]
        }
      ],
      "source": [
        "pip install torch torchvision torchaudio --index-url https://download.pytorch.org/whl/cpu"
      ]
    },
    {
      "cell_type": "code",
      "execution_count": 2,
      "metadata": {
        "colab": {
          "base_uri": "https://localhost:8080/"
        },
        "id": "q2596jflKFZi",
        "outputId": "6d38fec9-fa24-450e-8973-440e61c9aaad"
      },
      "outputs": [
        {
          "name": "stdout",
          "output_type": "stream",
          "text": [
            "Mounted at /content/drive\n"
          ]
        }
      ],
      "source": [
        "from google.colab import drive\n",
        "drive.mount('/content/drive')"
      ]
    },
    {
      "cell_type": "code",
      "execution_count": 1,
      "metadata": {
        "colab": {
          "base_uri": "https://localhost:8080/"
        },
        "id": "PsSNcnLVgh98",
        "outputId": "4a3619eb-a756-448b-b0fb-7c6160870e73"
      },
      "outputs": [
        {
          "name": "stderr",
          "output_type": "stream",
          "text": [
            "/usr/local/lib/python3.10/site-packages/tqdm/auto.py:21: TqdmWarning: IProgress not found. Please update jupyter and ipywidgets. See https://ipywidgets.readthedocs.io/en/stable/user_install.html\n",
            "  from .autonotebook import tqdm as notebook_tqdm\n",
            "/usr/local/lib/python3.10/site-packages/fuzzywuzzy/fuzz.py:11: UserWarning: Using slow pure-python SequenceMatcher. Install python-Levenshtein to remove this warning\n",
            "  warnings.warn('Using slow pure-python SequenceMatcher. Install python-Levenshtein to remove this warning')\n",
            "[nltk_data] Downloading package punkt to\n",
            "[nltk_data]     /Users/jhoannaricalagumbay/nltk_data...\n",
            "[nltk_data]   Package punkt is already up-to-date!\n",
            "[nltk_data] Downloading package punkt_tab to\n",
            "[nltk_data]     /Users/jhoannaricalagumbay/nltk_data...\n",
            "[nltk_data]   Package punkt_tab is already up-to-date!\n"
          ]
        },
        {
          "data": {
            "text/plain": [
              "True"
            ]
          },
          "execution_count": 1,
          "metadata": {},
          "output_type": "execute_result"
        }
      ],
      "source": [
        "from elasticsearch import Elasticsearch\n",
        "from elasticsearch.helpers import bulk\n",
        "import json\n",
        "import os\n",
        "import subprocess\n",
        "import time\n",
        "import pandas as pd\n",
        "import requests\n",
        "from transformers import pipeline, AutoModelForQuestionAnswering, AutoTokenizer\n",
        "from datasets import Dataset, load_dataset\n",
        "import re\n",
        "from evaluate import load\n",
        "from rank_bm25 import BM25Okapi\n",
        "from nltk.tokenize import word_tokenize\n",
        "from fuzzywuzzy import fuzz\n",
        "import nltk\n",
        "import random\n",
        "import numpy as np\n",
        "from sentence_transformers import SentenceTransformer, util\n",
        "import torch\n",
        "from nltk.tokenize import sent_tokenize\n",
        "\n",
        "\n",
        "nltk.download('punkt')\n",
        "nltk.download('punkt_tab')"
      ]
    },
    {
      "cell_type": "code",
      "execution_count": 2,
      "metadata": {
        "id": "ppd3LkTdLVbR"
      },
      "outputs": [],
      "source": [
        "CEBQA_DATASET = \"jhoannarica/cebquad\"\n",
        "# ELASTIC_URL = \"https://tender-separately-mudfish.ngrok-free.app\"\n",
        "# CURRENT_MODEL = \"/content/drive/MyDrive/UP Files/IV - 2nd sem/CMSC 198.1/cebqa_roberta/xlmr/2025-03-15_09-36/model\"\n",
        "# CURRENT_TOKENIZER = \"/content/drive/MyDrive/UP Files/IV - 2nd sem/CMSC 198.1/cebqa_roberta/xlmr/2025-03-15_09-36/tokenizer\"\n",
        "CURRENT_MODEL = \"/Users/jhoannaricalagumbay/Library/CloudStorage/GoogleDrive-jtlagumbay@up.edu.ph/My Drive/UP Files/IV - 2nd sem/CMSC 198.1/cebqa_roberta/xlmr/2025-03-15_09-36/model\"\n",
        "CURRENT_TOKENIZER = \"/Users/jhoannaricalagumbay/Library/CloudStorage/GoogleDrive-jtlagumbay@up.edu.ph/My Drive/UP Files/IV - 2nd sem/CMSC 198.1/cebqa_roberta/xlmr/2025-03-15_09-36/tokenizer\"\n",
        "ELASTIC_URL = \"http://localhost:9200\"\n",
        "INDEX_NAME = \"superbalita\"\n",
        "K = 3"
      ]
    },
    {
      "cell_type": "markdown",
      "metadata": {
        "id": "v8h9VpP0gnfK"
      },
      "source": [
        "# Indexer\n",
        "\n",
        "Start ElasticSearch Locally:\n",
        "1. Start ES docker\n",
        "2. Start NGROK: `ngrok http --url=tender-separately-mudfish.ngrok-free.app 9200`\n"
      ]
    },
    {
      "cell_type": "code",
      "execution_count": 3,
      "metadata": {
        "colab": {
          "base_uri": "https://localhost:8080/"
        },
        "id": "fXMwFDbHvpi7",
        "outputId": "2a237dc7-90d5-44f1-e837-d917c89ccf32"
      },
      "outputs": [
        {
          "name": "stdout",
          "output_type": "stream",
          "text": [
            "{'Allow': 'GET,DELETE,HEAD', 'X-elastic-product': 'Elasticsearch', 'content-type': 'text/plain; charset=UTF-8', 'content-length': '0'}\n"
          ]
        }
      ],
      "source": [
        "headers = {\n",
        "    \"Origin\": \"https://colab.research.google.com\",\n",
        "     \"Content-Type\": \"application/json\",\n",
        "}\n",
        "\n",
        "response = requests.options(ELASTIC_URL, headers=headers)\n",
        "print(response.headers)\n"
      ]
    },
    {
      "cell_type": "code",
      "execution_count": 4,
      "metadata": {
        "colab": {
          "base_uri": "https://localhost:8080/"
        },
        "id": "tCzdjxWMGbQI",
        "outputId": "9cb080dd-fbf6-41fa-abf7-2a899f506f7e"
      },
      "outputs": [
        {
          "name": "stdout",
          "output_type": "stream",
          "text": [
            "{'name': '40645cf85c9d', 'cluster_name': 'docker-cluster', 'cluster_uuid': 'ST_2iQqITE-zmJCo8dlrnw', 'version': {'number': '8.17.2', 'build_flavor': 'default', 'build_type': 'docker', 'build_hash': '747663ddda3421467150de0e4301e8d4bc636b0c', 'build_date': '2025-02-05T22:10:57.067596412Z', 'build_snapshot': False, 'lucene_version': '9.12.0', 'minimum_wire_compatibility_version': '7.17.0', 'minimum_index_compatibility_version': '7.0.0'}, 'tagline': 'You Know, for Search'}\n"
          ]
        }
      ],
      "source": [
        "es = Elasticsearch([ELASTIC_URL], verify_certs=False, headers=headers)\n",
        "print(es.info())\n",
        "# try:\n",
        "#     print(es.transport.perform_request('GET', '/'))\n",
        "# except Exception as e:\n",
        "#     print(\"Error:\", e)"
      ]
    },
    {
      "cell_type": "code",
      "execution_count": 5,
      "metadata": {
        "id": "IACpNh6CgpD7"
      },
      "outputs": [],
      "source": [
        "class ElasticSearchIndexer:\n",
        "    def __init__(self, index_name=INDEX_NAME):\n",
        "        self.index_name = index_name\n",
        "        self.es = Elasticsearch(ELASTIC_URL)  # Ensure ES is running\n",
        "\n",
        "    def create_index(self):\n",
        "        \"\"\" Create an index with a text field for BM25 \"\"\"\n",
        "        if not self.es.indices.exists(index=self.index_name):\n",
        "            self.es.indices.create(index=self.index_name, body={\n",
        "                \"settings\": {\n",
        "                    \"number_of_shards\": 1,\n",
        "                    \"number_of_replicas\": 0\n",
        "                },\n",
        "                \"mappings\": {\n",
        "                    \"properties\": {\n",
        "                        \"id\": {\"type\": \"keyword\"},\n",
        "                        \"title\": {\"type\": \"text\"},\n",
        "                        \"body\": {\"type\": \"text\"}\n",
        "                    }\n",
        "                }\n",
        "            })\n",
        "            print(f\"Index '{self.index_name}' created.\")\n",
        "\n",
        "    def index_documents(self, documents):\n",
        "        \"\"\" Bulk index documents into ElasticSearch \"\"\"\n",
        "        actions = [\n",
        "            {\n",
        "                \"_index\": self.index_name,\n",
        "                \"_id\": doc[\"id\"],  # Use document ID for uniqueness\n",
        "                \"_source\": {\n",
        "                    \"id\": doc[\"id\"],\n",
        "                    \"title\": doc[\"pseudonymized_title\"],\n",
        "                    \"body\": doc[\"pseudonymized_body\"]\n",
        "                }\n",
        "            }\n",
        "            for doc in documents\n",
        "        ]\n",
        "        bulk(self.es, actions)\n",
        "        print(f\"Indexed {len(documents)} documents.\")\n",
        "\n",
        "    def index_from_csv(self, file_path):\n",
        "        df = pd.read_csv(file_path)\n",
        "        documents = df.to_dict(orient=\"records\")  # Convert DataFrame to a list of dicts\n",
        "        self.index_documents(documents)\n",
        "\n"
      ]
    },
    {
      "cell_type": "code",
      "execution_count": null,
      "metadata": {
        "id": "cNaD93tOiGnj"
      },
      "outputs": [],
      "source": [
        "# Sample usage\n",
        "# indexer = ElasticSearchIndexer()\n",
        "# indexer.create_index()\n",
        "# indexer.index_from_csv(\"/content/drive/MyDrive/UP Files/IV - 2nd sem/CMSC 198.1/cebqa_roberta/articles_dataset.csv\")"
      ]
    },
    {
      "cell_type": "markdown",
      "metadata": {
        "id": "LjVIRDtt2Kjh"
      },
      "source": [
        "# BM25"
      ]
    },
    {
      "cell_type": "code",
      "execution_count": 66,
      "metadata": {
        "id": "VWU0iGhM2Mr5"
      },
      "outputs": [],
      "source": [
        "class BM25Retriever:\n",
        "    def __init__(self, index_name=\"superbalita\"):\n",
        "        self.index_name = index_name\n",
        "        self.es = Elasticsearch(ELASTIC_URL)\n",
        "\n",
        "    def retrieve(self, query, top_k=3):\n",
        "        \"\"\" Retrieve top-k relevant documents using BM25 \"\"\"\n",
        "        print(f\"retrieving {top_k} docs for [{query}]\")\n",
        "        response = self.es.search(index=self.index_name, body={\n",
        "            \"query\": {\n",
        "                \"match\": {\n",
        "                    \"body\": query\n",
        "                }\n",
        "            },\n",
        "            \"size\": top_k\n",
        "        })\n",
        "        return [hit[\"_source\"] for hit in response[\"hits\"][\"hits\"]]\n",
        "\n",
        "    def retrieve_batch(self, queries, top_k=3):\n",
        "        \"\"\" Retrieve top-k relevant documents for multiple queries using BM25 in batch mode \"\"\"\n",
        "        if not isinstance(queries, list):\n",
        "            raise ValueError(\"queries should be a list of strings\")\n",
        "\n",
        "        # Multi-search request body\n",
        "        request_body = \"\"\n",
        "        for query in queries:\n",
        "            request_body += f'{{\"index\": \"{self.index_name}\"}}\\n'  # Metadata\n",
        "            request_body += f'{{\"query\": {{\"match\": {{\"body\": \"{query}\"}}}}, \"size\": {top_k}}}\\n'  # Query\n",
        "\n",
        "        # Send multi-search request\n",
        "        response = self.es.msearch(body=request_body)\n",
        "\n",
        "        # Extract results\n",
        "        results = []\n",
        "        for query_response in response[\"responses\"]:\n",
        "            retrieved_docs = [hit[\"_source\"] for hit in query_response[\"hits\"][\"hits\"]]\n",
        "            results.append(retrieved_docs)\n",
        "\n",
        "        return results  # List of lists, where each sublist contains retrieved documents for a query\n",
        "\n",
        "    def retrieve_batch_query_dict(self, queries_list, top_k=3):\n",
        "        \"\"\" Retrieve top-k relevant documents for multiple queries using BM25 in batch mode.\n",
        "\n",
        "        Args:\n",
        "            queries_list (list): A list of dictionaries, each containing 'id' and 'question'.\n",
        "            top_k (int): Number of top relevant documents to retrieve per query.\n",
        "\n",
        "        Returns:\n",
        "            dict: A dictionary where keys are query IDs and values are lists of retrieved documents.\n",
        "        \"\"\"\n",
        "        if not isinstance(queries_list, list) or not all(isinstance(q, dict) and 'id' in q and 'question' in q for q in queries_list):\n",
        "            raise ValueError(\"queries_list should be a list of dictionaries with 'id' and 'question' keys\")\n",
        "\n",
        "        # Multi-search request body\n",
        "        request_body = \"\"\n",
        "        query_ids = []  # To track IDs in order\n",
        "        for query in queries_list:\n",
        "            query_ids.append(query[\"id\"])\n",
        "            request_body += f'{{\"index\": \"{self.index_name}\"}}\\n'  # Metadata\n",
        "            request_body += f'{{\"query\": {{\"match\": {{\"body\": \"{query[\"question\"]}\"}}}}, \"size\": {top_k}}}\\n'  # Query\n",
        "\n",
        "        # Send multi-search request\n",
        "        response = self.es.msearch(body=request_body)\n",
        "\n",
        "        # Extract results and associate with query IDs\n",
        "        results = []\n",
        "        for i, query_response in enumerate(response[\"responses\"]):\n",
        "            retrieved_docs = [hit[\"_source\"] for hit in query_response[\"hits\"][\"hits\"]]\n",
        "            results.append({\n",
        "                \"query_id\": str(query_ids[i]),\n",
        "                \"top_docs\": retrieved_docs\n",
        "            })\n",
        "\n",
        "        return results  # Dictionary format: {id: retrieved_docs}\n",
        "\n"
      ]
    },
    {
      "cell_type": "code",
      "execution_count": 67,
      "metadata": {
        "colab": {
          "base_uri": "https://localhost:8080/"
        },
        "id": "hsSSqnQt2rxX",
        "outputId": "1416527a-4eab-4f25-9f8d-868bb3b30254"
      },
      "outputs": [
        {
          "name": "stdout",
          "output_type": "stream",
          "text": [
            "retrieving 3 docs for [kanus-a ang palarong pambansa]\n",
            "Retrieved Documents: [{'id': 535, 'title': 'Palaro budget gikunhoran sa P262M gikan sa P405M', 'body': 'Gitugotan ni Cebu City Acting Mayor Jhonnylou Ghen Abalayan ang pagkunhod ngadto sa P262 milyunes gikan sa P405 milyunes ang gahin alang sa Palarong Pambansa 2024 sa Hulyo. Sa press conference sa Lunes, Hunyo 3, 2024, gibutyag ni Abalayan nga dugang budget appropriations alang sa pag-host sa Palarong Pambansa ang giputol, nga naglakip sa extension sa grandstand nga gitangtang na. “I have authorized only the charging of P262 million out of the P405 million. There is a cut of P143 million,” matod ni Abalayan. Si Abalayan niingon nga ang budget alang sa pagtukod sa grandstand extension mahimo pa nga maapil sa budget appropriations sa sunod tuig. Si Abalayan niingon usab nga iyang gius-usan ang budget alang sa side events gikan sa P60 milyunes ngadto sa P20 milyunes. Siya nidugang nga ang budget alang sa LED walls nga P135 milyunes gikibhangan og P50 milyunes. Sa sayo pa, gipahibawo usab ni Abalayan ang paglaslas sa budget sa portalets nga gikan sa P21 milyunes ngadto sa P3 milyunes na lang. Gihatagan niya og gibug-aton nga ang iyang mga direksyon alang sa Palaro nakatutok sa prayoridad. Apan, si Abalayan niingon nga dili siya makahatag og datus kon pila ang naputol gikan sa supplemental budget ug city budget appropriations. Niadtong Pebrero, giaprobahan sa Sangguniang Panlungsod ang unang supplemental budget para sa tuig 2024, nga naglakip sa hangyo alang sa dugang budget alang sa Palarong Pambansa nga mokabat sa P205 milyunes. Kini naglangkob sa pag-instalar sa LED outdoor-field lights sa CCSC nga mokabat sa P23 milyones, ang pagtukod ug pag-instalar sa digital-visual LED displays nga adunay support frames ug posts nga nagkantidad ug P135. 186 milyunes, ug ang grandstand extension nga nagkantidad ug P47 milyunes. Niadtong 2023, ang Kagamhanan sa Dakbayan nigahin og P200 milyunes alang sa rehabilitasyon sa Cebu City Sports Center (CCSC), nga gisirad-an niadtong Mayo sa samang tuig. Niadtong Mayo 2024, dugang P74 milyunes, nga labaw pa sa kinatibuk-ang P400 milyones nga gahin, ang gipangayo alang sa pagpamalit og mga bangko nga gamiton alang sa umaabot nga Palarong Pambansa 2024 karong Hulyo. / AML'}, {'id': 469, 'title': 'Seguridad sa Palaro gitutokan', 'body': 'Ning nagkaduol na ang Palarong Pambansa sa Hulyo 2024, ang kapulisan sa dakbayan sa Sugbo subsob na usab ang ilang pagpangandam subay sa paghatag sa hugot nga seguridad sa mga atleta uban sa mga delegado gikan sa lain-laing rehiyon sa Pilipinas. Matod ni Police Lieutenant Colonel Felisa Baculo, deputy city director for administration sa Cebu City Police Office (CCPO), nga nagtagbo na sa miaging semana ang kapulisan, representante sa kagamhanan sa dakbayan ug Department of Education aron hisgotan kon unsay mga angayan nga pangandaman sa maong dako nga kalihukan. Gibutyag ni Baculo nga nagkinahanglan gyud sila nga mopakatap og daghang mga police sa maong panahon tungod kay gilaoman nga tambongan kinig kapin sa 20,000 ka mga delegado wala pay labot niini ang mga pamilya sa mga atleta nga mouban kanila. Gitinguha sa kapulisan sa siyudad nga mahimong zero crime ang Palarong Pambansa nga tungod niini pabahaan og pulis ang venue lakip na ang billeting area diin didto mopuyo ang mga atleta. Usa sa ilang bantayan ang kawat ug uban pa sa mga butang sa mga delegado lakip na ang mga dayo nga mga kriminal gikan sa silingang rehiyon ug probinsya. “Gipanghingusgan gyud nato na nga wala ng ingon ana nga panghitabo, as much as possible we are hoping nga this will be a zero crime incident especially victimizing our participants. Kasi this is also a showcase of Cebu City, dako gyud kaayo na nga challenge sa amoa how to secure the guests, participants and others who would just like to watch the Palaro,” matod ni Baculo. Wala pa hinuon makahukom ang CCPO kon pila gyud ka police personnel ang gikinahanglan aron motabang sa seguridad sa Palarong Pambansa. Napanglantawan usab sa kapulisan nga modagsa ang mga turista sa maong panahon nga mouban sa mga atleta aron pahimuslan ang panahon sa pagsuroy sa mga tourist destination sa Central Visayas. Tungod niini, gipaalerto sa Police Regional Office (PRO) 7 ang tanang Tourist Police Unit sa rehiyon aron ang tanang tourist destinations mabantayan. Si Police Lieutenant Colonel Benben Leyson, information officer sa Bohol Police Provincial Office, nagkanayon nga dako ang posibilidad nga mobisita ang ubang mga turista sa Bohol. Matod niya, andam na sila sa kanunay sanglit ang ilang probinsya naila naman nga mao gyud ang suroyonon sa mga bisita gikan sa laing-laing lugar sa Pilipinas. / AYB'}, {'id': 382, 'title': 'Bag-ong track oval sa CCSC dunay ‘damage’', 'body': 'Usa lang ka semana human sa inagurasyon, ang bag-ong giayo nga P52-million nga rubberized track oval sa Cebu City Sports Center (CCSC) nagpakita og “minor damage,” nga nanghubag na ang pipila ka mga seksyon. Sa maong mga obserbasyon, ipasusi ni Cebu City Acting Mayor Jhonnylou Ghen Abalayan sa kontraktor ang kadaot ug ipaayo kini human sa Palarong Pambansa. Ang naasoy nga kadaot nag-aghat usab sa Palarong Pambansa 2024 Consultant Jeanette Obiena ug uban pang technical officials gikan sa nagkalain-laing partisipanteng rehiyon sa pagsusi sa track oval niadtong Dominggo sa hapon, Hulyo 7, 2024. Ang ginagmay nga kadaot ug pagburot sa rubberized track oval gituohang tungod sa ulan. Si Abalayan, sa pakighinabi sa telepono niadtong Dominggo, niingon nga ipaayo nila sa kontraktor ang mga depekto sa dili pa ihatag ang ilang kompletong bayad human sa Palarong Pambansa. “The contractor has not yet been paid, so we still have a hold of them,” matod ni Abalayan. “We will obviously have them repair it before we pay them,” dason n Abalayan. Dugang niya nga nag-ensayo na ang Palaro athletes sa CCSC, iya nang ipahimo ang repair human sa sports meet. Ang Palarong Pambansa ablihan sa Hulyo 9 samtang ang competition proper magsugod sa Hulyo 11. Ang closing ceremony ipahigayon usab sa CCSC karong Hulyo 16, 2024. Ang track and field ug uban pang athletics games ipahigayon sa CCSC. Ang SunStar Cebu nisuway sa pagkontak kang CCSC Manager Aldryn Buenavista alang sa dugang detalye sa natumbok nga danyos, apan ang mga tawag pabiling wa matubag hangtod sa oras sa press. Gihatag sa City Government ang rehabilitasyon sa rubberized oval track ngadto sa contractor nga SBD Builders niadtong Oktubre 30 samtang ang notice to proceed gihatag niadtong Enero 16, 2024. Niuyon ang kontraktor nga tapuson ang trabaho sibil sa 120 ka adlaw sa kalendaryo. Si Abalayan, sa miaging mga taho, nihatag og ultimatum sa kontraktor nga tapuson ang rehabilitasyon sa oval track sa Hunyo 21. Giinagurahan ug gilusad sa Siyudad ang bag-ong giayo nga CCSC, lakip ang oval track, niadtong Hunyo 27. Ang tagdumala sa CCSC sa sayo pa niingon nga buksan na usab ang pasilidad ngadto sa publiko karong Hulyo 18 human sa Palaro. Ang CCSC gisirad-an sa publiko niadtong Mayo 18, 2023 aron mahatagan og dalan ang renovation sa dul-an tulo ka dekada na nga pasilidad nga nahimutang sa luyo nga bahin sa Abellana National School sa Osmeña Blvd. Sa wala pa kini gisirad-an niadtong Mayo, ang CCSC nakakuha og average nga P60,000 nga kita kada adlaw. Ang oval track katapusang gi-renovate niadtong 2012 sa kantidad nga P40 milyunes. /JJL'}]\n"
          ]
        }
      ],
      "source": [
        "# Sample usage\n",
        "retriever = BM25Retriever()\n",
        "query = \"kanus-a ang palarong pambansa\"\n",
        "top_docs = retriever.retrieve(query)\n",
        "print(\"Retrieved Documents:\", top_docs)"
      ]
    },
    {
      "cell_type": "markdown",
      "metadata": {
        "id": "skwo3IpR3--n"
      },
      "source": [
        "# Reader"
      ]
    },
    {
      "cell_type": "code",
      "execution_count": null,
      "metadata": {
        "id": "ZAb9aRYL4AYY"
      },
      "outputs": [],
      "source": [
        "class Reader:\n",
        "    def __init__(\n",
        "        self,\n",
        "        model_path = CURRENT_MODEL,\n",
        "        tokenizer_path = CURRENT_TOKENIZER\n",
        "      ):\n",
        "        model_best = AutoModelForQuestionAnswering.from_pretrained(model_path)\n",
        "        tokenizer_best = AutoTokenizer.from_pretrained(tokenizer_path)\n",
        "\n",
        "        device = torch.device(\"mps\")\n",
        "        self.qa_pipeline = pipeline(\n",
        "            \"question-answering\", \n",
        "            model=model_best, \n",
        "            tokenizer=tokenizer_best,\n",
        "            device=device\n",
        "            )\n",
        "\n",
        "    def extract_answer_batch(self, queries_list, top_docs):\n",
        "        qa_dataset = Dataset.from_dict({\n",
        "          \"question\": [queries_list[\"question\"] for doc in top_docs['top_docs']] ,\n",
        "          \"context\": [doc['body'] for doc in top_docs['top_docs']]\n",
        "        })\n",
        "\n",
        "        return self.qa_pipeline(qa_dataset)\n",
        "\n",
        "    def extract_answer(self, question, documents, num_chunks = 1, overlap = 0.3):\n",
        "        \"\"\" Find the best answer from retrieved documents while keeping metadata \"\"\"\n",
        "        best_result = None\n",
        "        best_score = 0\n",
        "\n",
        "        for doc in documents:\n",
        "            if num_chunks == 1:\n",
        "                contexts = [doc[\"body\"]]\n",
        "            else:\n",
        "                contexts = self.chunk_text(doc[\"body\"],  num_chunks, overlap)\n",
        "\n",
        "            for context in contexts:\n",
        "            #   print(question)\n",
        "            #   print(context)\n",
        "              result = self.qa_pipeline(question=question, context = context)\n",
        "              if result[\"score\"] > best_score:\n",
        "                  best_result = {\n",
        "                      \"article_id\": doc[\"id\"],\n",
        "                      \"title\": doc[\"title\"],\n",
        "                      \"body\": doc[\"body\"],\n",
        "                      \"answer\": result[\"answer\"],\n",
        "                      \"score\": result[\"score\"]\n",
        "                  }\n",
        "                  best_score = result[\"score\"]\n",
        "\n",
        "        return best_result\n",
        "\n",
        "    def chunk_text(self, text, chunk_size=3, overlap=0.5):\n",
        "        sentences = sent_tokenize(text)  # Tokenize text into sentences\n",
        "        step = int(chunk_size * (1 - overlap))  # Overlapping step\n",
        "\n",
        "        chunks = []\n",
        "        for i in range(0, len(sentences), step):\n",
        "            chunk = sentences[i:i + chunk_size]\n",
        "            if not chunk: \n",
        "                continue\n",
        "            chunks.append(\" \".join(chunk)) \n",
        "\n",
        "        return chunks"
      ]
    },
    {
      "cell_type": "markdown",
      "metadata": {
        "id": "8burd_D9KK_E"
      },
      "source": [
        "# QA Pipeline"
      ]
    },
    {
      "cell_type": "code",
      "execution_count": 119,
      "metadata": {
        "id": "DdkmoxgOi9vo"
      },
      "outputs": [],
      "source": [
        "class QA:\n",
        "    def __init__(\n",
        "        self,\n",
        "        model_path = CURRENT_MODEL,\n",
        "        tokenizer_path = CURRENT_TOKENIZER,\n",
        "        dataset = CEBQA_DATASET,\n",
        "        index_name = INDEX_NAME,\n",
        "        elastic_url = ELASTIC_URL,\n",
        "        k = K,\n",
        "        sample = None,\n",
        "        isRandom = False,\n",
        "        overlap = 0.0, \n",
        "        num_chunks = 1\n",
        "      ):\n",
        "        reader = Reader(model_path=model_path, tokenizer_path=tokenizer_path)\n",
        "        retriever = BM25Retriever(index_name=index_name)\n",
        "        \n",
        "        self.model_path = model_path\n",
        "        self.tokenizer_path = tokenizer_path\n",
        "        self.reader = reader\n",
        "        self.retriever = retriever\n",
        "        self.dataset = load_dataset(dataset)[\"test\"]\n",
        "        self.sentence_transformer = SentenceTransformer(\"all-MiniLM-L6-v2\")\n",
        "        self.k = k\n",
        "        self.overlap = overlap\n",
        "        self.num_chunks = num_chunks\n",
        "        self.sample = sample\n",
        "        self.isRandom = isRandom\n",
        "        self.index_name = index_name\n",
        "\n",
        "        if sample is not None and isRandom:\n",
        "            indices = random.sample(range(len(self.dataset)), sample)\n",
        "            self.dataset = self.dataset.select(indices)\n",
        "        elif sample is not None and not isRandom:\n",
        "            self.dataset = self.dataset.select(range(sample))\n",
        "\n",
        "        self.run_top_docs_batch()\n",
        "\n",
        "    def run_top_docs_batch(self):\n",
        "        queries = [\n",
        "            {\n",
        "                \"id\": item['id'],\n",
        "                \"question\": item['question'],\n",
        "                \"context\": {\n",
        "                    \"text\": item['context']['text'],\n",
        "                    \"start\": item['context']['start']\n",
        "                }\n",
        "             }\n",
        "            for item in self.dataset\n",
        "          ]\n",
        "        self.top_docs = self.retriever.retrieve_batch_query_dict(\n",
        "            queries_list = queries,\n",
        "            top_k=self.k\n",
        "        )\n",
        "\n",
        "        return self.top_docs\n",
        "\n",
        "    def run(self):\n",
        "        start_time = time.time()\n",
        "        queries = [\n",
        "            {\n",
        "                \"id\": item['id'],\n",
        "                \"question\": item['question'],\n",
        "                \"context\": {\n",
        "                    \"text\": item['context']['text'],\n",
        "                    \"start\": item['context']['start']\n",
        "                },\n",
        "                \"answer\": item['answer']\n",
        "             }\n",
        "            for item in self.dataset\n",
        "          ]\n",
        "        \n",
        "\n",
        "        results = []\n",
        "\n",
        "        for index, query in enumerate(queries):\n",
        "          print(f\"{index} processing {query['id']}\")\n",
        "          docs = self.top_docs[index]['top_docs']\n",
        "        #   print([f\"{doc}\\n\" for doc in docs])\n",
        "          answer = self.reader.extract_answer(\n",
        "              question = query[\"question\"],\n",
        "              documents = docs,\n",
        "              num_chunks = self.num_chunks,\n",
        "              overlap= self.overlap\n",
        "          )\n",
        "        #   print(query[\"answer\"][\"text\"])\n",
        "        #   print(answer[\"answer\"])\n",
        "          result = query\n",
        "          result[\"pred\"] = answer\n",
        "          result[\"top_docs\"] = docs\n",
        "          results.append(result)\n",
        "\n",
        "        self.results = results\n",
        "\n",
        "        end_time = time.time()\n",
        "        self.stats ={\n",
        "            'run_time': end_time - start_time\n",
        "        }\n",
        "        return self.results\n",
        "\n",
        "\n",
        "    def normalize_text(self, text):\n",
        "        \"\"\"Lowercase and remove punctuation, articles, and extra whitespace.\"\"\"\n",
        "        text = text.lower()\n",
        "        text = re.sub(r'\\W+', ' ', text)  # Remove punctuation and special characters\n",
        "        text = re.sub(r'\\s+', ' ', text).strip()  # Remove extra whitespace\n",
        "        return text\n",
        "\n",
        "    def compute_similarity(self, text1, text2):\n",
        "        \"\"\"Compute cosine similarity between two texts using Sentence Transformers.\"\"\"\n",
        "        emb1 = self.sentence_transformer.encode(text1, convert_to_tensor=True)\n",
        "        emb2 = self.sentence_transformer.encode(text2, convert_to_tensor=True)\n",
        "        similarity = util.pytorch_cos_sim(emb1, emb2).item()  # Convert tensor to float\n",
        "        return similarity\n",
        "\n",
        "    def evaluate_batch(self):\n",
        "        pass\n",
        "\n",
        "    def evaluate(self):\n",
        "        pred = [\n",
        "          {\n",
        "              'id': result['id'],  # Convert ID to string\n",
        "              'prediction_text': self.normalize_text(result['pred']['answer'])\n",
        "          }\n",
        "          for result in self.results\n",
        "        ]\n",
        "\n",
        "        ref = [\n",
        "            {\n",
        "                'id': item['id'],  # Convert ID to string\n",
        "                'answers': {\n",
        "                    'text': [self.normalize_text(item['answer']['text'])],\n",
        "                    'answer_start': [item['answer']['start']]\n",
        "                }\n",
        "            }\n",
        "            for item in self.results\n",
        "        ]\n",
        "\n",
        "        # Load SQuAD metric\n",
        "        metric = load(\"squad\")\n",
        "\n",
        "        # Compute metric\n",
        "        res = metric.compute(predictions=pred, references=ref)\n",
        "        sentence_match_scores = [\n",
        "            p['prediction_text'] in r['answers']['text'][0] for p, r in zip(pred, ref)\n",
        "        ]\n",
        "\n",
        "        # Compute average sentence match score\n",
        "        avg_sentence_match = np.mean(sentence_match_scores)\n",
        "\n",
        "        # Combine results\n",
        "        res[\"sentence_match\"] = float(avg_sentence_match )\n",
        "        print(res)\n",
        "\n",
        "        self.config = {\n",
        "            'model_path': self.model_path,\n",
        "            'tokenizer_path': self.tokenizer_path,\n",
        "            'k': self.k,\n",
        "            'sample': self.sample,\n",
        "            'isRandom': self.isRandom,\n",
        "            'overlap': self.overlap,\n",
        "            'num_chunks': self.num_chunks\n",
        "        }\n",
        "        self.eval_res = res\n",
        "\n",
        "        return self.eval_res, self.config, self.stats"
      ]
    },
    {
      "cell_type": "code",
      "execution_count": 12,
      "metadata": {},
      "outputs": [
        {
          "name": "stdout",
          "output_type": "stream",
          "text": [
            "1.26.4\n",
            "[-0.18783537]\n"
          ]
        }
      ],
      "source": [
        "print(np.__version__)  # Check if NumPy is available\n",
        "print(torch.randn(1).numpy()) \n"
      ]
    },
    {
      "cell_type": "code",
      "execution_count": 120,
      "metadata": {
        "colab": {
          "base_uri": "https://localhost:8080/"
        },
        "id": "hJwSpyvvp_JZ",
        "outputId": "07542944-dd71-4497-8d69-aa7e1cbbc599"
      },
      "outputs": [],
      "source": [
        "qa = QA(sample=5, k = 1, overlap=0.0, num_chunks=2, isRandom=True)"
      ]
    },
    {
      "cell_type": "code",
      "execution_count": 121,
      "metadata": {},
      "outputs": [
        {
          "name": "stdout",
          "output_type": "stream",
          "text": [
            "0 processing 00200-018\n",
            "['Usa ka drug den nga nahimutang sa Sitio Tabay Lawum, Barangay Tisa, Siyudad sa Sugbo ang gibungkag sa mga sakop sa Philippine Drug Enforcement Agency (PDEA) 7 uban sa Regional Intelligence Unit sa Police Regional Office (PRO) 7, alas 6:25 sa hapon, Sabado, Agusto 24, 2024, nga niresulta sa pagkasikop sa tulo ka mga tawo. Nadakpan sa buy-bust ang ilang target nga mao usab ang nagpadagan sa balay suyopanan nga giila nga sila si Nolan Bigcas alyas Joshua, 42, nagmintinar sa suyopanan; Enan Biglang, 43, masahista; ug Junrex Siaboc Dalia, 38, drayber sa habalhabal.', 'Nasakmit sa mga sakop sa PDEA 7 ug PRO 7 ang 18 ka pakete sa gituohang shabu nga motimbang sa 16 gramos nga dunay estimated average market value P108,800 ug ang mga drug paraphernalia. Ang maong mga ebidensya gi-turnover na sa buhatan sa PDEA 7 alang sa himuon nga chemical analysis.', 'Matod ni Ason Agapay, information officer sa PDEA 7, usa ka buwan nila nga gipaubos sa case buildup si Bigcas human nila madawat ang kasayuran nga nagpadagan kinig suyopanan ug siya usab ang mamaligya sa illegal nga drugas. Giingong makabaligya ang suspetsado og 15 ngadto sa 20 gramos sa illegal nga drugas matag semana gikan sa iyang supplier.', 'Mag-atubang og daghang kaso si Bigcas sama sa drug pushing, pagpadagan og balay suyopanan ug paghupot og illegal nga drugas. Ang tulo pasakaan og kaso subay sa salaod nga ilang nahimo.', '/ AYB']\n",
            "1 processing 01034-011\n",
            "['Drug den sa Sityo Mangga, Barangay Calamba, dakbayan sa Sugbo gironda sa mga sakop Philippine Drug Enforcement Agency (PDEA 7) uban sa Regional ug Cebu City Intelligence Unit alas 8:05 sa gabii sa Martes, Pebrero 20, 2024. Tulo ka mga suspek ang nasikop lakip niini ang giingong caretaker sa drug den nga si Balbin Lastrollo, 51, way trabaho.', 'Nadakpan sab ang duha ka mga lalaki nga naabtan sulod sa drug den nga silang Garci Bulsico, 41, drayber sa habalhabal; ug Constantino Bunal III, 38, pulos taga Brgy. Calamba.', 'Moabot sa siyam ka mga pakete sa gituohang shabu ang nasakmit nga motimbang og 11. 6 gramos nga dunay balor nga P78,880.', 'Apil sa nakuha ang marked money, P650 nga gituohang halin ug nagkalainlaing drug paraphernalia. Matod ni Ason Agapay, information officer sa PDEA 7, nga nadawat nila ang impormasyon gikan sa kasaligang tinubdan labot sa operation sa drug den sa dapit.', '/ AYB']\n",
            "2 processing 00579-011\n",
            "['“Na-rescue” sa mga sakop sa Carbon Police Station ang usa ka grade 9 nga lalaki atol sa buy-bust alas 11:30 sa gabii sa Miyerkules, Mayo 22, 2024, sa Sitio Bato, Barangay Ermita, Dakbayan sa Sugbo. Si ‘Ran-ran’ (di tinuod ngan), 16, nagpuyo sa maong lugar, nakuhaan og 12 ka pakete sa gituohang shabu nga motimbang og .8 grams nga dunay standard drug price (SDP) nga P5,440.', 'Sa imbestigasyon sa kapulisan, nasayran nga siya napugos sa pagpamaligya sa ilegal nga drugas aron dunay ikapalit og pagkaon. Si Police Lt.', 'Colonel Felisa Baculo, deputy city director for administration sa Cebu City Police Office (CCPO), nagkanayon nga naa na sa kustodiya sa Women and Children Protection Desk (WCPD) ang maong tinun-an ug gipaubos na sa intervention. Matod ni Baculo, nakig-alayon na sila sa mga ginikanan sa menor ug gipangayoan na nila og birth certificate aron pagseguro kon tinuod ba ang iyang edad.', 'Ang maong tinun-an gipaubos sa intelligence surveillance. Dili na bag-o sa kapulisan ang pagkalambigit sa mga menor de edad sa pagpamaligya sa ilegal nga drugas.', 'Ubos sa Juvenile Justice and Welfare Act of 2006, ang termino nga gamiton sa mga otoridad sa pagkasikop sa mga menor nga nalambigit og krimen mao ang “rescue. ”Samtang, malampuson usab ang pagkasikop sa no.', '10 sa pagpayuhot og gidiling drugas sa Brgy. Pusok, siyudad sa Lapu-Lapu, alas 6:11 sa gabii sa Miyerkules, Mayo 22, 2024.', 'Usa ka 35 anyos nga si alyas “Budo,” taga Purok Sambag, Brgy. Canjulao, Lapu-Lapu City, nasikop sa joint buy-bust sa City Intelligence Unit (CIU), City Drugs Enforcement Unit (CDEU) ug Lapu-Lapu City Police Office (LCPO) ubos kang P/Col.', 'Ipay A. Baron, officer-in-charge sa LCPO uban sa koordinasyon sa Philippine Drug Enforcement Agency (PDEA 7). Sa dihang nadakpan, nasakmitan pa siya og laing siyam ka putos nga plastik sa gituhoang shabu nga gibana-banang motimbang og 50 gramos nga may standard drug price nga P340,000.', 'Ang suspek gitanggong sa LCPO ug nagpaabot sa tukmang kaso nga ipasaka batok kaniya. / AYB, DVG']\n",
            "3 processing 01432-003\n",
            "['Wala ra maabti og usa ka oras, daling nasulbad ang pagtulis ug pag dunggab patay sa usa ka babaye nga trabahante sa Alberto’s Pizza sa Don Gil Garcia St. , Barangay Capitol Site, dakbayan sa Sugbo sa Biyernes sa alas 2:20 sa hapon, Disyembre 1, 2023. Si Shiny Nieto Coraza 40, kasamtangan nga nagpuyo sa maong lugar apan lumad nga taga Cansabusab, lungsod sa Poro, mga isla sa Camotes, probinsya sa Sugbo, gidunggab patay sa iyang kanhi kauban nga si Nomio Nieva Acazo, 25, taga Barangay Talima, isla sa Olango, dakbayan sa Lapu-Lapu.', 'Dali nga nisibat ang suspek samtang gidala ang biktima sa labing duol nga pribado nga tambalanan apan nakabsan sa kinabuhi human nakaangkon og mga samad dinunggaban sa kalawasan. Gidala sa suspek ang P197,050 nga bahinon unta sa mga empleyado sa dili pa ang Disyembre 24, 2023 aron magamit sa ilang pagsaulog sa Pasko.', 'NADAKPANHuman nadawat ang tawag sa telepono sa Abellana Police Station gikan sa mga kauban sa biktima, dali sila nga nilusad og hot pursuit operation base sa paghulagway sa mga saksi sa suspek. Matod ni Police Captain Emeniano Don Apechi Makring, hepe sa Abellana Police Station, nga ilang nadakpan ang suspek sa Sitio Sadpa, Brgy.', 'Sambag 2, dakbayan sa Sugbo. Dali siya nga nailhan sa kapulisan base sa pamahayag sa mga saksi ug ang paghulagway niini nga budlat ang mga mata ug taas ang suwang.', 'Sa imbestigasyon sa Abellana Police Station, ang biktima maoy gihimo’ng tigdawat sa kwarta sa paluwagan sa mga kauban niini nga mga trabahante. “Paspas namo nadakpan kay na interview man dayon namo ang mga witness didto.', 'Dali ra ang pag describe ba kay ingon sila dako’g mata nya taas ang baba, tapos naglakaw ra,” asoy ni Makring sa mga tigbalita sa Sabado, Disyembre 2, 2023. Nakuha sa mga polis ang kwarta gikan sa suspek nga moabot og P197,050, lakip na ang kutsilyo nga gigamit sa krimen.', 'Nasayran sa Superbalita Cebu nga ang biktima ug suspek managkauban kanhi sa trabaho. Ang suspek usa na ka delivery rider.', 'Tungod sa dali nga kasulbaran, matod ni Makring, nga gihatagan niya’g pasidungog ang lima ka mga polis nga maoy nakadakop sa suspek. Iyang gibutyag nga una niya nga gimandoan ang iyang mga personnel nga kon dunay mga insidente sa huresdiksyon sa Abellana Police Station kinahanglan nga ang tanang personnel mogawas sa opisina ug motabang sa manhunt operation.', '(Dugang taho ni DVG)']\n",
            "4 processing 01237-002\n",
            "['Nagduda si Lapu-Lapu City Mayor Joelito Abalos nga adunay bolok pamolotika ang mipakatap sa hulagway nga diha sa iyang tapad si Bansil Banta nga makita nagsul-ob og identification card (ID) sa City Hall. Kini maoy gibutyag sa Mayor nga nagtuo nga gi-edit ang maong picture nga kabahin sa \"smear campaign\" ilabi na nga nagkaduol ang piniliay, human nga gitawgan sa SunStar Cebu, Sabado, Septiyembre 7, 2024.“Sayon kaayo pag-edit sa picture.', 'Di na tinuod, once again, di tinuod nga we issued government IDs for consultants,” pagklaro ni Abalos. Iyang giklaro nga wa mo-isyu og official nga identification cards ang Lapu-Lapu City government ngadto ni Bantad o ni bisan kinsa nga langyaw isip consultant ubos sa iyang administrasyon.', 'Kahinumduman nga si Bantad lakip sa mga langyaw nga nadakpan atol sa gihimong pagronda sa gidudahan nga Philippine Offshore Gaming Operator (POGO) sa Barangay Agus, Lapu-Lapu City, niadtong Agusto 31. Si Bantad, uban sa laing 15 ka langyaw lakip na sa iyang anak ang nasikop.', 'Dugang pa ni mayor Abalos gi-atol ang pagpakatap sa maong peke nga picture ilabi na nga nagsingabot ang piniliay ug siya nagduda nga \"politically motivated. \" “Hapit naman gud ang election maong daghan nang gawas nga mga fake photos og unsa pa na diha,” AbalosAron sa paghatag og katin-awan sa maong isyu ang mayor mihatag og kopya og dokomento lakip na ang suwat gikan sa Lapu-Lapu City nga Bids and Awards Committee (BAC).', 'Ang maong suwat nagkanayon nga ang BAC way nadawat o ang pagproseso sa bisan unsa nga request alang sa consultancy services ni Bantad gikan niadtong Hulyo 2019 hangtod na karon. Laing suwat gikan sa Sangguniang Panlungsod mikonpirmar nga wa usab resolution nga gi-aprobahan nga nagtugot ni Abalos nga mosulod og consultancy contract tali Bantad sa susamang petsa.', 'Gawas sa maong giingong edited nga picture, nitumaw sab ang litrato nga kuha niadtong 2020 nga nagpasalamat si Abalos ngadto ni Bantad sa gi-donate nga computer alang sa mga tunghaan ug sa buhatan sa kapulisan. Sa naunang taho sa SunStar Cebu, giangkon ni Abalos nga iyang nahimamat si Bantad sa iyang unang termino isip mayor niadtong 2019, dihang nidonar si Bantad og mga computer ug nanghatag og libreng internet connection sa usa ka tunghaan sa Barangay Pangan-an, Isla sa Olango.', 'Samtang, giklaro ni Abalos nga ang tag-iya sa hotel resort nga gironda niadtong Agusto 31 wa mo-apply og legal POGO license sa siyudad. Dugang pa nagpadayon ang imbestigasyon, dili lang bahin sa nagpakatap nga litrato kon dili apil na ang mga nangaging insidente nga naglambigit sa mga tawo nga nagpaka aron ingnon nga traffic enforcer nga naggamit og peke nga ID.', 'Iyang gisubli nga walay langyaw nga opisyal nga nahatagan sa maong identification card sa kagamhanan sa dakbayan, human niadtong nakuha sa mga awtoridad nga giingong government issued ID ni Bantad. / CAV']\n"
          ]
        },
        {
          "data": {
            "text/plain": [
              "[{'id': '00200-018',\n",
              "  'question': 'Unsang trabaho ang gihupot ni Enan Biglang?',\n",
              "  'context': {'text': 'Nadakpan sa buy-bust ang ilang target nga mao usab ang nagpadagan sa balay suyopanan nga giila nga sila si Nolan Bigcas alyas Joshua, 42, nagmintinar sa suyopanan; Enan Biglang, 43, masahista; ug Junrex Siaboc Dalia, 38, drayber sa habalhabal.',\n",
              "   'start': 323},\n",
              "  'answer': {'end': 191, 'start': 182, 'text': 'masahista'},\n",
              "  'pred': {'article_id': 200,\n",
              "   'title': 'Drug den gironda, 3 nangasikop',\n",
              "   'body': 'Usa ka drug den nga nahimutang sa Sitio Tabay Lawum, Barangay Tisa, Siyudad sa Sugbo ang gibungkag sa mga sakop sa Philippine Drug Enforcement Agency (PDEA) 7 uban sa Regional Intelligence Unit sa Police Regional Office (PRO) 7, alas 6:25 sa hapon, Sabado, Agusto 24, 2024, nga niresulta sa pagkasikop sa tulo ka mga tawo. Nadakpan sa buy-bust ang ilang target nga mao usab ang nagpadagan sa balay suyopanan nga giila nga sila si Nolan Bigcas alyas Joshua, 42, nagmintinar sa suyopanan; Enan Biglang, 43, masahista; ug Junrex Siaboc Dalia, 38, drayber sa habalhabal. Nasakmit sa mga sakop sa PDEA 7 ug PRO 7 ang 18 ka pakete sa gituohang shabu nga motimbang sa 16 gramos nga dunay estimated average market value P108,800 ug ang mga drug paraphernalia. Ang maong mga ebidensya gi-turnover na sa buhatan sa PDEA 7 alang sa himuon nga chemical analysis. Matod ni Ason Agapay, information officer sa PDEA 7, usa ka buwan nila nga gipaubos sa case buildup si Bigcas human nila madawat ang kasayuran nga nagpadagan kinig suyopanan ug siya usab ang mamaligya sa illegal nga drugas. Giingong makabaligya ang suspetsado og 15 ngadto sa 20 gramos sa illegal nga drugas matag semana gikan sa iyang supplier. Mag-atubang og daghang kaso si Bigcas sama sa drug pushing, pagpadagan og balay suyopanan ug paghupot og illegal nga drugas. Ang tulo pasakaan og kaso subay sa salaod nga ilang nahimo. / AYB',\n",
              "   'answer': 'mamaligya sa illegal nga drugas.',\n",
              "   'score': 0.9055638909339905},\n",
              "  'top_docs': [{'id': 200,\n",
              "    'title': 'Drug den gironda, 3 nangasikop',\n",
              "    'body': 'Usa ka drug den nga nahimutang sa Sitio Tabay Lawum, Barangay Tisa, Siyudad sa Sugbo ang gibungkag sa mga sakop sa Philippine Drug Enforcement Agency (PDEA) 7 uban sa Regional Intelligence Unit sa Police Regional Office (PRO) 7, alas 6:25 sa hapon, Sabado, Agusto 24, 2024, nga niresulta sa pagkasikop sa tulo ka mga tawo. Nadakpan sa buy-bust ang ilang target nga mao usab ang nagpadagan sa balay suyopanan nga giila nga sila si Nolan Bigcas alyas Joshua, 42, nagmintinar sa suyopanan; Enan Biglang, 43, masahista; ug Junrex Siaboc Dalia, 38, drayber sa habalhabal. Nasakmit sa mga sakop sa PDEA 7 ug PRO 7 ang 18 ka pakete sa gituohang shabu nga motimbang sa 16 gramos nga dunay estimated average market value P108,800 ug ang mga drug paraphernalia. Ang maong mga ebidensya gi-turnover na sa buhatan sa PDEA 7 alang sa himuon nga chemical analysis. Matod ni Ason Agapay, information officer sa PDEA 7, usa ka buwan nila nga gipaubos sa case buildup si Bigcas human nila madawat ang kasayuran nga nagpadagan kinig suyopanan ug siya usab ang mamaligya sa illegal nga drugas. Giingong makabaligya ang suspetsado og 15 ngadto sa 20 gramos sa illegal nga drugas matag semana gikan sa iyang supplier. Mag-atubang og daghang kaso si Bigcas sama sa drug pushing, pagpadagan og balay suyopanan ug paghupot og illegal nga drugas. Ang tulo pasakaan og kaso subay sa salaod nga ilang nahimo. / AYB'}]},\n",
              " {'id': '01034-011',\n",
              "  'question': 'Unsa ang occupation ni Garci Bulsico?',\n",
              "  'context': {'text': 'Nadakpan sab ang duha ka mga lalaki nga naabtan sulod sa drug den nga silang Garci Bulsico, 41, drayber sa habalhabal; ug Constantino Bunal III, 38, pulos taga Brgy. Calamba.',\n",
              "   'start': 343},\n",
              "  'answer': {'end': 117, 'start': 96, 'text': 'drayber sa habalhabal'},\n",
              "  'pred': {'article_id': 1034,\n",
              "   'title': 'Drug den gironda; 3 sikop',\n",
              "   'body': 'Drug den sa Sityo Mangga, Barangay Calamba, dakbayan sa Sugbo gironda sa mga sakop Philippine Drug Enforcement Agency (PDEA 7) uban sa Regional ug Cebu City Intelligence Unit alas 8:05 sa gabii sa Martes, Pebrero 20, 2024. Tulo ka mga suspek ang nasikop lakip niini ang giingong caretaker sa drug den nga si Balbin Lastrollo, 51, way trabaho. Nadakpan sab ang duha ka mga lalaki nga naabtan sulod sa drug den nga silang Garci Bulsico, 41, drayber sa habalhabal; ug Constantino Bunal III, 38, pulos taga Brgy. Calamba. Moabot sa siyam ka mga pakete sa gituohang shabu ang nasakmit nga motimbang og 11. 6 gramos nga dunay balor nga P78,880. Apil sa nakuha ang marked money, P650 nga gituohang halin ug nagkalainlaing drug paraphernalia. Matod ni Ason Agapay, information officer sa PDEA 7, nga nadawat nila ang impormasyon gikan sa kasaligang tinubdan labot sa operation sa drug den sa dapit. / AYB',\n",
              "   'answer': 'drayber sa habalhabal;',\n",
              "   'score': 0.9736607670783997},\n",
              "  'top_docs': [{'id': 1034,\n",
              "    'title': 'Drug den gironda; 3 sikop',\n",
              "    'body': 'Drug den sa Sityo Mangga, Barangay Calamba, dakbayan sa Sugbo gironda sa mga sakop Philippine Drug Enforcement Agency (PDEA 7) uban sa Regional ug Cebu City Intelligence Unit alas 8:05 sa gabii sa Martes, Pebrero 20, 2024. Tulo ka mga suspek ang nasikop lakip niini ang giingong caretaker sa drug den nga si Balbin Lastrollo, 51, way trabaho. Nadakpan sab ang duha ka mga lalaki nga naabtan sulod sa drug den nga silang Garci Bulsico, 41, drayber sa habalhabal; ug Constantino Bunal III, 38, pulos taga Brgy. Calamba. Moabot sa siyam ka mga pakete sa gituohang shabu ang nasakmit nga motimbang og 11. 6 gramos nga dunay balor nga P78,880. Apil sa nakuha ang marked money, P650 nga gituohang halin ug nagkalainlaing drug paraphernalia. Matod ni Ason Agapay, information officer sa PDEA 7, nga nadawat nila ang impormasyon gikan sa kasaligang tinubdan labot sa operation sa drug den sa dapit. / AYB'}]},\n",
              " {'id': '00579-011',\n",
              "  'question': 'Unsa ang standard drug price sa 50 gramos nga shabu nga nasakmitan kang Budo?',\n",
              "  'context': {'text': 'Sa dihang nadakpan, nasakmitan pa siya og laing siyam ka putos nga plastik sa gituhoang shabu nga gibana-banang motimbang og 50 gramos nga may standard drug price nga P340,000.',\n",
              "   'start': 1737},\n",
              "  'answer': {'end': 175, 'start': 167, 'text': 'P340,000'},\n",
              "  'pred': {'article_id': 579,\n",
              "   'title': 'Grade 9 ‘na-rescue’ sa dihang gi-buy bust sa kapulisan',\n",
              "   'body': '“Na-rescue” sa mga sakop sa Carbon Police Station ang usa ka grade 9 nga lalaki atol sa buy-bust alas 11:30 sa gabii sa Miyerkules, Mayo 22, 2024, sa Sitio Bato, Barangay Ermita, Dakbayan sa Sugbo. Si ‘Ran-ran’ (di tinuod ngan), 16, nagpuyo sa maong lugar, nakuhaan og 12 ka pakete sa gituohang shabu nga motimbang og .8 grams nga dunay standard drug price (SDP) nga P5,440. Sa imbestigasyon sa kapulisan, nasayran nga siya napugos sa pagpamaligya sa ilegal nga drugas aron dunay ikapalit og pagkaon. Si Police Lt. Colonel Felisa Baculo, deputy city director for administration sa Cebu City Police Office (CCPO), nagkanayon nga naa na sa kustodiya sa Women and Children Protection Desk (WCPD) ang maong tinun-an ug gipaubos na sa intervention. Matod ni Baculo, nakig-alayon na sila sa mga ginikanan sa menor ug gipangayoan na nila og birth certificate aron pagseguro kon tinuod ba ang iyang edad. Ang maong tinun-an gipaubos sa intelligence surveillance. Dili na bag-o sa kapulisan ang pagkalambigit sa mga menor de edad sa pagpamaligya sa ilegal nga drugas. Ubos sa Juvenile Justice and Welfare Act of 2006, ang termino nga gamiton sa mga otoridad sa pagkasikop sa mga menor nga nalambigit og krimen mao ang “rescue. ”Samtang, malampuson usab ang pagkasikop sa no. 10 sa pagpayuhot og gidiling drugas sa Brgy. Pusok, siyudad sa Lapu-Lapu, alas 6:11 sa gabii sa Miyerkules, Mayo 22, 2024. Usa ka 35 anyos nga si alyas “Budo,” taga Purok Sambag, Brgy. Canjulao, Lapu-Lapu City, nasikop sa joint buy-bust sa City Intelligence Unit (CIU), City Drugs Enforcement Unit (CDEU) ug Lapu-Lapu City Police Office (LCPO) ubos kang P/Col. Ipay A. Baron, officer-in-charge sa LCPO uban sa koordinasyon sa Philippine Drug Enforcement Agency (PDEA 7). Sa dihang nadakpan, nasakmitan pa siya og laing siyam ka putos nga plastik sa gituhoang shabu nga gibana-banang motimbang og 50 gramos nga may standard drug price nga P340,000. Ang suspek gitanggong sa LCPO ug nagpaabot sa tukmang kaso nga ipasaka batok kaniya. / AYB, DVG',\n",
              "   'answer': 'P340,000.',\n",
              "   'score': 0.9589792490005493},\n",
              "  'top_docs': [{'id': 579,\n",
              "    'title': 'Grade 9 ‘na-rescue’ sa dihang gi-buy bust sa kapulisan',\n",
              "    'body': '“Na-rescue” sa mga sakop sa Carbon Police Station ang usa ka grade 9 nga lalaki atol sa buy-bust alas 11:30 sa gabii sa Miyerkules, Mayo 22, 2024, sa Sitio Bato, Barangay Ermita, Dakbayan sa Sugbo. Si ‘Ran-ran’ (di tinuod ngan), 16, nagpuyo sa maong lugar, nakuhaan og 12 ka pakete sa gituohang shabu nga motimbang og .8 grams nga dunay standard drug price (SDP) nga P5,440. Sa imbestigasyon sa kapulisan, nasayran nga siya napugos sa pagpamaligya sa ilegal nga drugas aron dunay ikapalit og pagkaon. Si Police Lt. Colonel Felisa Baculo, deputy city director for administration sa Cebu City Police Office (CCPO), nagkanayon nga naa na sa kustodiya sa Women and Children Protection Desk (WCPD) ang maong tinun-an ug gipaubos na sa intervention. Matod ni Baculo, nakig-alayon na sila sa mga ginikanan sa menor ug gipangayoan na nila og birth certificate aron pagseguro kon tinuod ba ang iyang edad. Ang maong tinun-an gipaubos sa intelligence surveillance. Dili na bag-o sa kapulisan ang pagkalambigit sa mga menor de edad sa pagpamaligya sa ilegal nga drugas. Ubos sa Juvenile Justice and Welfare Act of 2006, ang termino nga gamiton sa mga otoridad sa pagkasikop sa mga menor nga nalambigit og krimen mao ang “rescue. ”Samtang, malampuson usab ang pagkasikop sa no. 10 sa pagpayuhot og gidiling drugas sa Brgy. Pusok, siyudad sa Lapu-Lapu, alas 6:11 sa gabii sa Miyerkules, Mayo 22, 2024. Usa ka 35 anyos nga si alyas “Budo,” taga Purok Sambag, Brgy. Canjulao, Lapu-Lapu City, nasikop sa joint buy-bust sa City Intelligence Unit (CIU), City Drugs Enforcement Unit (CDEU) ug Lapu-Lapu City Police Office (LCPO) ubos kang P/Col. Ipay A. Baron, officer-in-charge sa LCPO uban sa koordinasyon sa Philippine Drug Enforcement Agency (PDEA 7). Sa dihang nadakpan, nasakmitan pa siya og laing siyam ka putos nga plastik sa gituhoang shabu nga gibana-banang motimbang og 50 gramos nga may standard drug price nga P340,000. Ang suspek gitanggong sa LCPO ug nagpaabot sa tukmang kaso nga ipasaka batok kaniya. / AYB, DVG'}]},\n",
              " {'id': '01432-003',\n",
              "  'question': 'Pila ang gidala sa suspek nga kwarta?',\n",
              "  'context': {'text': 'Gidala sa suspek ang P197,050 nga bahinon unta sa mga empleyado sa dili pa ang Disyembre 24, 2023 aron magamit sa ilang pagsaulog sa Pasko.',\n",
              "   'start': 714},\n",
              "  'answer': {'end': 29, 'start': 21, 'text': 'P197,050'},\n",
              "  'pred': {'article_id': 1432,\n",
              "   'title': '‘Tulisan, killer’ nasikop tungod sa description',\n",
              "   'body': 'Wala ra maabti og usa ka oras, daling nasulbad ang pagtulis ug pag dunggab patay sa usa ka babaye nga trabahante sa Alberto’s Pizza sa Don Gil Garcia St. , Barangay Capitol Site, dakbayan sa Sugbo sa Biyernes sa alas 2:20 sa hapon, Disyembre 1, 2023. Si Shiny Nieto Coraza 40, kasamtangan nga nagpuyo sa maong lugar apan lumad nga taga Cansabusab, lungsod sa Poro, mga isla sa Camotes, probinsya sa Sugbo, gidunggab patay sa iyang kanhi kauban nga si Nomio Nieva Acazo, 25, taga Barangay Talima, isla sa Olango, dakbayan sa Lapu-Lapu. Dali nga nisibat ang suspek samtang gidala ang biktima sa labing duol nga pribado nga tambalanan apan nakabsan sa kinabuhi human nakaangkon og mga samad dinunggaban sa kalawasan. Gidala sa suspek ang P197,050 nga bahinon unta sa mga empleyado sa dili pa ang Disyembre 24, 2023 aron magamit sa ilang pagsaulog sa Pasko. NADAKPANHuman nadawat ang tawag sa telepono sa Abellana Police Station gikan sa mga kauban sa biktima, dali sila nga nilusad og hot pursuit operation base sa paghulagway sa mga saksi sa suspek. Matod ni Police Captain Emeniano Don Apechi Makring, hepe sa Abellana Police Station, nga ilang nadakpan ang suspek sa Sitio Sadpa, Brgy. Sambag 2, dakbayan sa Sugbo. Dali siya nga nailhan sa kapulisan base sa pamahayag sa mga saksi ug ang paghulagway niini nga budlat ang mga mata ug taas ang suwang. Sa imbestigasyon sa Abellana Police Station, ang biktima maoy gihimo’ng tigdawat sa kwarta sa paluwagan sa mga kauban niini nga mga trabahante. “Paspas namo nadakpan kay na interview man dayon namo ang mga witness didto. Dali ra ang pag describe ba kay ingon sila dako’g mata nya taas ang baba, tapos naglakaw ra,” asoy ni Makring sa mga tigbalita sa Sabado, Disyembre 2, 2023. Nakuha sa mga polis ang kwarta gikan sa suspek nga moabot og P197,050, lakip na ang kutsilyo nga gigamit sa krimen. Nasayran sa Superbalita Cebu nga ang biktima ug suspek managkauban kanhi sa trabaho. Ang suspek usa na ka delivery rider. Tungod sa dali nga kasulbaran, matod ni Makring, nga gihatagan niya’g pasidungog ang lima ka mga polis nga maoy nakadakop sa suspek. Iyang gibutyag nga una niya nga gimandoan ang iyang mga personnel nga kon dunay mga insidente sa huresdiksyon sa Abellana Police Station kinahanglan nga ang tanang personnel mogawas sa opisina ug motabang sa manhunt operation. (Dugang taho ni DVG)',\n",
              "   'answer': 'P197,050,',\n",
              "   'score': 0.9640009999275208},\n",
              "  'top_docs': [{'id': 1432,\n",
              "    'title': '‘Tulisan, killer’ nasikop tungod sa description',\n",
              "    'body': 'Wala ra maabti og usa ka oras, daling nasulbad ang pagtulis ug pag dunggab patay sa usa ka babaye nga trabahante sa Alberto’s Pizza sa Don Gil Garcia St. , Barangay Capitol Site, dakbayan sa Sugbo sa Biyernes sa alas 2:20 sa hapon, Disyembre 1, 2023. Si Shiny Nieto Coraza 40, kasamtangan nga nagpuyo sa maong lugar apan lumad nga taga Cansabusab, lungsod sa Poro, mga isla sa Camotes, probinsya sa Sugbo, gidunggab patay sa iyang kanhi kauban nga si Nomio Nieva Acazo, 25, taga Barangay Talima, isla sa Olango, dakbayan sa Lapu-Lapu. Dali nga nisibat ang suspek samtang gidala ang biktima sa labing duol nga pribado nga tambalanan apan nakabsan sa kinabuhi human nakaangkon og mga samad dinunggaban sa kalawasan. Gidala sa suspek ang P197,050 nga bahinon unta sa mga empleyado sa dili pa ang Disyembre 24, 2023 aron magamit sa ilang pagsaulog sa Pasko. NADAKPANHuman nadawat ang tawag sa telepono sa Abellana Police Station gikan sa mga kauban sa biktima, dali sila nga nilusad og hot pursuit operation base sa paghulagway sa mga saksi sa suspek. Matod ni Police Captain Emeniano Don Apechi Makring, hepe sa Abellana Police Station, nga ilang nadakpan ang suspek sa Sitio Sadpa, Brgy. Sambag 2, dakbayan sa Sugbo. Dali siya nga nailhan sa kapulisan base sa pamahayag sa mga saksi ug ang paghulagway niini nga budlat ang mga mata ug taas ang suwang. Sa imbestigasyon sa Abellana Police Station, ang biktima maoy gihimo’ng tigdawat sa kwarta sa paluwagan sa mga kauban niini nga mga trabahante. “Paspas namo nadakpan kay na interview man dayon namo ang mga witness didto. Dali ra ang pag describe ba kay ingon sila dako’g mata nya taas ang baba, tapos naglakaw ra,” asoy ni Makring sa mga tigbalita sa Sabado, Disyembre 2, 2023. Nakuha sa mga polis ang kwarta gikan sa suspek nga moabot og P197,050, lakip na ang kutsilyo nga gigamit sa krimen. Nasayran sa Superbalita Cebu nga ang biktima ug suspek managkauban kanhi sa trabaho. Ang suspek usa na ka delivery rider. Tungod sa dali nga kasulbaran, matod ni Makring, nga gihatagan niya’g pasidungog ang lima ka mga polis nga maoy nakadakop sa suspek. Iyang gibutyag nga una niya nga gimandoan ang iyang mga personnel nga kon dunay mga insidente sa huresdiksyon sa Abellana Police Station kinahanglan nga ang tanang personnel mogawas sa opisina ug motabang sa manhunt operation. (Dugang taho ni DVG)'}]},\n",
              " {'id': '01237-002',\n",
              "  'question': 'Unsa nga mga awards ang nakuha sa Barangay Guadalupe?',\n",
              "  'context': {'text': 'AngBarangay Guadalupe nidaug usab sa Best in Costume ug Best in Musicality. Sila usab ang ikatulo sa Street Dancing competition.',\n",
              "   'start': 210},\n",
              "  'answer': {'end': 74,\n",
              "   'start': 37,\n",
              "   'text': 'Best in Costume ug Best in Musicality'},\n",
              "  'pred': {'article_id': 138,\n",
              "   'title': 'Abalos: Pagkatap sa kontrobersiyal nga picture online ‘pamolitika’',\n",
              "   'body': 'Nagduda si Lapu-Lapu City Mayor Joelito Abalos nga adunay bolok pamolotika ang mipakatap sa hulagway nga diha sa iyang tapad si Bansil Banta nga makita nagsul-ob og identification card (ID) sa City Hall. Kini maoy gibutyag sa Mayor nga nagtuo nga gi-edit ang maong picture nga kabahin sa \"smear campaign\" ilabi na nga nagkaduol ang piniliay, human nga gitawgan sa SunStar Cebu, Sabado, Septiyembre 7, 2024.“Sayon kaayo pag-edit sa picture. Di na tinuod, once again, di tinuod nga we issued government IDs for consultants,” pagklaro ni Abalos. Iyang giklaro nga wa mo-isyu og official nga identification cards ang Lapu-Lapu City government ngadto ni Bantad o ni bisan kinsa nga langyaw isip consultant ubos sa iyang administrasyon. Kahinumduman nga si Bantad lakip sa mga langyaw nga nadakpan atol sa gihimong pagronda sa gidudahan nga Philippine Offshore Gaming Operator (POGO) sa Barangay Agus, Lapu-Lapu City, niadtong Agusto 31. Si Bantad, uban sa laing 15 ka langyaw lakip na sa iyang anak ang nasikop. Dugang pa ni mayor Abalos gi-atol ang pagpakatap sa maong peke nga picture ilabi na nga nagsingabot ang piniliay ug siya nagduda nga \"politically motivated. \" “Hapit naman gud ang election maong daghan nang gawas nga mga fake photos og unsa pa na diha,” AbalosAron sa paghatag og katin-awan sa maong isyu ang mayor mihatag og kopya og dokomento lakip na ang suwat gikan sa Lapu-Lapu City nga Bids and Awards Committee (BAC). Ang maong suwat nagkanayon nga ang BAC way nadawat o ang pagproseso sa bisan unsa nga request alang sa consultancy services ni Bantad gikan niadtong Hulyo 2019 hangtod na karon. Laing suwat gikan sa Sangguniang Panlungsod mikonpirmar nga wa usab resolution nga gi-aprobahan nga nagtugot ni Abalos nga mosulod og consultancy contract tali Bantad sa susamang petsa. Gawas sa maong giingong edited nga picture, nitumaw sab ang litrato nga kuha niadtong 2020 nga nagpasalamat si Abalos ngadto ni Bantad sa gi-donate nga computer alang sa mga tunghaan ug sa buhatan sa kapulisan. Sa naunang taho sa SunStar Cebu, giangkon ni Abalos nga iyang nahimamat si Bantad sa iyang unang termino isip mayor niadtong 2019, dihang nidonar si Bantad og mga computer ug nanghatag og libreng internet connection sa usa ka tunghaan sa Barangay Pangan-an, Isla sa Olango. Samtang, giklaro ni Abalos nga ang tag-iya sa hotel resort nga gironda niadtong Agusto 31 wa mo-apply og legal POGO license sa siyudad. Dugang pa nagpadayon ang imbestigasyon, dili lang bahin sa nagpakatap nga litrato kon dili apil na ang mga nangaging insidente nga naglambigit sa mga tawo nga nagpaka aron ingnon nga traffic enforcer nga naggamit og peke nga ID. Iyang gisubli nga walay langyaw nga opisyal nga nahatagan sa maong identification card sa kagamhanan sa dakbayan, human niadtong nakuha sa mga awtoridad nga giingong government issued ID ni Bantad. / CAV',\n",
              "   'answer': 'government IDs for consultants,”',\n",
              "   'score': 0.7846358418464661},\n",
              "  'top_docs': [{'id': 138,\n",
              "    'title': 'Abalos: Pagkatap sa kontrobersiyal nga picture online ‘pamolitika’',\n",
              "    'body': 'Nagduda si Lapu-Lapu City Mayor Joelito Abalos nga adunay bolok pamolotika ang mipakatap sa hulagway nga diha sa iyang tapad si Bansil Banta nga makita nagsul-ob og identification card (ID) sa City Hall. Kini maoy gibutyag sa Mayor nga nagtuo nga gi-edit ang maong picture nga kabahin sa \"smear campaign\" ilabi na nga nagkaduol ang piniliay, human nga gitawgan sa SunStar Cebu, Sabado, Septiyembre 7, 2024.“Sayon kaayo pag-edit sa picture. Di na tinuod, once again, di tinuod nga we issued government IDs for consultants,” pagklaro ni Abalos. Iyang giklaro nga wa mo-isyu og official nga identification cards ang Lapu-Lapu City government ngadto ni Bantad o ni bisan kinsa nga langyaw isip consultant ubos sa iyang administrasyon. Kahinumduman nga si Bantad lakip sa mga langyaw nga nadakpan atol sa gihimong pagronda sa gidudahan nga Philippine Offshore Gaming Operator (POGO) sa Barangay Agus, Lapu-Lapu City, niadtong Agusto 31. Si Bantad, uban sa laing 15 ka langyaw lakip na sa iyang anak ang nasikop. Dugang pa ni mayor Abalos gi-atol ang pagpakatap sa maong peke nga picture ilabi na nga nagsingabot ang piniliay ug siya nagduda nga \"politically motivated. \" “Hapit naman gud ang election maong daghan nang gawas nga mga fake photos og unsa pa na diha,” AbalosAron sa paghatag og katin-awan sa maong isyu ang mayor mihatag og kopya og dokomento lakip na ang suwat gikan sa Lapu-Lapu City nga Bids and Awards Committee (BAC). Ang maong suwat nagkanayon nga ang BAC way nadawat o ang pagproseso sa bisan unsa nga request alang sa consultancy services ni Bantad gikan niadtong Hulyo 2019 hangtod na karon. Laing suwat gikan sa Sangguniang Panlungsod mikonpirmar nga wa usab resolution nga gi-aprobahan nga nagtugot ni Abalos nga mosulod og consultancy contract tali Bantad sa susamang petsa. Gawas sa maong giingong edited nga picture, nitumaw sab ang litrato nga kuha niadtong 2020 nga nagpasalamat si Abalos ngadto ni Bantad sa gi-donate nga computer alang sa mga tunghaan ug sa buhatan sa kapulisan. Sa naunang taho sa SunStar Cebu, giangkon ni Abalos nga iyang nahimamat si Bantad sa iyang unang termino isip mayor niadtong 2019, dihang nidonar si Bantad og mga computer ug nanghatag og libreng internet connection sa usa ka tunghaan sa Barangay Pangan-an, Isla sa Olango. Samtang, giklaro ni Abalos nga ang tag-iya sa hotel resort nga gironda niadtong Agusto 31 wa mo-apply og legal POGO license sa siyudad. Dugang pa nagpadayon ang imbestigasyon, dili lang bahin sa nagpakatap nga litrato kon dili apil na ang mga nangaging insidente nga naglambigit sa mga tawo nga nagpaka aron ingnon nga traffic enforcer nga naggamit og peke nga ID. Iyang gisubli nga walay langyaw nga opisyal nga nahatagan sa maong identification card sa kagamhanan sa dakbayan, human niadtong nakuha sa mga awtoridad nga giingong government issued ID ni Bantad. / CAV'}]}]"
            ]
          },
          "execution_count": 121,
          "metadata": {},
          "output_type": "execute_result"
        }
      ],
      "source": [
        "qa.run()"
      ]
    },
    {
      "cell_type": "code",
      "execution_count": 108,
      "metadata": {},
      "outputs": [
        {
          "name": "stdout",
          "output_type": "stream",
          "text": [
            "{'exact_match': 0.0, 'f1': 40.0, 'sentence_match': 0.0}\n"
          ]
        },
        {
          "data": {
            "text/plain": [
              "({'exact_match': 0.0, 'f1': 40.0, 'sentence_match': 0.0},\n",
              " {'model_path': '/Users/jhoannaricalagumbay/Library/CloudStorage/GoogleDrive-jtlagumbay@up.edu.ph/My Drive/UP Files/IV - 2nd sem/CMSC 198.1/cebqa_roberta/xlmr/2025-03-15_09-36/model',\n",
              "  'tokenizer_path': '/Users/jhoannaricalagumbay/Library/CloudStorage/GoogleDrive-jtlagumbay@up.edu.ph/My Drive/UP Files/IV - 2nd sem/CMSC 198.1/cebqa_roberta/xlmr/2025-03-15_09-36/tokenizer',\n",
              "  'k': 1,\n",
              "  'sample': 1,\n",
              "  'isRandom': True,\n",
              "  'overlap': 0.0,\n",
              "  'num_chunks': 3},\n",
              " {'run_time': 0.318248987197876})"
            ]
          },
          "execution_count": 108,
          "metadata": {},
          "output_type": "execute_result"
        }
      ],
      "source": [
        "qa.evaluate()\n"
      ]
    },
    {
      "cell_type": "code",
      "execution_count": 54,
      "metadata": {},
      "outputs": [
        {
          "name": "stdout",
          "output_type": "stream",
          "text": [
            "0 1\n"
          ]
        }
      ],
      "source": [
        "results = qa.results\n",
        "preds = [\n",
        "        {\n",
        "            'id': result['id'],  # Convert ID to string\n",
        "            'prediction_text': qa.normalize_text(result['pred']['answer'])\n",
        "        }\n",
        "        for result in qa.results\n",
        "    ]\n",
        "\n",
        "refs = [\n",
        "    {\n",
        "        'id': item['id'],  # Convert ID to string\n",
        "        'answers': {\n",
        "            'text': [qa.normalize_text(item['answer']['text'])],\n",
        "            'answer_start': [item['answer']['start']]\n",
        "        }\n",
        "    }\n",
        "    for item in qa.results\n",
        "]\n",
        "\n",
        "em_count = 0\n",
        "sm_count = 0\n",
        "for index, item in enumerate(preds):\n",
        "    if item['prediction_text'] == refs[index]['answers']['text'][0]:\n",
        "        em_count += 1\n",
        "    if item['prediction_text'] in refs[index]['answers']['text'][0]:\n",
        "        sm_count += 1\n",
        "\n",
        "print(em_count, sm_count)"
      ]
    },
    {
      "cell_type": "markdown",
      "metadata": {
        "id": "Cg3xNAD7KNzp"
      },
      "source": [
        "# Retriever Performance"
      ]
    },
    {
      "cell_type": "code",
      "execution_count": null,
      "metadata": {
        "colab": {
          "base_uri": "https://localhost:8080/"
        },
        "id": "YzdTNq9tLRur",
        "outputId": "2161b43b-89c5-4348-b73a-d845eee824d8"
      },
      "outputs": [
        {
          "name": "stderr",
          "output_type": "stream",
          "text": [
            "/usr/local/lib/python3.11/dist-packages/huggingface_hub/utils/_auth.py:94: UserWarning: \n",
            "The secret `HF_TOKEN` does not exist in your Colab secrets.\n",
            "To authenticate with the Hugging Face Hub, create a token in your settings tab (https://huggingface.co/settings/tokens), set it as secret in your Google Colab and restart your session.\n",
            "You will be able to reuse this secret in all of your notebooks.\n",
            "Please note that authentication is recommended but still optional to access public models or datasets.\n",
            "  warnings.warn(\n"
          ]
        }
      ],
      "source": [
        "dataset = load_dataset(CEBQA_DATASET)"
      ]
    },
    {
      "cell_type": "code",
      "execution_count": null,
      "metadata": {
        "colab": {
          "base_uri": "https://localhost:8080/"
        },
        "id": "XwPiD3M_LcvC",
        "outputId": "f55c8a37-65a6-4899-c24a-89abd428cb6e"
      },
      "outputs": [
        {
          "data": {
            "text/plain": [
              "Dataset({\n",
              "    features: ['id', 'article_id', 'article_title', 'article_body', 'question', 'context', 'answer', 'context_start', 'context_end', 'answer_start', 'answer_end'],\n",
              "    num_rows: 5526\n",
              "})"
            ]
          },
          "execution_count": 16,
          "metadata": {},
          "output_type": "execute_result"
        }
      ],
      "source": [
        "test_dataset = dataset[\"test\"]\n",
        "test_dataset"
      ]
    },
    {
      "cell_type": "code",
      "execution_count": 19,
      "metadata": {},
      "outputs": [
        {
          "name": "stdout",
          "output_type": "stream",
          "text": [
            "True\n",
            "True\n"
          ]
        }
      ],
      "source": [
        "import torch\n",
        "print(torch.backends.mps.is_available())  # Should return True\n",
        "print(torch.backends.mps.is_built())\n"
      ]
    },
    {
      "cell_type": "code",
      "execution_count": null,
      "metadata": {
        "colab": {
          "base_uri": "https://localhost:8080/",
          "height": 1000
        },
        "collapsed": true,
        "id": "D7p1QWheLtca",
        "outputId": "888310eb-030b-41fa-dd26-3ff81ead3999"
      },
      "outputs": [
        {
          "name": "stdout",
          "output_type": "stream",
          "text": [
            "processing 01437-013\n",
            "processing 01130-018\n",
            "processing 00437-006\n",
            "processing 00247-009\n"
          ]
        },
        {
          "name": "stderr",
          "output_type": "stream",
          "text": [
            "ERROR:root:Internal Python error in the inspect module.\n",
            "Below is the traceback from this internal error.\n",
            "\n"
          ]
        },
        {
          "name": "stdout",
          "output_type": "stream",
          "text": [
            "processing 00101-004\n",
            "Traceback (most recent call last):\n",
            "  File \"/usr/local/lib/python3.11/dist-packages/IPython/core/interactiveshell.py\", line 3553, in run_code\n",
            "    exec(code_obj, self.user_global_ns, self.user_ns)\n",
            "  File \"<ipython-input-17-ced425423ec3>\", line 8, in <cell line: 0>\n",
            "    top_docs = retriever.retrieve(query, K)\n",
            "               ^^^^^^^^^^^^^^^^^^^^^^^^^^^^\n",
            "  File \"<ipython-input-11-253a20d7bee3>\", line 8, in retrieve\n",
            "    response = self.es.search(index=self.index_name, body={\n",
            "               ^^^^^^^^^^^^^^^^^^^^^^^^^^^^^^^^^^^^^^^^^^^^\n",
            "  File \"/usr/local/lib/python3.11/dist-packages/elasticsearch/_sync/client/utils.py\", line 455, in wrapped\n",
            "    return api(*args, **kwargs)\n",
            "           ^^^^^^^^^^^^^^^^^^^^\n",
            "  File \"/usr/local/lib/python3.11/dist-packages/elasticsearch/_sync/client/__init__.py\", line 5061, in search\n",
            "    return self.perform_request(  # type: ignore[return-value]\n",
            "           ^^^^^^^^^^^^^^^^^^^^^^^^^^^^^^^^^^^^^^^^^^^^^^^^^^^\n",
            "  File \"/usr/local/lib/python3.11/dist-packages/elasticsearch/_sync/client/_base.py\", line 271, in perform_request\n",
            "    response = self._perform_request(\n",
            "               ^^^^^^^^^^^^^^^^^^^^^^\n",
            "  File \"/usr/local/lib/python3.11/dist-packages/elasticsearch/_sync/client/_base.py\", line 316, in _perform_request\n",
            "    meta, resp_body = self.transport.perform_request(\n",
            "                      ^^^^^^^^^^^^^^^^^^^^^^^^^^^^^^^\n",
            "  File \"/usr/local/lib/python3.11/dist-packages/elastic_transport/_transport.py\", line 342, in perform_request\n",
            "    resp = node.perform_request(\n",
            "           ^^^^^^^^^^^^^^^^^^^^^\n",
            "  File \"/usr/local/lib/python3.11/dist-packages/elastic_transport/_node/_http_urllib3.py\", line 167, in perform_request\n",
            "    response = self.pool.urlopen(\n",
            "               ^^^^^^^^^^^^^^^^^^\n",
            "  File \"/usr/local/lib/python3.11/dist-packages/urllib3/connectionpool.py\", line 787, in urlopen\n",
            "    response = self._make_request(\n",
            "               ^^^^^^^^^^^^^^^^^^^\n",
            "  File \"/usr/local/lib/python3.11/dist-packages/urllib3/connectionpool.py\", line 534, in _make_request\n",
            "    response = conn.getresponse()\n",
            "               ^^^^^^^^^^^^^^^^^^\n",
            "  File \"/usr/local/lib/python3.11/dist-packages/urllib3/connection.py\", line 516, in getresponse\n",
            "    httplib_response = super().getresponse()\n",
            "                       ^^^^^^^^^^^^^^^^^^^^^\n",
            "  File \"/usr/lib/python3.11/http/client.py\", line 1395, in getresponse\n",
            "    response.begin()\n",
            "  File \"/usr/lib/python3.11/http/client.py\", line 325, in begin\n",
            "    version, status, reason = self._read_status()\n",
            "                              ^^^^^^^^^^^^^^^^^^^\n",
            "  File \"/usr/lib/python3.11/http/client.py\", line 286, in _read_status\n",
            "    line = str(self.fp.readline(_MAXLINE + 1), \"iso-8859-1\")\n",
            "               ^^^^^^^^^^^^^^^^^^^^^^^^^^^^^^\n",
            "  File \"/usr/lib/python3.11/socket.py\", line 718, in readinto\n",
            "    return self._sock.recv_into(b)\n",
            "           ^^^^^^^^^^^^^^^^^^^^^^^\n",
            "  File \"/usr/lib/python3.11/ssl.py\", line 1314, in recv_into\n",
            "    return self.read(nbytes, buffer)\n",
            "           ^^^^^^^^^^^^^^^^^^^^^^^^^\n",
            "  File \"/usr/lib/python3.11/ssl.py\", line 1166, in read\n",
            "    return self._sslobj.read(len, buffer)\n",
            "           ^^^^^^^^^^^^^^^^^^^^^^^^^^^^^^\n",
            "KeyboardInterrupt\n",
            "\n",
            "During handling of the above exception, another exception occurred:\n",
            "\n",
            "Traceback (most recent call last):\n",
            "  File \"/usr/local/lib/python3.11/dist-packages/IPython/core/interactiveshell.py\", line 2099, in showtraceback\n",
            "    stb = value._render_traceback_()\n",
            "          ^^^^^^^^^^^^^^^^^^^^^^^^\n",
            "AttributeError: 'KeyboardInterrupt' object has no attribute '_render_traceback_'\n",
            "\n",
            "During handling of the above exception, another exception occurred:\n",
            "\n",
            "Traceback (most recent call last):\n",
            "  File \"/usr/local/lib/python3.11/dist-packages/IPython/core/ultratb.py\", line 1101, in get_records\n",
            "    return _fixed_getinnerframes(etb, number_of_lines_of_context, tb_offset)\n",
            "           ^^^^^^^^^^^^^^^^^^^^^^^^^^^^^^^^^^^^^^^^^^^^^^^^^^^^^^^^^^^^^^^^^\n",
            "  File \"/usr/local/lib/python3.11/dist-packages/IPython/core/ultratb.py\", line 248, in wrapped\n",
            "    return f(*args, **kwargs)\n",
            "           ^^^^^^^^^^^^^^^^^^\n",
            "  File \"/usr/local/lib/python3.11/dist-packages/IPython/core/ultratb.py\", line 281, in _fixed_getinnerframes\n",
            "    records = fix_frame_records_filenames(inspect.getinnerframes(etb, context))\n",
            "                                          ^^^^^^^^^^^^^^^^^^^^^^^^^^^^^^^^^^^^\n",
            "  File \"/usr/lib/python3.11/inspect.py\", line 1739, in getinnerframes\n",
            "    traceback_info = getframeinfo(tb, context)\n",
            "                     ^^^^^^^^^^^^^^^^^^^^^^^^^\n",
            "  File \"/usr/lib/python3.11/inspect.py\", line 1684, in getframeinfo\n",
            "    filename = getsourcefile(frame) or getfile(frame)\n",
            "               ^^^^^^^^^^^^^^^^^^^^\n",
            "  File \"/usr/lib/python3.11/inspect.py\", line 948, in getsourcefile\n",
            "    module = getmodule(object, filename)\n",
            "             ^^^^^^^^^^^^^^^^^^^^^^^^^^^\n",
            "  File \"/usr/lib/python3.11/inspect.py\", line 988, in getmodule\n",
            "    if ismodule(module) and hasattr(module, '__file__'):\n",
            "       ^^^^^^^^^^^^^^^^\n",
            "  File \"/usr/lib/python3.11/inspect.py\", line 283, in ismodule\n",
            "    def ismodule(object):\n",
            "    \n",
            "KeyboardInterrupt\n"
          ]
        },
        {
          "ename": "TypeError",
          "evalue": "object of type 'NoneType' has no len()",
          "output_type": "error",
          "traceback": [
            "\u001b[0;31m---------------------------------------------------------------------------\u001b[0m",
            "\u001b[0;31mKeyboardInterrupt\u001b[0m                         Traceback (most recent call last)",
            "    \u001b[0;31m[... skipping hidden 1 frame]\u001b[0m\n",
            "\u001b[0;32m<ipython-input-17-ced425423ec3>\u001b[0m in \u001b[0;36m<cell line: 0>\u001b[0;34m()\u001b[0m\n\u001b[1;32m      7\u001b[0m   \u001b[0mquery\u001b[0m \u001b[0;34m=\u001b[0m \u001b[0mrow\u001b[0m\u001b[0;34m[\u001b[0m\u001b[0;34m\"question\"\u001b[0m\u001b[0;34m]\u001b[0m\u001b[0;34m\u001b[0m\u001b[0;34m\u001b[0m\u001b[0m\n\u001b[0;32m----> 8\u001b[0;31m   \u001b[0mtop_docs\u001b[0m \u001b[0;34m=\u001b[0m \u001b[0mretriever\u001b[0m\u001b[0;34m.\u001b[0m\u001b[0mretrieve\u001b[0m\u001b[0;34m(\u001b[0m\u001b[0mquery\u001b[0m\u001b[0;34m,\u001b[0m \u001b[0mK\u001b[0m\u001b[0;34m)\u001b[0m\u001b[0;34m\u001b[0m\u001b[0;34m\u001b[0m\u001b[0m\n\u001b[0m\u001b[1;32m      9\u001b[0m \u001b[0;34m\u001b[0m\u001b[0m\n",
            "\u001b[0;32m<ipython-input-11-253a20d7bee3>\u001b[0m in \u001b[0;36mretrieve\u001b[0;34m(self, query, top_k)\u001b[0m\n\u001b[1;32m      7\u001b[0m         \u001b[0;34m\"\"\" Retrieve top-k relevant documents using BM25 \"\"\"\u001b[0m\u001b[0;34m\u001b[0m\u001b[0;34m\u001b[0m\u001b[0m\n\u001b[0;32m----> 8\u001b[0;31m         response = self.es.search(index=self.index_name, body={\n\u001b[0m\u001b[1;32m      9\u001b[0m             \"query\": {\n",
            "\u001b[0;32m/usr/local/lib/python3.11/dist-packages/elasticsearch/_sync/client/utils.py\u001b[0m in \u001b[0;36mwrapped\u001b[0;34m(*args, **kwargs)\u001b[0m\n\u001b[1;32m    454\u001b[0m \u001b[0;34m\u001b[0m\u001b[0m\n\u001b[0;32m--> 455\u001b[0;31m             \u001b[0;32mreturn\u001b[0m \u001b[0mapi\u001b[0m\u001b[0;34m(\u001b[0m\u001b[0;34m*\u001b[0m\u001b[0margs\u001b[0m\u001b[0;34m,\u001b[0m \u001b[0;34m**\u001b[0m\u001b[0mkwargs\u001b[0m\u001b[0;34m)\u001b[0m\u001b[0;34m\u001b[0m\u001b[0;34m\u001b[0m\u001b[0m\n\u001b[0m\u001b[1;32m    456\u001b[0m \u001b[0;34m\u001b[0m\u001b[0m\n",
            "\u001b[0;32m/usr/local/lib/python3.11/dist-packages/elasticsearch/_sync/client/__init__.py\u001b[0m in \u001b[0;36msearch\u001b[0;34m(self, index, aggregations, aggs, allow_no_indices, allow_partial_search_results, analyze_wildcard, analyzer, batched_reduce_size, ccs_minimize_roundtrips, collapse, default_operator, df, docvalue_fields, error_trace, expand_wildcards, explain, ext, fields, filter_path, force_synthetic_source, from_, highlight, human, ignore_throttled, ignore_unavailable, include_named_queries_score, indices_boost, knn, lenient, max_concurrent_shard_requests, min_compatible_shard_node, min_score, pit, post_filter, pre_filter_shard_size, preference, pretty, profile, q, query, rank, request_cache, rescore, rest_total_hits_as_int, retriever, routing, runtime_mappings, script_fields, scroll, search_after, search_type, seq_no_primary_term, size, slice, sort, source, source_excludes, source_includes, stats, stored_fields, suggest, suggest_field, suggest_mode, suggest_size, suggest_text, terminate_after, timeout, track_scores, track_total_hits, typed_keys, version, body)\u001b[0m\n\u001b[1;32m   5060\u001b[0m             \u001b[0m__headers\u001b[0m\u001b[0;34m[\u001b[0m\u001b[0;34m\"content-type\"\u001b[0m\u001b[0;34m]\u001b[0m \u001b[0;34m=\u001b[0m \u001b[0;34m\"application/json\"\u001b[0m\u001b[0;34m\u001b[0m\u001b[0;34m\u001b[0m\u001b[0m\n\u001b[0;32m-> 5061\u001b[0;31m         return self.perform_request(  # type: ignore[return-value]\n\u001b[0m\u001b[1;32m   5062\u001b[0m             \u001b[0;34m\"POST\"\u001b[0m\u001b[0;34m,\u001b[0m\u001b[0;34m\u001b[0m\u001b[0;34m\u001b[0m\u001b[0m\n",
            "\u001b[0;32m/usr/local/lib/python3.11/dist-packages/elasticsearch/_sync/client/_base.py\u001b[0m in \u001b[0;36mperform_request\u001b[0;34m(self, method, path, params, headers, body, endpoint_id, path_parts)\u001b[0m\n\u001b[1;32m    270\u001b[0m         ) as otel_span:\n\u001b[0;32m--> 271\u001b[0;31m             response = self._perform_request(\n\u001b[0m\u001b[1;32m    272\u001b[0m                 \u001b[0mmethod\u001b[0m\u001b[0;34m,\u001b[0m\u001b[0;34m\u001b[0m\u001b[0;34m\u001b[0m\u001b[0m\n",
            "\u001b[0;32m/usr/local/lib/python3.11/dist-packages/elasticsearch/_sync/client/_base.py\u001b[0m in \u001b[0;36m_perform_request\u001b[0;34m(self, method, path, params, headers, body, otel_span)\u001b[0m\n\u001b[1;32m    315\u001b[0m \u001b[0;34m\u001b[0m\u001b[0m\n\u001b[0;32m--> 316\u001b[0;31m         meta, resp_body = self.transport.perform_request(\n\u001b[0m\u001b[1;32m    317\u001b[0m             \u001b[0mmethod\u001b[0m\u001b[0;34m,\u001b[0m\u001b[0;34m\u001b[0m\u001b[0;34m\u001b[0m\u001b[0m\n",
            "\u001b[0;32m/usr/local/lib/python3.11/dist-packages/elastic_transport/_transport.py\u001b[0m in \u001b[0;36mperform_request\u001b[0;34m(self, method, target, body, headers, max_retries, retry_on_status, retry_on_timeout, request_timeout, client_meta, otel_span)\u001b[0m\n\u001b[1;32m    341\u001b[0m                 \u001b[0motel_span\u001b[0m\u001b[0;34m.\u001b[0m\u001b[0mset_node_metadata\u001b[0m\u001b[0;34m(\u001b[0m\u001b[0mnode\u001b[0m\u001b[0;34m.\u001b[0m\u001b[0mhost\u001b[0m\u001b[0;34m,\u001b[0m \u001b[0mnode\u001b[0m\u001b[0;34m.\u001b[0m\u001b[0mport\u001b[0m\u001b[0;34m,\u001b[0m \u001b[0mnode\u001b[0m\u001b[0;34m.\u001b[0m\u001b[0mbase_url\u001b[0m\u001b[0;34m,\u001b[0m \u001b[0mtarget\u001b[0m\u001b[0;34m)\u001b[0m\u001b[0;34m\u001b[0m\u001b[0;34m\u001b[0m\u001b[0m\n\u001b[0;32m--> 342\u001b[0;31m                 resp = node.perform_request(\n\u001b[0m\u001b[1;32m    343\u001b[0m                     \u001b[0mmethod\u001b[0m\u001b[0;34m,\u001b[0m\u001b[0;34m\u001b[0m\u001b[0;34m\u001b[0m\u001b[0m\n",
            "\u001b[0;32m/usr/local/lib/python3.11/dist-packages/elastic_transport/_node/_http_urllib3.py\u001b[0m in \u001b[0;36mperform_request\u001b[0;34m(self, method, target, body, headers, request_timeout)\u001b[0m\n\u001b[1;32m    166\u001b[0m \u001b[0;34m\u001b[0m\u001b[0m\n\u001b[0;32m--> 167\u001b[0;31m             response = self.pool.urlopen(\n\u001b[0m\u001b[1;32m    168\u001b[0m                 \u001b[0mmethod\u001b[0m\u001b[0;34m,\u001b[0m\u001b[0;34m\u001b[0m\u001b[0;34m\u001b[0m\u001b[0m\n",
            "\u001b[0;32m/usr/local/lib/python3.11/dist-packages/urllib3/connectionpool.py\u001b[0m in \u001b[0;36murlopen\u001b[0;34m(self, method, url, body, headers, retries, redirect, assert_same_host, timeout, pool_timeout, release_conn, chunked, body_pos, preload_content, decode_content, **response_kw)\u001b[0m\n\u001b[1;32m    786\u001b[0m             \u001b[0;31m# Make the request on the HTTPConnection object\u001b[0m\u001b[0;34m\u001b[0m\u001b[0;34m\u001b[0m\u001b[0m\n\u001b[0;32m--> 787\u001b[0;31m             response = self._make_request(\n\u001b[0m\u001b[1;32m    788\u001b[0m                 \u001b[0mconn\u001b[0m\u001b[0;34m,\u001b[0m\u001b[0;34m\u001b[0m\u001b[0;34m\u001b[0m\u001b[0m\n",
            "\u001b[0;32m/usr/local/lib/python3.11/dist-packages/urllib3/connectionpool.py\u001b[0m in \u001b[0;36m_make_request\u001b[0;34m(self, conn, method, url, body, headers, retries, timeout, chunked, response_conn, preload_content, decode_content, enforce_content_length)\u001b[0m\n\u001b[1;32m    533\u001b[0m         \u001b[0;32mtry\u001b[0m\u001b[0;34m:\u001b[0m\u001b[0;34m\u001b[0m\u001b[0;34m\u001b[0m\u001b[0m\n\u001b[0;32m--> 534\u001b[0;31m             \u001b[0mresponse\u001b[0m \u001b[0;34m=\u001b[0m \u001b[0mconn\u001b[0m\u001b[0;34m.\u001b[0m\u001b[0mgetresponse\u001b[0m\u001b[0;34m(\u001b[0m\u001b[0;34m)\u001b[0m\u001b[0;34m\u001b[0m\u001b[0;34m\u001b[0m\u001b[0m\n\u001b[0m\u001b[1;32m    535\u001b[0m         \u001b[0;32mexcept\u001b[0m \u001b[0;34m(\u001b[0m\u001b[0mBaseSSLError\u001b[0m\u001b[0;34m,\u001b[0m \u001b[0mOSError\u001b[0m\u001b[0;34m)\u001b[0m \u001b[0;32mas\u001b[0m \u001b[0me\u001b[0m\u001b[0;34m:\u001b[0m\u001b[0;34m\u001b[0m\u001b[0;34m\u001b[0m\u001b[0m\n",
            "\u001b[0;32m/usr/local/lib/python3.11/dist-packages/urllib3/connection.py\u001b[0m in \u001b[0;36mgetresponse\u001b[0;34m(self)\u001b[0m\n\u001b[1;32m    515\u001b[0m         \u001b[0;31m# Get the response from http.client.HTTPConnection\u001b[0m\u001b[0;34m\u001b[0m\u001b[0;34m\u001b[0m\u001b[0m\n\u001b[0;32m--> 516\u001b[0;31m         \u001b[0mhttplib_response\u001b[0m \u001b[0;34m=\u001b[0m \u001b[0msuper\u001b[0m\u001b[0;34m(\u001b[0m\u001b[0;34m)\u001b[0m\u001b[0;34m.\u001b[0m\u001b[0mgetresponse\u001b[0m\u001b[0;34m(\u001b[0m\u001b[0;34m)\u001b[0m\u001b[0;34m\u001b[0m\u001b[0;34m\u001b[0m\u001b[0m\n\u001b[0m\u001b[1;32m    517\u001b[0m \u001b[0;34m\u001b[0m\u001b[0m\n",
            "\u001b[0;32m/usr/lib/python3.11/http/client.py\u001b[0m in \u001b[0;36mgetresponse\u001b[0;34m(self)\u001b[0m\n\u001b[1;32m   1394\u001b[0m             \u001b[0;32mtry\u001b[0m\u001b[0;34m:\u001b[0m\u001b[0;34m\u001b[0m\u001b[0;34m\u001b[0m\u001b[0m\n\u001b[0;32m-> 1395\u001b[0;31m                 \u001b[0mresponse\u001b[0m\u001b[0;34m.\u001b[0m\u001b[0mbegin\u001b[0m\u001b[0;34m(\u001b[0m\u001b[0;34m)\u001b[0m\u001b[0;34m\u001b[0m\u001b[0;34m\u001b[0m\u001b[0m\n\u001b[0m\u001b[1;32m   1396\u001b[0m             \u001b[0;32mexcept\u001b[0m \u001b[0mConnectionError\u001b[0m\u001b[0;34m:\u001b[0m\u001b[0;34m\u001b[0m\u001b[0;34m\u001b[0m\u001b[0m\n",
            "\u001b[0;32m/usr/lib/python3.11/http/client.py\u001b[0m in \u001b[0;36mbegin\u001b[0;34m(self)\u001b[0m\n\u001b[1;32m    324\u001b[0m         \u001b[0;32mwhile\u001b[0m \u001b[0;32mTrue\u001b[0m\u001b[0;34m:\u001b[0m\u001b[0;34m\u001b[0m\u001b[0;34m\u001b[0m\u001b[0m\n\u001b[0;32m--> 325\u001b[0;31m             \u001b[0mversion\u001b[0m\u001b[0;34m,\u001b[0m \u001b[0mstatus\u001b[0m\u001b[0;34m,\u001b[0m \u001b[0mreason\u001b[0m \u001b[0;34m=\u001b[0m \u001b[0mself\u001b[0m\u001b[0;34m.\u001b[0m\u001b[0m_read_status\u001b[0m\u001b[0;34m(\u001b[0m\u001b[0;34m)\u001b[0m\u001b[0;34m\u001b[0m\u001b[0;34m\u001b[0m\u001b[0m\n\u001b[0m\u001b[1;32m    326\u001b[0m             \u001b[0;32mif\u001b[0m \u001b[0mstatus\u001b[0m \u001b[0;34m!=\u001b[0m \u001b[0mCONTINUE\u001b[0m\u001b[0;34m:\u001b[0m\u001b[0;34m\u001b[0m\u001b[0;34m\u001b[0m\u001b[0m\n",
            "\u001b[0;32m/usr/lib/python3.11/http/client.py\u001b[0m in \u001b[0;36m_read_status\u001b[0;34m(self)\u001b[0m\n\u001b[1;32m    285\u001b[0m     \u001b[0;32mdef\u001b[0m \u001b[0m_read_status\u001b[0m\u001b[0;34m(\u001b[0m\u001b[0mself\u001b[0m\u001b[0;34m)\u001b[0m\u001b[0;34m:\u001b[0m\u001b[0;34m\u001b[0m\u001b[0;34m\u001b[0m\u001b[0m\n\u001b[0;32m--> 286\u001b[0;31m         \u001b[0mline\u001b[0m \u001b[0;34m=\u001b[0m \u001b[0mstr\u001b[0m\u001b[0;34m(\u001b[0m\u001b[0mself\u001b[0m\u001b[0;34m.\u001b[0m\u001b[0mfp\u001b[0m\u001b[0;34m.\u001b[0m\u001b[0mreadline\u001b[0m\u001b[0;34m(\u001b[0m\u001b[0m_MAXLINE\u001b[0m \u001b[0;34m+\u001b[0m \u001b[0;36m1\u001b[0m\u001b[0;34m)\u001b[0m\u001b[0;34m,\u001b[0m \u001b[0;34m\"iso-8859-1\"\u001b[0m\u001b[0;34m)\u001b[0m\u001b[0;34m\u001b[0m\u001b[0;34m\u001b[0m\u001b[0m\n\u001b[0m\u001b[1;32m    287\u001b[0m         \u001b[0;32mif\u001b[0m \u001b[0mlen\u001b[0m\u001b[0;34m(\u001b[0m\u001b[0mline\u001b[0m\u001b[0;34m)\u001b[0m \u001b[0;34m>\u001b[0m \u001b[0m_MAXLINE\u001b[0m\u001b[0;34m:\u001b[0m\u001b[0;34m\u001b[0m\u001b[0;34m\u001b[0m\u001b[0m\n",
            "\u001b[0;32m/usr/lib/python3.11/socket.py\u001b[0m in \u001b[0;36mreadinto\u001b[0;34m(self, b)\u001b[0m\n\u001b[1;32m    717\u001b[0m             \u001b[0;32mtry\u001b[0m\u001b[0;34m:\u001b[0m\u001b[0;34m\u001b[0m\u001b[0;34m\u001b[0m\u001b[0m\n\u001b[0;32m--> 718\u001b[0;31m                 \u001b[0;32mreturn\u001b[0m \u001b[0mself\u001b[0m\u001b[0;34m.\u001b[0m\u001b[0m_sock\u001b[0m\u001b[0;34m.\u001b[0m\u001b[0mrecv_into\u001b[0m\u001b[0;34m(\u001b[0m\u001b[0mb\u001b[0m\u001b[0;34m)\u001b[0m\u001b[0;34m\u001b[0m\u001b[0;34m\u001b[0m\u001b[0m\n\u001b[0m\u001b[1;32m    719\u001b[0m             \u001b[0;32mexcept\u001b[0m \u001b[0mtimeout\u001b[0m\u001b[0;34m:\u001b[0m\u001b[0;34m\u001b[0m\u001b[0;34m\u001b[0m\u001b[0m\n",
            "\u001b[0;32m/usr/lib/python3.11/ssl.py\u001b[0m in \u001b[0;36mrecv_into\u001b[0;34m(self, buffer, nbytes, flags)\u001b[0m\n\u001b[1;32m   1313\u001b[0m                   self.__class__)\n\u001b[0;32m-> 1314\u001b[0;31m             \u001b[0;32mreturn\u001b[0m \u001b[0mself\u001b[0m\u001b[0;34m.\u001b[0m\u001b[0mread\u001b[0m\u001b[0;34m(\u001b[0m\u001b[0mnbytes\u001b[0m\u001b[0;34m,\u001b[0m \u001b[0mbuffer\u001b[0m\u001b[0;34m)\u001b[0m\u001b[0;34m\u001b[0m\u001b[0;34m\u001b[0m\u001b[0m\n\u001b[0m\u001b[1;32m   1315\u001b[0m         \u001b[0;32melse\u001b[0m\u001b[0;34m:\u001b[0m\u001b[0;34m\u001b[0m\u001b[0;34m\u001b[0m\u001b[0m\n",
            "\u001b[0;32m/usr/lib/python3.11/ssl.py\u001b[0m in \u001b[0;36mread\u001b[0;34m(self, len, buffer)\u001b[0m\n\u001b[1;32m   1165\u001b[0m             \u001b[0;32mif\u001b[0m \u001b[0mbuffer\u001b[0m \u001b[0;32mis\u001b[0m \u001b[0;32mnot\u001b[0m \u001b[0;32mNone\u001b[0m\u001b[0;34m:\u001b[0m\u001b[0;34m\u001b[0m\u001b[0;34m\u001b[0m\u001b[0m\n\u001b[0;32m-> 1166\u001b[0;31m                 \u001b[0;32mreturn\u001b[0m \u001b[0mself\u001b[0m\u001b[0;34m.\u001b[0m\u001b[0m_sslobj\u001b[0m\u001b[0;34m.\u001b[0m\u001b[0mread\u001b[0m\u001b[0;34m(\u001b[0m\u001b[0mlen\u001b[0m\u001b[0;34m,\u001b[0m \u001b[0mbuffer\u001b[0m\u001b[0;34m)\u001b[0m\u001b[0;34m\u001b[0m\u001b[0;34m\u001b[0m\u001b[0m\n\u001b[0m\u001b[1;32m   1167\u001b[0m             \u001b[0;32melse\u001b[0m\u001b[0;34m:\u001b[0m\u001b[0;34m\u001b[0m\u001b[0;34m\u001b[0m\u001b[0m\n",
            "\u001b[0;31mKeyboardInterrupt\u001b[0m: ",
            "\nDuring handling of the above exception, another exception occurred:\n",
            "\u001b[0;31mAttributeError\u001b[0m                            Traceback (most recent call last)",
            "\u001b[0;32m/usr/local/lib/python3.11/dist-packages/IPython/core/interactiveshell.py\u001b[0m in \u001b[0;36mshowtraceback\u001b[0;34m(self, exc_tuple, filename, tb_offset, exception_only, running_compiled_code)\u001b[0m\n\u001b[1;32m   2098\u001b[0m                         \u001b[0;31m# in the engines. This should return a list of strings.\u001b[0m\u001b[0;34m\u001b[0m\u001b[0;34m\u001b[0m\u001b[0m\n\u001b[0;32m-> 2099\u001b[0;31m                         \u001b[0mstb\u001b[0m \u001b[0;34m=\u001b[0m \u001b[0mvalue\u001b[0m\u001b[0;34m.\u001b[0m\u001b[0m_render_traceback_\u001b[0m\u001b[0;34m(\u001b[0m\u001b[0;34m)\u001b[0m\u001b[0;34m\u001b[0m\u001b[0;34m\u001b[0m\u001b[0m\n\u001b[0m\u001b[1;32m   2100\u001b[0m                     \u001b[0;32mexcept\u001b[0m \u001b[0mException\u001b[0m\u001b[0;34m:\u001b[0m\u001b[0;34m\u001b[0m\u001b[0;34m\u001b[0m\u001b[0m\n",
            "\u001b[0;31mAttributeError\u001b[0m: 'KeyboardInterrupt' object has no attribute '_render_traceback_'",
            "\nDuring handling of the above exception, another exception occurred:\n",
            "\u001b[0;31mTypeError\u001b[0m                                 Traceback (most recent call last)",
            "    \u001b[0;31m[... skipping hidden 1 frame]\u001b[0m\n",
            "\u001b[0;32m/usr/local/lib/python3.11/dist-packages/IPython/core/interactiveshell.py\u001b[0m in \u001b[0;36mshowtraceback\u001b[0;34m(self, exc_tuple, filename, tb_offset, exception_only, running_compiled_code)\u001b[0m\n\u001b[1;32m   2099\u001b[0m                         \u001b[0mstb\u001b[0m \u001b[0;34m=\u001b[0m \u001b[0mvalue\u001b[0m\u001b[0;34m.\u001b[0m\u001b[0m_render_traceback_\u001b[0m\u001b[0;34m(\u001b[0m\u001b[0;34m)\u001b[0m\u001b[0;34m\u001b[0m\u001b[0;34m\u001b[0m\u001b[0m\n\u001b[1;32m   2100\u001b[0m                     \u001b[0;32mexcept\u001b[0m \u001b[0mException\u001b[0m\u001b[0;34m:\u001b[0m\u001b[0;34m\u001b[0m\u001b[0;34m\u001b[0m\u001b[0m\n\u001b[0;32m-> 2101\u001b[0;31m                         stb = self.InteractiveTB.structured_traceback(etype,\n\u001b[0m\u001b[1;32m   2102\u001b[0m                                             value, tb, tb_offset=tb_offset)\n\u001b[1;32m   2103\u001b[0m \u001b[0;34m\u001b[0m\u001b[0m\n",
            "\u001b[0;32m/usr/local/lib/python3.11/dist-packages/IPython/core/ultratb.py\u001b[0m in \u001b[0;36mstructured_traceback\u001b[0;34m(self, etype, value, tb, tb_offset, number_of_lines_of_context)\u001b[0m\n\u001b[1;32m   1365\u001b[0m         \u001b[0;32melse\u001b[0m\u001b[0;34m:\u001b[0m\u001b[0;34m\u001b[0m\u001b[0;34m\u001b[0m\u001b[0m\n\u001b[1;32m   1366\u001b[0m             \u001b[0mself\u001b[0m\u001b[0;34m.\u001b[0m\u001b[0mtb\u001b[0m \u001b[0;34m=\u001b[0m \u001b[0mtb\u001b[0m\u001b[0;34m\u001b[0m\u001b[0;34m\u001b[0m\u001b[0m\n\u001b[0;32m-> 1367\u001b[0;31m         return FormattedTB.structured_traceback(\n\u001b[0m\u001b[1;32m   1368\u001b[0m             self, etype, value, tb, tb_offset, number_of_lines_of_context)\n\u001b[1;32m   1369\u001b[0m \u001b[0;34m\u001b[0m\u001b[0m\n",
            "\u001b[0;32m/usr/local/lib/python3.11/dist-packages/IPython/core/ultratb.py\u001b[0m in \u001b[0;36mstructured_traceback\u001b[0;34m(self, etype, value, tb, tb_offset, number_of_lines_of_context)\u001b[0m\n\u001b[1;32m   1265\u001b[0m         \u001b[0;32mif\u001b[0m \u001b[0mmode\u001b[0m \u001b[0;32min\u001b[0m \u001b[0mself\u001b[0m\u001b[0;34m.\u001b[0m\u001b[0mverbose_modes\u001b[0m\u001b[0;34m:\u001b[0m\u001b[0;34m\u001b[0m\u001b[0;34m\u001b[0m\u001b[0m\n\u001b[1;32m   1266\u001b[0m             \u001b[0;31m# Verbose modes need a full traceback\u001b[0m\u001b[0;34m\u001b[0m\u001b[0;34m\u001b[0m\u001b[0m\n\u001b[0;32m-> 1267\u001b[0;31m             return VerboseTB.structured_traceback(\n\u001b[0m\u001b[1;32m   1268\u001b[0m                 \u001b[0mself\u001b[0m\u001b[0;34m,\u001b[0m \u001b[0metype\u001b[0m\u001b[0;34m,\u001b[0m \u001b[0mvalue\u001b[0m\u001b[0;34m,\u001b[0m \u001b[0mtb\u001b[0m\u001b[0;34m,\u001b[0m \u001b[0mtb_offset\u001b[0m\u001b[0;34m,\u001b[0m \u001b[0mnumber_of_lines_of_context\u001b[0m\u001b[0;34m\u001b[0m\u001b[0;34m\u001b[0m\u001b[0m\n\u001b[1;32m   1269\u001b[0m             )\n",
            "\u001b[0;32m/usr/local/lib/python3.11/dist-packages/IPython/core/ultratb.py\u001b[0m in \u001b[0;36mstructured_traceback\u001b[0;34m(self, etype, evalue, etb, tb_offset, number_of_lines_of_context)\u001b[0m\n\u001b[1;32m   1122\u001b[0m         \u001b[0;34m\"\"\"Return a nice text document describing the traceback.\"\"\"\u001b[0m\u001b[0;34m\u001b[0m\u001b[0;34m\u001b[0m\u001b[0m\n\u001b[1;32m   1123\u001b[0m \u001b[0;34m\u001b[0m\u001b[0m\n\u001b[0;32m-> 1124\u001b[0;31m         formatted_exception = self.format_exception_as_a_whole(etype, evalue, etb, number_of_lines_of_context,\n\u001b[0m\u001b[1;32m   1125\u001b[0m                                                                tb_offset)\n\u001b[1;32m   1126\u001b[0m \u001b[0;34m\u001b[0m\u001b[0m\n",
            "\u001b[0;32m/usr/local/lib/python3.11/dist-packages/IPython/core/ultratb.py\u001b[0m in \u001b[0;36mformat_exception_as_a_whole\u001b[0;34m(self, etype, evalue, etb, number_of_lines_of_context, tb_offset)\u001b[0m\n\u001b[1;32m   1080\u001b[0m \u001b[0;34m\u001b[0m\u001b[0m\n\u001b[1;32m   1081\u001b[0m \u001b[0;34m\u001b[0m\u001b[0m\n\u001b[0;32m-> 1082\u001b[0;31m         \u001b[0mlast_unique\u001b[0m\u001b[0;34m,\u001b[0m \u001b[0mrecursion_repeat\u001b[0m \u001b[0;34m=\u001b[0m \u001b[0mfind_recursion\u001b[0m\u001b[0;34m(\u001b[0m\u001b[0morig_etype\u001b[0m\u001b[0;34m,\u001b[0m \u001b[0mevalue\u001b[0m\u001b[0;34m,\u001b[0m \u001b[0mrecords\u001b[0m\u001b[0;34m)\u001b[0m\u001b[0;34m\u001b[0m\u001b[0;34m\u001b[0m\u001b[0m\n\u001b[0m\u001b[1;32m   1083\u001b[0m \u001b[0;34m\u001b[0m\u001b[0m\n\u001b[1;32m   1084\u001b[0m         \u001b[0mframes\u001b[0m \u001b[0;34m=\u001b[0m \u001b[0mself\u001b[0m\u001b[0;34m.\u001b[0m\u001b[0mformat_records\u001b[0m\u001b[0;34m(\u001b[0m\u001b[0mrecords\u001b[0m\u001b[0;34m,\u001b[0m \u001b[0mlast_unique\u001b[0m\u001b[0;34m,\u001b[0m \u001b[0mrecursion_repeat\u001b[0m\u001b[0;34m)\u001b[0m\u001b[0;34m\u001b[0m\u001b[0;34m\u001b[0m\u001b[0m\n",
            "\u001b[0;32m/usr/local/lib/python3.11/dist-packages/IPython/core/ultratb.py\u001b[0m in \u001b[0;36mfind_recursion\u001b[0;34m(etype, value, records)\u001b[0m\n\u001b[1;32m    380\u001b[0m     \u001b[0;31m# first frame (from in to out) that looks different.\u001b[0m\u001b[0;34m\u001b[0m\u001b[0;34m\u001b[0m\u001b[0m\n\u001b[1;32m    381\u001b[0m     \u001b[0;32mif\u001b[0m \u001b[0;32mnot\u001b[0m \u001b[0mis_recursion_error\u001b[0m\u001b[0;34m(\u001b[0m\u001b[0metype\u001b[0m\u001b[0;34m,\u001b[0m \u001b[0mvalue\u001b[0m\u001b[0;34m,\u001b[0m \u001b[0mrecords\u001b[0m\u001b[0;34m)\u001b[0m\u001b[0;34m:\u001b[0m\u001b[0;34m\u001b[0m\u001b[0;34m\u001b[0m\u001b[0m\n\u001b[0;32m--> 382\u001b[0;31m         \u001b[0;32mreturn\u001b[0m \u001b[0mlen\u001b[0m\u001b[0;34m(\u001b[0m\u001b[0mrecords\u001b[0m\u001b[0;34m)\u001b[0m\u001b[0;34m,\u001b[0m \u001b[0;36m0\u001b[0m\u001b[0;34m\u001b[0m\u001b[0;34m\u001b[0m\u001b[0m\n\u001b[0m\u001b[1;32m    383\u001b[0m \u001b[0;34m\u001b[0m\u001b[0m\n\u001b[1;32m    384\u001b[0m     \u001b[0;31m# Select filename, lineno, func_name to track frames with\u001b[0m\u001b[0;34m\u001b[0m\u001b[0;34m\u001b[0m\u001b[0m\n",
            "\u001b[0;31mTypeError\u001b[0m: object of type 'NoneType' has no len()"
          ]
        }
      ],
      "source": [
        "retriever = BM25Retriever()\n",
        "correct_count = 0\n",
        "wrong_count = 0\n",
        "wrong_rows = []\n",
        "for row in test_dataset:\n",
        "  print(f\"processing {row['id']}\")\n",
        "  query = row[\"question\"]\n",
        "  top_docs = retriever.retrieve(query, K)\n",
        "\n",
        "  if row[\"article_id\"] in [doc[\"id\"] for doc in top_docs]:\n",
        "    correct_count+=1\n",
        "  else:\n",
        "    wrong_count+=1\n",
        "    wrong_rows.append(row)\n",
        "\n",
        "print(f\"correct: {correct_count}\")\n",
        "print(f\"wrong: {wrong_count}\")"
      ]
    },
    {
      "cell_type": "code",
      "execution_count": null,
      "metadata": {
        "id": "xWcyWVrkMQCb"
      },
      "outputs": [],
      "source": [
        "print([row[\"id\"] for row in wrong_rows])"
      ]
    },
    {
      "cell_type": "markdown",
      "metadata": {
        "id": "0b_2XI8Za1eP"
      },
      "source": [
        "## Batch Retrieving"
      ]
    },
    {
      "cell_type": "code",
      "execution_count": null,
      "metadata": {
        "id": "Dmof6upoW3W2"
      },
      "outputs": [],
      "source": [
        "retriever = BM25Retriever()\n",
        "batch_size = 100\n",
        "top_k = 1\n",
        "top_docs = []\n",
        "correct_count = 0\n",
        "wrong_count = 0\n",
        "wrong_rows = []\n",
        "\n",
        "for i in range(0, len(test_dataset), batch_size):\n",
        "    batch = test_dataset.select(range(i, min(i + batch_size, len(test_dataset))))\n",
        "\n",
        "    # Retrieve documents in batch\n",
        "    batch_top_docs = retriever.retrieve_batch([row[\"question\"] for row in batch], top_k)\n",
        "\n",
        "    for row, top_docs in zip(batch, batch_top_docs):\n",
        "        if row[\"article_id\"] in [doc[\"id\"] for doc in top_docs]:\n",
        "            correct_count += 1\n",
        "        else:\n",
        "            wrong_count += 1\n",
        "            wrong_rows.append(row)\n",
        "\n",
        "print(f\"correct: {correct_count}\")\n",
        "print(f\"wrong: {wrong_count}\")\n",
        "print([row[\"id\"] for row in wrong_rows])"
      ]
    },
    {
      "cell_type": "markdown",
      "metadata": {
        "id": "l9l2t-VQc8K4"
      },
      "source": [
        "## Questions that are always wrong"
      ]
    },
    {
      "cell_type": "code",
      "execution_count": null,
      "metadata": {
        "id": "mLFW3lv-dAd1"
      },
      "outputs": [],
      "source": [
        "wrong_1 = ['00437-006', '00247-009', '01195-010', '00139-012', '00206-016', '00561-015', '00158-008', '01024-009', '00123-018', '00647-013', '00982-008', '01305-006', '00565-016', '01545-011', '01164-010', '00509-015', '01022-001', '01690-017', '00192-014', '01208-009', '01508-002', '00574-016', '00937-010', '00719-017', '01393-013', '00475-002', '00107-008', '00838-007', '00838-005', '00843-010', '01632-008', '00474-006', '00711-009', '01245-015', '01003-014', '00078-013', '01390-011', '00915-004', '00133-009', '00933-007', '00699-011', '00919-001', '00681-009', '01266-016', '01180-004', '00990-004', '00967-005', '01067-002', '00254-016', '01365-009', '00165-004', '00830-015', '00473-006', '00734-005', '00846-006', '00480-009', '00380-011', '01599-001', '00248-010', '01513-006', '00344-010', '00865-008', '01335-014', '01630-016', '00430-001', '00556-008', '01225-012', '00688-017', '00513-002', '00526-017', '01556-003', '00322-012', '01414-001', '00636-010', '00059-001', '00071-003', '00913-001', '01260-013', '01144-003', '01692-014', '00688-006', '01444-014', '00948-018', '01632-006', '01225-005', '00590-017', '00241-012', '01390-005', '00182-015', '00526-005', '00152-015', '01540-014', '00488-008', '00796-014', '00427-018', '00402-007', '00655-006', '01622-016', '01325-012', '00887-015', '00790-018', '00415-006', '01639-001', '00072-002', '00530-014', '00263-013', '01608-010', '00799-002', '00226-005', '00491-010', '00569-011', '01029-012', '00545-002', '01301-007', '00625-003', '01168-010', '00110-005', '00772-012', '01268-017', '00821-017', '00131-012', '00128-013', '00313-017', '01442-011', '01328-007', '01130-013', '01161-013', '00784-017', '01422-010', '00371-008', '00889-002', '01353-014', '01546-017', '01394-004', '00949-016', '01325-006', '00509-002', '01445-017', '00938-008', '00905-002', '01321-014', '00855-008', '00113-015', '00484-007', '01615-001', '01371-004', '00746-011', '01254-007', '00395-006', '00317-007', '00069-014', '00600-016', '01061-003', '00448-010', '00079-012', '01208-006', '00126-010', '01059-015', '00720-005', '00055-016', '00567-017', '01623-005', '01230-009', '01568-002', '00726-013', '00703-003', '00752-013', '00535-018', '00452-006', '00651-017', '00353-013', '01291-012', '00375-006', '00255-014', '01489-004', '01442-003', '00484-008', '01223-007', '00439-016', '00572-003', '01658-007', '01294-007', '00928-017', '01330-013', '00869-005', '01564-016', '00614-003', '00321-016', '00550-002', '01094-006', '00726-010', '01560-005', '01301-016', '01244-017', '00667-008', '00248-009', '01558-004', '00992-014', '01476-002', '00396-013', '00730-016', '00052-014', '00930-018', '01157-013', '01222-001', '01697-013', '01543-009', '00525-004', '01268-016', '01599-003', '00515-006', '00414-013', '00268-014', '01109-014', '01135-007', '00192-013', '00212-011', '01546-012', '00313-001', '00670-004', '00579-006', '01219-007', '00171-018', '01456-005', '00474-009', '00516-004', '00444-009', '01249-006', '00480-001', '01435-004', '00968-015', '00453-004', '00062-006', '00886-008', '00981-006', '00701-012', '00031-012', '01625-010', '01542-012', '01241-015', '01402-003', '00499-004', '00169-004', '00519-011', '00525-007', '01144-007', '00589-008', '01256-010', '00113-012', '01378-016', '01030-006', '00557-014', '00257-005', '01560-003', '00392-015', '00330-010', '00133-002', '01100-010', '00623-011', '00478-013', '01007-004', '00907-010', '01129-011', '00322-006', '00708-017', '01311-012', '00850-016', '00143-003', '00525-012', '00193-009', '00226-004', '00037-012', '00280-016', '01291-004', '01301-001', '00505-017', '01360-014', '01610-010', '00453-005', '00164-001', '00257-017', '00560-012', '00517-004', '00610-003', '00044-012', '00748-008', '00513-003', '00706-003', '00422-013', '00617-011', '00152-002', '00725-011', '00943-011', '00212-006', '00231-011', '00471-014', '00582-013', '01547-009', '01451-009', '01071-004', '01382-002', '01134-011', '00179-013', '01521-005', '00934-018', '01552-013', '01627-008', '01377-017', '00213-003', '01525-015', '01227-008', '00283-011', '00813-013', '01545-001', '00525-014', '01276-012', '00460-015', '00471-017', '00230-013', '00931-007', '01073-014', '00793-003', '01036-016', '01443-016', '00480-010', '00395-003', '00233-014', '00901-015', '01420-016', '01263-001', '01324-006', '01440-013', '00335-004', '01632-004', '00589-007', '00577-014', '01408-004', '01592-003', '01107-010', '01210-006', '01555-002', '01139-017', '00505-014', '01214-011', '01567-005', '01349-012', '00232-011', '00709-014', '00183-014', '00230-006', '00744-010', '00928-018', '00732-003', '01230-008', '01444-003', '01152-009', '01567-018', '00360-016', '00241-009', '00197-011', '01453-015', '00919-016', '00703-008', '01418-016', '00868-009', '01084-001', '00186-001', '00048-017', '01425-012', '00295-014', '00197-006', '00563-006', '00343-001', '00788-011', '01439-018', '00059-003', '00694-014', '01143-017', '01109-006', '01036-002', '01135-012', '00687-005', '00048-006', '00946-016', '01338-007', '00849-011', '00747-012', '01380-002', '00085-014', '00974-013', '00587-013', '00745-005', '01406-002', '00599-003', '00583-013', '01083-016', '01071-011', '01161-016', '00085-007', '00050-013', '01180-006', '00806-015', '01596-015', '00752-015', '01096-017', '01189-015', '01370-014', '00671-011', '01103-011', '00255-008', '01559-014', '00085-005', '00316-017', '00821-016', '01227-012', '00363-011', '00718-008', '01534-015', '00932-003', '00396-007', '01591-015', '01669-001', '01362-010', '00631-003', '00732-009', '00159-007', '01291-016', '00904-001', '00449-013', '00763-016', '01024-005', '00510-004', '00999-008', '00928-005', '01315-009', '00561-005', '01190-007', '00953-011', '00972-016', '01319-005', '00714-013', '00721-011', '00268-013', '01250-013', '00123-004', '00143-012', '01358-017', '00368-002', '01608-001', '01532-007', '00850-009', '01218-005', '01520-018', '00831-006', '01544-011', '00421-011', '01547-017', '00477-006', '01583-003', '01041-013', '00463-002', '01420-015', '00972-002', '01615-010', '00200-012', '00572-015', '00761-014', '00289-004', '00241-007', '01263-007', '00983-003', '00047-003', '00156-017', '00600-013', '01396-010', '01355-003', '00042-001', '01113-003', '00765-010', '00072-009', '00720-015', '01284-014', '01245-013', '01557-011', '00083-002', '01419-011', '00250-010', '00347-006', '00072-014', '01059-004', '00037-003', '01669-015', '00132-011', '01559-017', '00988-007', '00353-007', '00555-007', '00729-014', '00934-005', '01549-007', '00394-002', '01145-017', '00256-010', '01508-003', '01287-009', '01276-009', '00572-002', '00164-014', '01059-012', '01379-017', '01325-002', '01139-016', '00956-010', '00595-013', '01372-005', '00211-002', '01675-002', '00289-005', '00134-016', '00209-001', '00851-001', '00701-013', '00445-002', '00142-011', '00799-018', '00846-015', '00789-015', '01596-004', '00899-003', '01623-015', '01034-013', '01380-010', '00296-009', '01039-014', '00933-005', '01264-013', '00869-008', '01288-004', '00525-008', '01388-011', '00793-017', '01312-009', '00360-017', '00931-008', '00943-015', '00559-016', '01326-012', '01264-017', '00643-005', '01274-008', '00092-011', '01329-010', '00214-018', '00776-009', '00937-017', '01564-010', '01094-010', '01632-011', '00772-011', '00677-002', '00453-015', '00943-006', '01662-002', '00983-007', '01463-009', '00642-004', '01072-016', '00486-002', '00852-015', '00322-009', '00513-013', '00769-016', '01224-017', '00408-012', '01144-016', '00804-002', '00671-012', '01114-009', '00871-016', '01145-003', '00078-008', '00816-003', '00469-009', '01563-009', '01100-009', '01420-012', '00896-002', '00946-014', '00820-016', '00085-002', '01029-016', '00059-010', '00448-004', '01153-005', '00871-010', '00492-001', '01578-007', '01335-011', '00645-009', '01004-003', '01627-004', '00108-013', '00087-001', '00730-007', '00621-015', '01275-009', '00051-004', '00180-015', '01391-010', '00606-013', '01196-012', '01401-001', '01378-003', '00445-017', '00294-002', '01631-009', '00760-010', '00352-004', '01378-010', '00619-008', '00663-003', '00034-012', '00500-012', '01216-014', '00938-004', '00030-006', '01681-013', '00156-004', '00037-001', '01563-016', '00819-003', '00397-002', '01613-009', '00393-013', '01683-013', '01042-009', '01564-004', '00442-008', '00765-007', '00209-007', '01111-012', '00460-002', '01517-008', '00038-008', '00884-001', '00726-015', '01549-006', '01353-001', '00940-009', '00302-015', '01275-010', '00620-003', '01111-010', '00754-004', '00938-010', '01406-010', '00214-010', '00096-016', '00772-005', '01167-012', '01142-007', '00394-007', '01368-011', '00647-004', '01662-014', '01100-013', '01308-016', '01688-015', '01325-016', '01329-007', '00192-004', '00580-015', '00833-006', '00247-011', '00938-011', '01005-017', '00452-010', '00721-012', '01559-005', '00569-009', '01082-016', '00606-009', '00826-004', '00915-017', '01378-008', '00845-004', '00556-001', '00078-019', '01227-017', '01096-016', '00817-011', '00831-011', '00729-004', '00073-017', '01673-017', '00427-011', '00452-007', '01696-009', '00555-012', '00994-010', '00427-003', '00543-017', '00808-009', '00966-008', '00954-005', '00351-002', '00059-016', '00694-002', '00991-004', '00213-008', '01305-010', '01623-012', '00406-015', '00779-011', '01344-015', '01277-012', '01199-004', '00699-016', '00209-005', '01046-001', '01511-016', '00498-011', '00537-017', '00808-015', '01174-013', '01631-001', '00351-007', '01618-012', '00889-003', '00523-007', '00192-008', '01404-015', '00743-014', '00363-016', '00214-014', '01558-005', '00242-002', '00028-005', '01406-004', '00327-013', '01117-001', '01047-018', '00480-017', '00589-011', '01605-008', '01034-014', '01082-014', '00940-013', '00450-009', '00181-010', '00193-006', '01417-008', '01165-014', '00680-005', '00076-008', '01464-007', '01310-003', '00759-016', '01265-016', '00291-013', '00038-014', '00194-015', '00982-017', '00971-013', '01237-010', '00534-016', '00444-003', '00638-004', '00651-001', '00931-010', '01443-017', '01380-013', '00627-003', '00483-012', '00699-012', '01581-004', '00077-002', '00691-015', '01256-012', '01140-007', '01113-013', '01421-003', '01684-017', '00407-017', '00365-014', '00515-013', '00480-018', '00797-014', '01095-014', '01147-002', '00036-009', '01489-010', '00439-005', '01020-015', '01146-013', '00463-015', '00458-002', '00596-009', '01018-009', '00701-006', '00843-011', '00303-011', '01674-014', '01388-006', '00647-012', '01371-015', '00743-004', '00472-002', '01615-008', '01622-008', '01264-007', '01596-006', '00217-018', '00766-015', '01511-004', '01312-018', '00384-004', '00311-008', '00343-015', '01554-013', '00227-014', '00423-017', '00352-005', '01574-002', '00356-013', '00383-012', '00034-009', '01296-011', '00825-003', '01021-014', '01495-014', '01674-016', '00203-009', '00699-002', '00402-002', '01379-008', '01227-003', '01109-010', '00362-005', '00093-010', '00913-011', '01111-016', '00649-004', '00025-013', '00970-003', '00582-011', '00128-004', '00159-015', '00961-016', '01522-008', '01418-003', '00605-012', '00499-008', '00793-002', '01419-002', '00686-012', '01237-004', '01546-015', '01532-014', '01181-004', '00897-001', '00474-001', '00391-007', '00889-004', '00379-014', '00047-015', '00901-011', '01292-014', '00851-002', '01556-012', '01676-002', '00278-007', '00222-013', '00843-003', '00643-001', '01631-011', '01644-006', '00296-015', '00750-016', '00089-012', '00189-015', '01369-004', '01335-017', '00993-010', '00448-012', '00732-005', '01552-006', '00486-010', '00029-006', '01684-002', '01002-008', '00732-004', '01674-011', '01442-004', '01248-012', '00711-011', '00990-006', '00510-007', '00125-009', '00198-019', '01487-016', '00918-005', '00335-002', '01099-015', '01669-007', '01480-007', '00194-006', '01024-012', '00645-007', '01388-012', '01152-008', '01548-017', '01157-005', '01315-001', '01378-015', '01571-012', '01670-015', '00698-006', '00611-001', '01496-005', '00065-007', '01384-005', '01676-010', '00451-004', '01208-004', '01257-010', '00492-004', '01421-012', '00837-010', '00267-001', '00775-002', '00541-007', '00399-013', '01384-013', '01223-008', '01447-012', '01539-012', '00209-003', '01459-012', '00785-018', '00562-003', '01101-005', '01138-014', '00603-006', '00705-006', '00085-015', '01477-010', '00628-004', '01650-002', '00425-012', '00940-003', '01529-010', '01671-008', '01627-009', '01170-012', '00474-002', '00580-014', '00396-016', '00589-013', '00434-006', '00525-015', '00513-017', '01169-009', '01654-016', '00374-009', '00390-003', '00256-002', '00617-015', '01134-001', '00742-016', '00180-008', '01210-011', '01189-009', '00825-002', '01272-016', '01533-005', '00313-005', '01484-016', '00842-014', '01458-001', '01343-002', '00300-003', '01680-015', '01113-006', '00180-012', '01483-004', '01112-004', '01386-013', '00504-011', '00904-002', '00834-003', '00665-005', '01609-016', '00192-007', '00918-006', '00528-010', '01556-001', '01134-006', '00879-016', '00375-007', '00695-005', '00918-002', '00541-018', '00943-012', '00990-010', '00047-010', '00865-007', '01170-007', '01613-004', '01149-002', '00501-012', '00817-001', '00994-011', '00338-013', '01236-006', '01013-018', '00441-013', '00091-002', '00801-010', '00354-001', '01400-006', '01068-015', '01252-013', '01039-009', '01470-014', '00992-016', '01439-017', '00221-014', '00181-015', '01029-011', '01258-004', '01394-007', '01117-004', '01465-015', '01598-006', '00600-017', '00400-003', '01170-006', '01675-017', '01029-006', '01211-011', '00668-011', '01465-018', '01674-002', '01118-002', '00639-011', '01143-010', '01059-007', '00847-016', '01445-002', '01491-007', '00930-003', '00179-001', '00647-011', '00425-018', '00207-008', '00567-010', '00521-007', '00953-012', '00360-002', '01300-004', '00915-014', '00749-002', '00457-016', '00126-014', '00938-017', '01229-014', '00712-006', '00894-002', '01643-011', '01071-007', '00938-005', '01319-015', '01238-014', '00232-003', '01264-012', '01396-015', '00078-009', '01032-001', '00695-004', '00510-001', '00869-014', '00976-004', '00066-011', '00087-003', '01165-015', '00242-015', '00649-003', '00490-012', '00302-001', '00583-003', '00180-007', '00073-013', '01089-009', '00447-009', '01084-004', '00038-006', '01046-015', '01310-011', '01523-008', '01505-002', '01001-016', '00594-008', '01651-013', '00582-009', '00627-008', '01118-013', '00131-010', '00696-001', '01275-001', '00183-004', '00990-017', '00900-018', '00673-008', '01553-014', '01696-016', '01137-008', '00357-003', '00048-008', '00835-009', '00211-017', '00469-001', '00645-014', '01458-002', '00777-012', '00822-004', '01401-002', '00284-011', '00321-019', '01465-005', '01223-019', '00873-007', '00604-013', '00745-001', '00452-016', '00193-001', '00029-017', '00178-001', '00563-014', '00798-016', '01039-005', '01253-002', '00700-011', '00502-007', '01679-004', '00751-013', '01090-011', '00650-010', '00655-004', '01250-008', '01550-016', '01699-003', '00247-014', '01013-011', '01200-016', '00400-013', '00502-013', '00131-001', '00064-011', '01553-005', '01522-009', '01529-001', '00615-006', '01272-007', '01022-003', '00275-008', '01325-003', '01060-011', '00362-016', '00499-007', '00575-002', '00116-013', '00836-002', '00394-003', '01149-017', '01646-019', '00464-009', '00992-002', '01114-005', '01379-007', '01420-006', '00927-017', '01292-006', '00229-008', '00090-008', '00803-015', '01506-015', '00062-004', '00543-016', '00522-004', '01140-001', '01244-002', '01580-019', '01310-017', '00833-009', '00463-008', '00552-007', '01370-013', '00093-015', '00826-014', '01370-009', '00941-003', '01104-016', '01457-008', '01187-010', '00437-003', '00779-010', '00656-017', '00913-003', '00510-006', '00091-008', '00469-010', '00357-017', '00776-002', '01021-006', '00510-016', '00104-002', '00931-003', '01530-006', '01170-016', '00300-011', '00116-007', '00403-002', '00950-001', '00226-010', '00593-016', '00653-015', '01572-002', '00188-007', '00075-004', '00176-003', '01479-012', '01142-008', '00760-017', '01445-012', '00923-003', '01353-002', '00114-007', '00371-012', '00254-013', '00636-013', '01361-016', '00201-015', '01696-003', '01388-005', '00500-011', '01264-010', '01499-003', '00825-017', '01501-016', '00767-002', '01141-009', '00683-006', '00674-008', '00839-015', '00420-004', '00748-001', '01169-008', '01215-008', '01100-014', '00464-003', '00619-013', '01242-011', '01339-015', '00267-003', '01603-002', '00769-010', '00075-008', '00567-002', '00218-014', '00744-016', '01281-016', '01650-007', '00754-013', '01167-004', '00120-009', '00073-001', '01244-015', '00249-007', '01026-009', '01278-010', '00233-001', '00386-001', '00221-016', '00205-002', '01187-005', '01600-013', '00349-001', '00294-003', '00861-011', '00366-010', '01511-002', '00450-006', '01024-003', '00804-017', '01149-005', '01603-009', '00576-016', '00925-007', '01631-004', '00449-002', '00263-016', '00643-003', '00756-008', '00381-015', '00610-012', '00564-008', '01471-004', '00730-011', '01227-002', '01401-012', '00492-009', '00264-002', '00064-016', '00142-001', '00121-011', '01484-017', '00633-005', '01552-008', '01265-001', '01514-001', '00429-001', '00328-003', '00181-003', '01186-001', '00828-010', '00699-017', '01039-008', '00400-017', '00057-009', '00843-002', '00865-014', '00062-010', '00686-008', '01000-010', '00980-012', '00628-012', '00716-010', '00247-016', '01199-017', '00509-017', '01052-012', '01629-014', '00836-011', '00283-008', '01152-002', '01631-015', '00075-017', '01469-009', '00226-002', '00392-008', '00743-003', '01155-013', '01406-015', '01521-006', '00665-002', '01260-006', '00486-016', '01370-010', '00053-013', '01364-016', '00639-002', '00909-002', '01650-017', '00185-016', '01375-013', '01547-013', '01553-009', '00962-017', '01061-011', '01373-005', '00341-003', '00623-014', '00963-002', '01557-008', '01336-004', '00399-001', '01206-017', '01029-009', '00557-002', '00209-010', '01534-002', '01546-011', '00390-014', '01661-003', '00729-011', '00628-011', '00736-003', '01431-003', '01160-014', '00091-013', '00189-014', '00472-008', '00869-016', '01423-002', '00606-008', '00362-006', '00248-007', '01556-015', '00753-015', '01237-013', '00976-012', '01204-015', '01209-003', '00251-010', '00684-015', '00347-007', '01631-017', '00524-016', '00813-010', '01132-013', '01572-001', '00704-004', '01095-010', '01195-012', '00857-007', '00640-003', '00474-016', '00753-018', '01134-003', '01684-012', '00981-015', '00525-003', '01237-002', '01489-002', '00538-004', '01668-013', '00449-003', '00831-016', '01676-005', '00482-004', '01321-010', '00993-008', '01087-001', '00128-011', '00392-004', '00859-004', '01275-002', '01544-001', '00440-003', '01315-012', '01086-001', '01514-002', '00059-008', '00730-006', '01281-005', '00720-013', '00906-014', '01429-004', '01507-004', '01209-009', '01500-019', '01594-014', '01622-009', '00953-002', '00979-007', '00972-017', '01225-016', '00086-001', '00620-004', '00627-009', '01342-013', '00752-005', '01600-006', '00395-010', '01157-006', '01136-008', '00597-009', '00427-008', '00395-012', '00263-008', '00534-003', '01256-003', '01111-006', '00292-007', '01209-013', '00289-012', '00927-013', '01328-010', '01380-001', '00242-010', '00681-003', '01111-002', '00475-010', '00913-004', '00490-014', '00146-013', '00485-008', '00763-008', '00303-016', '01325-017', '01069-010', '00403-008', '00730-001', '00167-002', '00705-016', '01186-015', '00209-016', '00428-013', '00612-007', '00542-015', '00365-013', '01265-013', '00665-008', '00710-017', '00812-005', '01340-012', '01552-009', '00399-016', '00910-003', '01640-012', '00394-005', '00599-002', '00232-001', '00629-014', '01211-017', '00412-009', '01644-005', '00188-001', '01243-014', '00292-014', '00085-008', '01051-002', '01337-003', '00481-014', '01276-013', '00064-014', '01487-008', '01475-018', '00582-002', '00487-014', '01112-006', '00799-004', '00028-016', '00176-008', '00041-006', '00913-006', '01291-014', '01018-004', '01082-010', '01128-004', '01359-013', '00604-012', '00424-007', '01547-007', '00776-006', '00538-017', '00319-009', '00114-014', '01001-018', '00615-019', '01125-006', '00750-005', '01109-005', '00486-017', '00336-003', '01558-017', '00889-012', '01594-012', '00952-011', '00786-016', '00089-015', '01152-010', '01441-006', '00424-009', '00967-003', '00910-011', '00520-014', '01533-009', '01537-001', '00466-003', '00442-011', '01207-015', '00158-009', '01668-017', '00753-010', '01522-012', '00402-005', '01272-018', '00155-005', '01111-009', '01260-012', '01436-016', '00241-003', '01143-014', '00603-007', '00821-015', '00981-007', '01099-004', '01654-001', '00289-013', '01534-007', '00036-015', '00482-005', '01069-003', '00781-015', '01676-011', '01399-003', '00925-013', '01529-003', '00864-010', '01121-008', '00072-011', '00926-006', '00034-017', '01253-003', '00941-006', '01054-012', '00333-011', '00993-014', '00096-004', '00767-003', '00276-010', '00908-006', '01658-008', '01445-001', '01516-013', '00089-011', '01553-003', '00078-016', '00502-017', '00209-013', '00788-015', '00926-008', '00026-002', '00651-010', '01020-002', '01556-014', '00677-004', '01412-011', '00335-015', '01580-010', '01037-009', '00120-014', '00948-007', '01482-016', '01291-007', '00171-001', '00595-015', '00361-003', '00861-004', '00963-015', '00028-014', '01501-014', '01407-004', '00735-016', '01225-006', '00083-012', '00360-009', '01673-015', '00745-006', '00736-004', '00792-012', '00550-018', '01483-014', '00971-012', '01101-002', '00091-010', '01028-014', '01662-016', '00611-009', '00531-006', '01114-002', '00531-016', '00490-009', '01650-006', '01622-012', '00780-013', '00120-003', '00423-011', '00684-006', '00969-010', '01303-003', '00420-014', '00302-012', '00755-016', '01522-013', '00403-006', '00549-001', '00825-010', '00642-013', '01646-018', '00473-008', '00194-009', '01069-016', '01280-005', '01534-008', '01100-016', '01630-002', '01343-004', '00188-008', '00313-015', '00256-017', '01211-013', '00368-006', '00054-007', '00686-002', '01292-011', '00796-004', '01206-013', '00034-005', '01071-014', '01345-006', '00749-009', '00681-011', '00869-007', '00669-006', '00617-004', '00760-008', '00040-010', '00424-008', '00683-009', '00406-012', '01212-014', '00569-013', '01321-002', '00068-002', '00415-005', '00064-006', '00913-005', '01445-008', '01264-006', '00130-004', '01471-009', '00477-007', '00915-002', '01615-003', '01268-006', '01272-012', '00125-002', '01560-007', '01553-016', '01359-005', '00987-011', '00093-014', '01164-013', '00995-007', '01586-016', '01631-007', '00958-015', '00373-017', '00906-010', '01632-013', '00854-004', '00454-015', '00927-011', '01146-009', '00143-001', '00883-014', '01640-001', '01263-017', '00982-006', '01391-008', '01301-010', '00595-001', '00837-001', '00196-015', '00986-014', '01456-016', '00592-017', '00648-016', '00412-013', '01516-011', '00883-003', '01099-011', '01574-001', '00260-014', '01548-012', '00774-003', '00346-012', '00933-008', '01668-003', '00776-015', '01291-001', '01303-006', '00962-010', '00226-011', '01442-014', '00241-008', '00972-001', '01221-005', '01594-015', '00868-013', '01199-005', '01026-006', '01366-015', '01590-008', '00328-010', '00683-017', '00647-001', '00548-012', '00517-007', '01598-014', '00720-010', '00311-005', '01192-015', '00821-019', '01555-016', '01284-001', '00950-005', '01063-014', '01597-014', '00074-010', '00242-001', '00054-018', '00573-002', '00302-009', '01282-017', '01566-007', '00146-016', '00095-018', '00885-012', '00870-009', '00490-016', '00213-007', '00752-017', '01517-012', '01493-014', '01268-014', '01076-006', '01361-008', '00108-004', '01296-004', '01082-018', '00491-014', '01220-003', '00571-016', '00331-016', '00115-003', '00292-005', '01018-016', '00320-004', '00118-006', '00562-002', '01362-009', '00919-007', '01410-013', '01341-011', '00572-004', '00205-004', '00617-014', '01508-005', '00440-015', '01444-004', '01168-002', '00032-009', '01110-008', '00857-005', '00775-003', '00642-005', '01181-003', '00263-015', '01375-003', '00573-017', '00950-017', '00414-017', '01043-013', '01113-002', '01026-005', '01120-001', '01687-008', '00469-014', '01033-001', '01224-009', '00618-010', '00929-009', '00409-001', '01220-007', '00938-003', '01313-012', '01369-014', '01014-003', '01123-015', '01585-017', '01112-016', '01362-004', '00639-012', '00525-010', '01284-011', '00569-007', '00704-008', '00255-005', '01263-015', '01088-001', '00722-001', '00928-014', '00932-017', '01200-010', '00681-015', '00938-009', '00077-015', '00091-009', '00812-017', '00835-005', '00313-012', '01186-012', '01620-017', '00078-003', '00848-001', '00716-005', '00455-013', '00128-005', '00200-002', '01677-002', '00415-011', '00225-002', '00277-016', '01642-009', '00062-016', '01681-008', '01689-003', '01125-016', '01258-017', '01557-016', '00761-010', '01382-001', '01169-016', '00308-016', '01078-006', '00086-013', '01075-015', '00592-003', '00627-015', '01558-014', '00130-002', '00906-006', '00950-004', '01255-003', '01217-013', '00480-015', '00837-018', '00386-015', '01263-003', '01048-002', '00098-003', '01105-001', '00412-017', '00977-012', '01120-006', '01188-006', '01199-011', '01402-011', '00481-010', '00956-015', '00815-004', '00095-012', '01129-015', '00044-005', '00923-016', '01430-017', '00031-006', '00081-003', '00930-007', '00156-010', '01276-001', '01048-003', '00799-017']\n",
        "wrong_3 = ['00247-009', '01024-009', '00123-018', '00647-013', '00982-008', '01305-006', '01545-011', '01022-001', '01690-017', '00192-014', '01208-009', '01508-002', '00574-016', '00719-017', '01393-013', '00475-002', '00107-008', '00838-007', '00838-005', '00843-010', '01632-008', '00711-009', '01003-014', '00078-013', '00133-009', '00933-007', '00919-001', '00681-009', '01266-016', '01180-004', '01067-002', '00254-016', '00165-004', '00473-006', '00480-009', '00380-011', '01599-001', '01513-006', '00865-008', '01335-014', '00430-001', '00556-008', '00688-017', '00513-002', '00526-017', '00322-012', '01414-001', '00636-010', '00071-003', '00913-001', '01260-013', '01144-003', '01692-014', '01444-014', '01225-005', '00590-017', '00241-012', '01390-005', '00182-015', '00152-015', '00796-014', '00402-007', '00655-006', '01622-016', '01325-012', '00887-015', '00790-018', '00415-006', '00072-002', '00530-014', '00263-013', '01608-010', '00799-002', '00226-005', '00491-010', '00569-011', '01029-012', '01168-010', '00110-005', '00772-012', '00821-017', '00131-012', '00128-013', '01442-011', '01130-013', '01161-013', '00784-017', '01422-010', '00889-002', '01353-014', '01546-017', '00949-016', '01325-006', '01445-017', '00855-008', '01615-001', '01371-004', '00746-011', '00069-014', '00600-016', '01061-003', '00448-010', '00079-012', '01208-006', '00126-010', '00055-016', '00567-017', '01623-005', '01568-002', '00726-013', '00703-003', '00752-013', '00535-018', '00452-006', '00651-017', '01291-012', '00255-014', '01489-004', '01442-003', '00484-008', '01223-007', '00572-003', '01294-007', '00928-017', '01330-013', '00869-005', '01564-016', '00321-016', '00550-002', '01094-006', '00726-010', '01560-005', '01301-016', '01244-017', '00248-009', '01558-004', '00992-014', '00396-013', '00730-016', '00052-014', '00930-018', '01157-013', '01697-013', '00525-004', '01599-003', '00515-006', '00414-013', '00268-014', '01109-014', '00192-013', '01546-012', '00579-006', '01456-005', '00474-009', '00516-004', '00444-009', '01249-006', '00480-001', '01435-004', '00453-004', '00062-006', '00886-008', '00981-006', '00031-012', '01625-010', '01542-012', '01241-015', '01402-003', '00499-004', '00519-011', '01144-007', '00113-012', '01378-016', '01030-006', '00557-014', '01560-003', '00392-015', '00330-010', '00133-002', '00623-011', '01007-004', '01129-011', '00322-006', '01311-012', '00850-016', '00143-003', '00525-012', '00193-009', '00226-004', '00037-012', '00280-016', '01291-004', '01301-001', '00505-017', '01360-014', '00453-005', '00164-001', '00257-017', '00560-012', '00517-004', '00610-003', '00513-003', '00706-003', '00422-013', '00617-011', '00725-011', '00943-011', '00231-011', '00471-014', '00582-013', '01547-009', '01451-009', '01071-004', '01382-002', '01134-011', '00179-013', '01521-005', '01552-013', '00213-003', '01525-015', '01227-008', '00283-011', '00525-014', '01276-012', '00460-015', '00230-013', '00931-007', '01073-014', '00793-003', '01036-016', '01443-016', '00480-010', '00395-003', '00233-014', '00901-015', '01420-016', '01263-001', '01440-013', '00589-007', '00577-014', '01592-003', '01107-010', '01210-006', '00505-014', '01214-011', '01567-005', '01349-012', '00232-011', '00709-014', '00230-006', '00744-010', '00928-018', '00732-003', '01444-003', '01567-018', '00360-016', '00241-009', '00197-011', '00919-016', '01418-016', '00048-017', '00197-006', '00343-001', '00788-011', '01439-018', '01143-017', '01109-006', '01036-002', '00687-005', '00048-006', '00946-016', '01338-007', '00849-011', '01380-002', '00085-014', '01406-002', '00599-003', '00583-013', '01083-016', '01071-011', '01161-016', '00085-007', '00050-013', '01180-006', '00752-015', '01096-017', '01189-015', '00671-011', '00255-008', '00316-017', '00821-016', '00363-011', '01534-015', '00396-007', '01591-015', '01669-001', '00631-003', '00732-009', '00449-013', '00763-016', '00510-004', '00999-008', '00928-005', '00561-005', '01319-005', '00721-011', '00268-013', '01250-013', '00143-012', '01358-017', '00368-002', '01608-001', '00850-009', '01520-018', '01544-011', '01547-017', '00477-006', '01583-003', '00463-002', '01420-015', '00972-002', '00200-012', '00572-015', '00761-014', '00241-007', '00983-003', '00047-003', '00156-017', '01396-010', '01355-003', '00042-001', '01113-003', '00765-010', '00072-009', '00720-015', '01284-014', '00083-002', '01419-011', '00250-010', '00347-006', '00072-014', '01059-004', '00037-003', '01669-015', '00132-011', '01559-017', '00353-007', '00555-007', '00934-005', '00394-002', '01145-017', '00256-010', '01508-003', '00572-002', '01059-012', '01379-017', '01325-002', '00956-010', '00595-013', '00211-002', '01675-002', '00289-005', '00209-001', '00701-013', '00445-002', '00142-011', '00799-018', '00846-015', '00789-015', '00899-003', '01623-015', '01034-013', '01380-010', '01039-014', '00933-005', '01264-013', '01288-004', '00525-008', '01388-011', '00793-017', '01312-009', '00931-008', '00943-015', '01326-012', '01264-017', '00643-005', '00776-009', '01632-011', '00772-011', '00453-015', '01662-002', '00983-007', '00642-004', '00486-002', '00852-015', '00513-013', '01224-017', '00671-012', '01114-009', '00871-016', '01145-003', '00078-008', '00816-003', '00469-009', '01420-012', '00896-002', '00946-014', '00085-002', '00448-004', '00871-010', '01578-007', '01335-011', '00645-009', '01004-003', '01627-004', '00087-001', '00730-007', '00621-015', '00051-004', '01391-010', '00606-013', '01196-012', '01401-001', '00445-017', '00294-002', '01631-009', '00760-010', '00352-004', '01378-010', '00500-012', '01216-014', '00030-006', '01681-013', '00156-004', '01563-016', '00397-002', '01613-009', '00393-013', '01683-013', '01564-004', '00209-007', '01111-012', '00460-002', '00038-008', '01549-006', '00940-009', '00302-015', '00620-003', '01111-010', '00754-004', '01406-010', '00096-016', '00772-005', '00394-007', '01368-011', '01662-014', '01100-013', '01688-015', '01325-016', '01329-007', '00192-004', '00580-015', '00247-011', '01005-017', '00452-010', '00721-012', '01559-005', '00569-009', '00845-004', '00556-001', '00078-019', '01227-017', '01096-016', '00817-011', '00729-004', '00073-017', '00427-011', '00452-007', '01696-009', '00555-012', '00427-003', '00543-017', '00954-005', '00351-002', '00694-002', '00991-004', '00213-008', '01305-010', '01623-012', '00406-015', '01344-015', '01199-004', '00699-016', '00209-005', '01046-001', '01511-016', '00498-011', '01174-013', '01631-001', '00351-007', '01618-012', '00889-003', '00523-007', '00192-008', '00743-014', '00363-016', '00214-014', '00242-002', '00028-005', '01406-004', '01117-001', '01047-018', '00589-011', '01605-008', '01034-014', '01082-014', '00940-013', '01417-008', '00680-005', '00076-008', '01265-016', '00291-013', '00038-014', '00194-015', '00534-016', '00444-003', '00651-001', '00931-010', '01443-017', '01380-013', '00627-003', '00483-012', '01581-004', '00077-002', '01140-007', '01113-013', '01421-003', '00365-014', '00480-018', '01095-014', '01147-002', '00036-009', '01489-010', '01018-009', '00303-011', '01674-014', '01388-006', '00647-012', '00743-004', '00472-002', '01615-008', '01622-008', '01264-007', '00217-018', '00766-015', '01312-018', '00311-008', '00343-015', '01554-013', '00227-014', '00423-017', '01574-002', '00383-012', '00034-009', '01296-011', '00825-003', '01495-014', '01674-016', '00699-002', '00402-002', '01379-008', '01109-010', '00362-005', '00093-010', '00913-011', '01111-016', '00649-004', '00128-004', '00961-016', '01522-008', '01418-003', '00605-012', '00499-008', '00793-002', '01419-002', '00686-012', '01237-004', '01546-015', '00897-001', '00474-001', '00391-007', '00889-004', '00379-014', '00047-015', '01292-014', '01556-012', '01676-002', '00222-013', '00843-003', '01631-011', '01644-006', '00296-015', '00750-016', '00089-012', '00189-015', '00993-010', '00448-012', '00732-005', '00486-010', '00029-006', '01684-002', '00732-004', '01674-011', '01442-004', '00711-011', '00990-006', '00510-007', '00198-019', '01487-016', '00918-005', '00335-002', '01099-015', '01669-007', '01024-012', '00645-007', '01152-008', '01157-005', '01378-015', '01571-012', '00698-006', '01496-005', '00065-007', '01384-005', '01676-010', '01208-004', '01257-010', '01421-012', '00267-001', '00775-002', '00541-007', '00399-013', '01384-013', '01539-012', '00209-003', '01459-012', '00785-018', '00562-003', '01101-005', '00603-006', '00705-006', '00085-015', '01477-010', '00628-004', '01650-002', '00425-012', '01529-010', '01170-012', '00580-014', '00396-016', '00589-013', '00513-017', '01169-009', '00390-003', '00256-002', '00617-015', '00180-008', '01210-011', '01272-016', '00313-005', '01484-016', '00842-014', '00300-003', '01680-015', '01113-006', '00180-012', '01483-004', '01112-004', '01386-013', '00904-002', '00834-003', '00665-005', '00192-007', '00918-006', '00528-010', '01134-006', '00879-016', '00695-005', '00918-002', '00541-018', '00943-012', '00990-010', '00047-010', '01613-004', '00501-012', '00817-001', '00338-013', '01236-006', '00441-013', '00801-010', '01068-015', '01039-009', '01470-014', '00221-014', '01258-004', '01394-007', '01117-004', '01465-015', '01598-006', '00600-017', '00400-003', '01170-006', '01675-017', '01029-006', '01211-011', '00668-011', '01465-018', '01674-002', '00639-011', '01143-010', '01059-007', '01445-002', '00930-003', '00179-001', '00425-018', '00360-002', '01300-004', '00749-002', '00457-016', '00126-014', '00894-002', '01643-011', '01071-007', '01319-015', '01238-014', '00232-003', '01264-012', '01032-001', '00869-014', '00087-003', '01165-015', '00649-003', '00490-012', '00302-001', '00583-003', '00180-007', '01084-004', '01046-015', '01310-011', '01523-008', '01001-016', '01651-013', '00582-009', '00627-008', '01118-013', '00990-017', '00900-018', '01696-016', '01137-008', '00048-008', '00835-009', '00211-017', '00469-001', '00645-014', '00777-012', '00822-004', '01401-002', '00321-019', '01465-005', '00604-013', '00745-001', '00452-016', '00029-017', '00178-001', '00798-016', '01039-005', '01253-002', '00700-011', '00502-007', '01679-004', '00751-013', '01090-011', '00650-010', '00655-004', '01250-008', '01200-016', '00400-013', '00502-013', '00131-001', '00064-011', '01553-005', '01522-009', '01529-001', '00615-006', '01272-007', '01022-003', '01325-003', '01060-011', '00362-016', '00499-007', '00116-013', '00836-002', '00394-003', '01646-019', '01114-005', '01379-007', '01420-006', '00927-017', '01292-006', '00229-008', '00090-008', '00803-015', '01506-015', '00062-004', '00543-016', '00522-004', '01140-001', '01244-002', '00463-008', '00552-007', '01370-013', '00093-015', '01104-016', '01457-008', '01187-010', '00437-003', '00779-010', '00656-017', '00913-003', '00510-006', '00091-008', '00776-002', '00510-016', '00104-002', '00931-003', '00300-011', '00116-007', '00403-002', '00950-001', '00226-010', '00593-016', '01572-002', '00075-004', '00176-003', '01479-012', '01142-008', '00760-017', '01445-012', '01353-002', '00371-012', '00254-013', '01361-016', '00201-015', '01388-005', '00500-011', '01264-010', '00825-017', '01501-016', '00767-002', '00674-008', '00839-015', '00748-001', '01169-008', '01215-008', '01100-014', '00267-003', '00769-010', '00075-008', '00218-014', '00744-016', '01650-007', '00754-013', '01167-004', '00120-009', '00249-007', '01026-009', '01278-010', '00233-001', '00386-001', '00221-016', '00205-002', '00861-011', '00450-006', '00804-017', '01149-005', '01603-009', '00576-016', '00925-007', '01631-004', '00449-002', '00263-016', '00643-003', '00610-012', '00564-008', '01471-004', '00730-011', '01401-012', '00264-002', '00064-016', '00142-001', '00121-011', '01484-017', '01552-008', '01265-001', '01514-001', '00328-003', '01186-001', '00828-010', '00699-017', '00865-014', '00062-010', '00686-008', '01000-010', '00628-012', '00247-016', '01199-017', '01052-012', '01629-014', '00836-011', '00283-008', '01152-002', '01631-015', '00075-017', '01469-009', '00226-002', '01406-015', '01260-006', '00486-016', '00053-013', '01364-016', '00639-002', '01650-017', '00185-016', '01547-013', '01373-005', '00623-014', '00963-002', '01557-008', '01336-004', '00399-001', '01206-017', '00557-002', '01534-002', '01546-011', '00390-014', '00729-011', '00628-011', '00736-003', '01431-003', '01160-014', '00091-013', '00189-014', '00472-008', '00869-016', '01423-002', '00606-008', '00362-006', '00248-007', '01556-015', '00753-015', '00976-012', '01204-015', '01209-003', '00251-010', '00684-015', '00347-007', '01631-017', '01132-013', '01572-001', '00704-004', '01095-010', '01195-012', '00640-003', '00474-016', '00753-018', '01134-003', '01684-012', '00981-015', '00525-003', '01237-002', '01489-002', '00538-004', '01668-013', '00449-003', '01676-005', '00482-004', '01321-010', '00993-008', '00128-011', '01275-002', '01544-001', '00440-003', '01315-012', '01514-002', '00059-008', '00906-014', '01429-004', '01507-004', '01209-009', '01500-019', '01594-014', '01622-009', '00972-017', '01225-016', '00086-001', '00620-004', '00627-009', '01342-013', '00752-005', '01600-006', '00395-010', '01157-006', '01136-008', '00597-009', '00427-008', '00395-012', '00263-008', '00534-003', '00292-007', '01209-013', '00927-013', '01380-001', '00681-003', '01111-002', '00475-010', '00913-004', '00490-014', '00146-013', '00485-008', '00763-008', '00303-016', '01325-017', '01069-010', '00403-008', '00730-001', '00167-002', '00705-016', '01186-015', '00209-016', '00542-015', '00365-013', '00665-008', '00812-005', '01340-012', '01552-009', '00399-016', '01640-012', '00232-001', '00629-014', '01211-017', '00412-009', '01644-005', '00188-001', '01243-014', '00292-014', '01051-002', '01276-013', '00064-014', '01475-018', '00582-002', '00487-014', '01112-006', '00799-004', '00028-016', '00176-008', '00913-006', '01291-014', '01018-004', '01082-010', '01128-004', '00424-007', '01547-007', '00776-006', '00538-017', '00114-014', '01001-018', '01109-005', '00486-017', '00336-003', '01558-017', '00889-012', '01594-012', '00786-016', '00089-015', '01152-010', '01533-009', '00442-011', '01207-015', '00158-009', '01668-017', '00753-010', '01522-012', '00402-005', '01272-018', '01111-009', '01260-012', '00241-003', '01143-014', '00603-007', '00821-015', '00981-007', '01099-004', '00289-013', '01534-007', '00036-015', '00482-005', '01069-003', '00781-015', '01676-011', '00925-013', '00072-011', '00926-006', '00034-017', '01253-003', '00941-006', '01054-012', '00333-011', '00993-014', '00767-003', '00276-010', '01516-013', '00089-011', '01553-003', '00078-016', '00209-013', '00788-015', '00651-010', '01556-014', '00677-004', '00335-015', '01580-010', '00120-014', '00948-007', '00595-015', '00361-003', '00861-004', '00963-015', '00028-014', '01501-014', '00735-016', '01225-006', '01673-015', '00745-006', '00736-004', '00550-018', '01101-002', '00091-010', '01662-016', '00611-009', '01114-002', '00531-016', '00490-009', '01622-012', '00780-013', '00120-003', '01303-003', '00420-014', '00302-012', '00403-006', '00642-013', '00473-008', '00194-009', '01069-016', '01280-005', '01534-008', '01100-016', '01630-002', '00188-008', '00256-017', '01211-013', '00368-006', '00686-002', '00796-004', '00034-005', '01071-014', '00749-009', '00681-011', '00617-004', '00760-008', '00040-010', '00424-008', '00683-009', '00406-012', '01212-014', '00569-013', '01321-002', '00068-002', '00415-005', '00064-006', '00913-005', '01445-008', '01264-006', '00130-004', '01471-009', '00477-007', '00915-002', '01615-003', '01268-006', '00125-002', '01560-007', '01553-016', '00093-014', '01164-013', '01586-016', '00373-017', '00906-010', '01632-013', '00454-015', '00883-014', '01263-017', '01391-008', '01301-010', '00196-015', '00986-014', '01516-011', '00883-003', '00260-014', '01548-012', '00774-003', '00346-012', '00933-008', '01668-003', '01303-006', '01442-014', '00241-008', '00972-001', '01594-015', '00868-013', '01199-005', '01026-006', '01590-008', '00328-010', '00683-017', '00647-001', '00548-012', '01598-014', '00311-005', '01192-015', '00821-019', '01555-016', '01284-001', '00950-005', '01063-014', '01597-014', '00074-010', '00054-018', '00573-002', '00302-009', '01282-017', '01566-007', '00146-016', '00095-018', '00490-016', '00752-017', '01517-012', '01493-014', '01076-006', '01361-008', '01296-004', '01082-018', '00491-014', '01220-003', '01018-016', '00320-004', '00118-006', '00562-002', '01362-009', '00919-007', '01410-013', '00572-004', '00205-004', '01508-005', '00440-015', '01168-002', '00032-009', '00775-003', '00642-005', '01181-003', '00263-015', '01375-003', '00573-017', '00950-017', '00414-017', '01043-013', '01113-002', '01026-005', '01687-008', '01033-001', '01224-009', '00618-010', '00409-001', '01220-007', '01313-012', '01369-014', '01585-017', '01112-016', '01362-004', '00639-012', '00525-010', '00704-008', '00255-005', '01263-015', '01088-001', '00722-001', '00928-014', '00932-017', '01200-010', '00681-015', '00077-015', '00091-009', '00812-017', '00313-012', '00078-003', '00455-013', '00128-005', '00200-002', '01677-002', '00415-011', '00225-002', '00277-016', '01642-009', '00062-016', '01681-008', '01125-016', '01258-017', '01557-016', '01382-001', '01169-016', '00308-016', '01078-006', '00086-013', '00627-015', '01558-014', '00130-002', '00906-006', '00950-004', '01255-003', '01217-013', '00480-015', '00837-018', '00386-015', '01263-003', '00098-003', '00412-017', '00977-012', '01120-006', '01188-006', '01199-011', '01402-011', '00481-010', '00956-015', '00815-004', '00095-012', '01129-015', '00923-016', '01430-017', '00031-006', '00930-007', '00156-010', '00799-017']\n",
        "wrong_5 = ['00247-009', '00123-018', '00647-013', '01305-006', '01545-011', '01022-001', '01690-017', '00192-014', '01208-009', '00574-016', '00719-017', '01393-013', '00475-002', '00838-007', '00838-005', '01632-008', '00711-009', '01003-014', '00078-013', '00933-007', '00919-001', '00681-009', '01266-016', '01180-004', '00254-016', '00473-006', '00480-009', '00380-011', '01599-001', '01513-006', '00865-008', '01335-014', '00430-001', '00556-008', '00688-017', '00513-002', '00526-017', '00322-012', '01414-001', '00636-010', '00071-003', '00913-001', '01144-003', '01692-014', '01444-014', '01225-005', '00590-017', '00241-012', '01390-005', '00182-015', '00152-015', '00402-007', '00655-006', '01622-016', '00887-015', '00790-018', '00415-006', '00072-002', '00530-014', '00263-013', '00799-002', '00226-005', '00491-010', '00569-011', '01029-012', '01168-010', '00110-005', '00772-012', '00821-017', '00131-012', '00128-013', '01130-013', '01161-013', '00784-017', '01422-010', '00889-002', '01353-014', '01546-017', '00949-016', '01325-006', '01445-017', '00855-008', '01615-001', '01371-004', '00746-011', '00069-014', '00600-016', '00448-010', '00079-012', '01208-006', '00055-016', '00567-017', '01623-005', '01568-002', '00726-013', '00703-003', '00752-013', '00535-018', '00452-006', '00651-017', '00255-014', '01489-004', '01442-003', '00484-008', '01223-007', '00572-003', '01294-007', '00928-017', '01330-013', '00869-005', '01564-016', '00321-016', '00550-002', '01094-006', '01560-005', '01301-016', '01244-017', '00248-009', '01558-004', '00396-013', '00730-016', '00930-018', '01157-013', '01697-013', '00525-004', '01599-003', '00414-013', '00268-014', '01109-014', '00192-013', '01546-012', '00579-006', '01456-005', '00474-009', '00516-004', '01249-006', '00062-006', '00886-008', '00031-012', '01625-010', '01241-015', '01402-003', '00499-004', '00519-011', '01378-016', '01030-006', '00557-014', '01560-003', '00392-015', '00330-010', '00133-002', '00623-011', '01007-004', '01129-011', '00322-006', '01311-012', '00850-016', '00143-003', '00525-012', '00193-009', '00226-004', '00037-012', '00280-016', '01291-004', '01301-001', '00505-017', '00453-005', '00560-012', '00517-004', '00610-003', '00513-003', '00706-003', '00422-013', '00617-011', '00725-011', '00943-011', '00231-011', '00471-014', '00582-013', '01547-009', '01451-009', '01071-004', '01382-002', '01134-011', '00179-013', '01521-005', '01552-013', '00213-003', '01525-015', '01227-008', '00283-011', '00525-014', '01276-012', '00460-015', '00230-013', '00793-003', '01036-016', '01443-016', '00480-010', '00395-003', '00233-014', '00901-015', '01420-016', '01263-001', '01440-013', '00589-007', '00577-014', '01210-006', '00505-014', '01214-011', '01567-005', '01349-012', '00232-011', '00709-014', '00230-006', '00744-010', '00928-018', '00732-003', '01444-003', '01567-018', '00360-016', '00241-009', '00197-011', '00919-016', '01418-016', '00048-017', '00197-006', '00343-001', '00788-011', '01439-018', '01143-017', '01109-006', '01036-002', '00687-005', '00048-006', '00946-016', '01338-007', '00849-011', '01380-002', '00085-014', '01406-002', '00583-013', '01083-016', '01071-011', '01161-016', '00085-007', '00050-013', '01180-006', '00752-015', '01096-017', '01189-015', '00255-008', '00821-016', '00363-011', '01534-015', '00396-007', '01591-015', '00732-009', '00763-016', '00510-004', '00999-008', '00928-005', '01319-005', '00268-013', '01250-013', '00143-012', '01358-017', '00368-002', '01608-001', '01520-018', '01544-011', '01547-017', '00477-006', '01583-003', '00463-002', '01420-015', '00200-012', '00572-015', '00761-014', '00241-007', '00983-003', '00047-003', '00156-017', '01396-010', '00042-001', '01113-003', '00072-009', '00720-015', '00083-002', '01419-011', '00072-014', '01059-004', '00037-003', '01559-017', '00555-007', '00394-002', '01145-017', '00256-010', '01508-003', '00572-002', '01059-012', '01325-002', '00956-010', '00595-013', '00211-002', '01675-002', '00289-005', '00209-001', '00701-013', '00142-011', '00799-018', '00846-015', '00789-015', '01623-015', '01034-013', '01380-010', '01039-014', '00933-005', '01264-013', '01288-004', '00525-008', '01388-011', '01312-009', '00931-008', '00943-015', '01326-012', '01264-017', '00643-005', '00776-009', '01632-011', '00772-011', '00453-015', '01662-002', '00983-007', '00642-004', '00486-002', '00852-015', '00513-013', '01224-017', '01114-009', '00871-016', '01145-003', '00078-008', '00816-003', '00469-009', '01420-012', '00896-002', '00946-014', '00085-002', '00448-004', '00871-010', '01335-011', '00645-009', '01627-004', '00087-001', '00730-007', '00621-015', '00051-004', '01391-010', '00606-013', '01196-012', '01401-001', '00445-017', '00294-002', '01631-009', '00352-004', '01378-010', '00500-012', '01216-014', '01681-013', '00156-004', '01563-016', '00397-002', '01613-009', '00393-013', '01683-013', '01564-004', '00209-007', '01111-012', '00460-002', '00038-008', '01549-006', '00940-009', '00302-015', '00620-003', '01111-010', '00754-004', '01406-010', '00096-016', '00772-005', '00394-007', '01662-014', '01100-013', '01688-015', '01325-016', '01329-007', '00580-015', '00247-011', '01005-017', '00452-010', '00721-012', '01559-005', '00569-009', '00845-004', '00556-001', '00078-019', '00817-011', '00729-004', '00073-017', '00427-011', '00452-007', '01696-009', '00555-012', '00954-005', '00351-002', '00694-002', '00213-008', '01305-010', '01623-012', '00406-015', '01344-015', '01199-004', '00699-016', '00209-005', '01046-001', '01511-016', '01631-001', '00351-007', '01618-012', '00889-003', '00523-007', '00192-008', '00743-014', '00363-016', '00214-014', '00242-002', '00028-005', '01406-004', '01117-001', '00589-011', '01605-008', '01034-014', '01082-014', '00940-013', '01417-008', '00680-005', '00076-008', '01265-016', '00291-013', '00038-014', '00194-015', '00444-003', '00651-001', '00931-010', '01443-017', '01380-013', '00627-003', '00483-012', '00077-002', '01140-007', '01113-013', '01421-003', '00480-018', '01095-014', '01147-002', '00036-009', '01489-010', '01018-009', '00303-011', '01674-014', '01388-006', '00647-012', '00743-004', '00472-002', '01615-008', '01622-008', '01264-007', '00217-018', '00766-015', '01312-018', '00311-008', '00343-015', '01554-013', '00227-014', '00423-017', '00383-012', '00034-009', '01296-011', '01495-014', '01674-016', '00699-002', '00402-002', '01379-008', '01109-010', '00362-005', '00093-010', '00913-011', '01111-016', '00649-004', '00128-004', '00961-016', '01522-008', '01418-003', '00605-012', '00499-008', '00793-002', '01237-004', '01546-015', '00897-001', '00474-001', '00391-007', '00889-004', '00379-014', '00047-015', '01292-014', '01676-002', '00222-013', '00843-003', '01631-011', '01644-006', '00296-015', '00750-016', '00089-012', '00189-015', '00993-010', '00732-005', '00486-010', '00029-006', '01684-002', '00732-004', '01674-011', '01442-004', '00711-011', '00990-006', '00510-007', '00198-019', '01487-016', '00918-005', '00335-002', '01099-015', '01669-007', '01024-012', '00645-007', '01152-008', '01157-005', '01378-015', '01571-012', '00698-006', '01496-005', '00065-007', '01384-005', '01676-010', '01208-004', '01421-012', '00267-001', '00775-002', '00541-007', '00399-013', '01384-013', '01539-012', '00209-003', '01459-012', '00785-018', '00562-003', '00603-006', '00085-015', '01477-010', '01650-002', '00425-012', '01529-010', '01170-012', '00580-014', '00396-016', '00589-013', '00513-017', '00390-003', '00256-002', '00617-015', '00180-008', '01210-011', '01272-016', '00313-005', '01484-016', '00842-014', '00300-003', '01680-015', '01113-006', '00180-012', '01483-004', '01112-004', '00904-002', '00665-005', '00192-007', '00918-006', '00528-010', '01134-006', '00879-016', '00918-002', '00943-012', '00990-010', '00047-010', '01613-004', '00501-012', '00817-001', '00338-013', '01236-006', '00801-010', '01068-015', '01039-009', '01258-004', '01465-015', '01598-006', '00400-003', '01170-006', '01675-017', '01029-006', '01211-011', '00668-011', '01465-018', '01674-002', '00639-011', '01143-010', '01059-007', '01445-002', '00930-003', '01300-004', '00457-016', '00126-014', '01643-011', '01071-007', '01238-014', '00232-003', '01264-012', '01032-001', '00869-014', '01165-015', '00649-003', '00490-012', '00302-001', '00583-003', '00180-007', '01084-004', '01046-015', '01310-011', '01001-016', '01651-013', '00582-009', '00627-008', '01118-013', '00990-017', '00900-018', '01696-016', '01137-008', '00048-008', '00835-009', '00211-017', '00469-001', '00645-014', '00777-012', '00822-004', '01401-002', '00321-019', '01465-005', '00745-001', '00452-016', '00029-017', '00178-001', '00798-016', '01039-005', '01253-002', '00502-007', '01679-004', '00751-013', '00650-010', '00655-004', '01250-008', '01200-016', '00400-013', '00502-013', '00131-001', '00064-011', '01553-005', '01522-009', '00615-006', '01272-007', '01022-003', '01325-003', '01060-011', '00362-016', '00499-007', '00116-013', '00836-002', '01646-019', '01114-005', '01379-007', '01420-006', '01292-006', '00229-008', '00090-008', '00803-015', '00062-004', '00522-004', '01140-001', '01244-002', '00463-008', '00552-007', '00093-015', '00437-003', '00779-010', '00656-017', '00913-003', '00510-006', '00091-008', '00510-016', '00104-002', '00931-003', '00300-011', '00403-002', '00950-001', '00226-010', '00593-016', '01572-002', '00075-004', '00176-003', '01479-012', '01142-008', '00760-017', '01445-012', '01353-002', '00371-012', '00254-013', '01361-016', '00201-015', '01388-005', '00500-011', '01264-010', '01501-016', '00767-002', '00674-008', '00839-015', '00748-001', '01215-008', '01100-014', '00075-008', '00218-014', '00744-016', '01650-007', '00754-013', '01167-004', '00120-009', '00249-007', '01026-009', '00233-001', '00386-001', '00221-016', '00205-002', '00861-011', '00450-006', '00804-017', '01149-005', '01603-009', '00576-016', '00925-007', '01631-004', '00263-016', '00643-003', '00730-011', '01401-012', '00064-016', '00121-011', '01484-017', '01552-008', '01265-001', '01514-001', '00328-003', '01186-001', '00828-010', '00699-017', '00865-014', '00062-010', '00686-008', '01000-010', '00628-012', '00247-016', '01199-017', '01052-012', '01629-014', '01152-002', '01631-015', '00075-017', '01469-009', '00226-002', '01406-015', '01260-006', '00486-016', '01650-017', '00185-016', '01547-013', '01373-005', '00623-014', '00963-002', '01557-008', '00399-001', '01206-017', '00557-002', '01534-002', '01546-011', '00390-014', '00729-011', '00628-011', '00736-003', '01431-003', '01160-014', '00091-013', '00869-016', '01423-002', '00606-008', '00362-006', '00248-007', '00753-015', '00976-012', '00684-015', '00347-007', '01631-017', '01572-001', '00704-004', '01095-010', '00474-016', '00753-018', '01134-003', '01684-012', '00981-015', '00525-003', '01237-002', '01489-002', '00538-004', '01668-013', '00449-003', '01676-005', '00482-004', '01321-010', '00993-008', '01275-002', '01544-001', '00440-003', '01315-012', '01514-002', '00059-008', '00906-014', '01429-004', '01507-004', '01209-009', '01500-019', '01594-014', '00972-017', '01225-016', '00086-001', '00620-004', '00627-009', '01342-013', '00752-005', '01600-006', '00395-010', '01157-006', '00597-009', '00427-008', '00395-012', '00263-008', '00534-003', '00292-007', '01209-013', '00927-013', '01380-001', '01111-002', '00475-010', '00913-004', '00490-014', '00146-013', '00485-008', '00763-008', '00303-016', '01325-017', '01069-010', '00403-008', '00730-001', '00167-002', '00705-016', '00209-016', '00542-015', '00365-013', '00665-008', '00812-005', '01340-012', '01552-009', '01640-012', '00232-001', '00629-014', '01211-017', '00412-009', '01644-005', '00292-014', '01276-013', '00064-014', '00582-002', '01112-006', '00799-004', '00028-016', '00913-006', '01291-014', '01018-004', '01082-010', '01128-004', '01547-007', '00776-006', '00538-017', '01001-018', '01109-005', '00336-003', '01558-017', '00889-012', '01594-012', '00786-016', '00089-015', '01152-010', '01533-009', '00442-011', '01207-015', '00158-009', '01668-017', '00753-010', '01522-012', '00402-005', '01272-018', '01111-009', '00241-003', '01143-014', '00603-007', '00821-015', '00981-007', '00289-013', '01534-007', '00036-015', '00482-005', '01069-003', '00781-015', '01676-011', '00925-013', '00072-011', '00034-017', '01253-003', '00941-006', '01054-012', '00333-011', '00993-014', '00767-003', '00276-010', '01553-003', '00078-016', '00209-013', '00788-015', '00651-010', '00677-004', '00335-015', '01580-010', '00120-014', '00595-015', '00963-015', '00028-014', '01501-014', '00735-016', '01673-015', '00745-006', '00736-004', '00550-018', '01101-002', '00091-010', '01662-016', '00611-009', '01114-002', '00531-016', '00490-009', '01622-012', '00780-013', '00120-003', '01303-003', '00420-014', '00302-012', '00403-006', '00642-013', '00473-008', '00194-009', '01069-016', '01280-005', '01534-008', '01100-016', '01630-002', '00188-008', '00256-017', '01211-013', '00368-006', '00686-002', '00034-005', '00749-009', '00681-011', '00617-004', '00040-010', '00683-009', '00406-012', '00569-013', '01321-002', '00415-005', '00064-006', '01445-008', '01264-006', '00130-004', '01471-009', '00477-007', '00915-002', '01268-006', '00125-002', '01560-007', '00093-014', '01586-016', '00373-017', '00906-010', '01632-013', '00454-015', '00883-014', '01263-017', '01391-008', '01301-010', '00196-015', '00986-014', '01516-011', '00883-003', '00260-014', '01548-012', '00774-003', '00346-012', '00933-008', '01668-003', '01303-006', '01442-014', '00241-008', '00972-001', '01594-015', '00868-013', '01199-005', '01026-006', '01590-008', '00328-010', '00548-012', '01598-014', '00311-005', '01192-015', '00821-019', '01555-016', '01284-001', '00950-005', '01063-014', '01597-014', '00074-010', '00054-018', '00573-002', '00302-009', '01282-017', '00146-016', '00095-018', '00490-016', '00752-017', '01517-012', '01076-006', '01361-008', '01296-004', '01082-018', '00491-014', '01220-003', '01018-016', '00320-004', '00118-006', '00562-002', '01362-009', '00919-007', '01410-013', '00572-004', '00205-004', '01508-005', '00440-015', '01168-002', '00032-009', '00775-003', '00642-005', '01181-003', '00263-015', '01375-003', '00573-017', '00414-017', '01043-013', '01113-002', '01026-005', '01687-008', '01224-009', '00618-010', '00409-001', '01220-007', '01369-014', '01585-017', '01362-004', '00704-008', '01263-015', '00722-001', '00928-014', '00932-017', '00681-015', '00077-015', '00091-009', '00812-017', '00313-012', '00078-003', '00455-013', '00128-005', '00200-002', '01677-002', '00415-011', '00225-002', '00277-016', '01642-009', '00062-016', '01681-008', '01125-016', '01258-017', '01557-016', '01382-001', '01169-016', '00308-016', '01078-006', '00086-013', '00627-015', '01558-014', '00130-002', '00906-006', '00950-004', '01217-013', '00480-015', '00837-018', '00386-015', '01263-003', '00412-017', '00977-012', '01120-006', '01199-011', '00481-010', '00956-015', '00815-004', '00095-012', '01129-015', '00923-016', '01430-017', '00031-006', '00930-007', '00156-010', '00799-017']\n",
        "\n",
        "common_items = set(wrong_1) & set(wrong_3) & set(wrong_5)\n",
        "\n",
        "for row in test_dataset:\n",
        "  if row[\"id\"] in common_items:\n",
        "    print(f\"{row['id']}: {row['question']}\")"
      ]
    },
    {
      "cell_type": "code",
      "execution_count": null,
      "metadata": {
        "id": "iCFSFEb_8wzt"
      },
      "outputs": [],
      "source": []
    }
  ],
  "metadata": {
    "accelerator": "GPU",
    "colab": {
      "gpuType": "T4",
      "include_colab_link": true,
      "provenance": []
    },
    "kernelspec": {
      "display_name": "Python 3",
      "name": "python3"
    },
    "language_info": {
      "codemirror_mode": {
        "name": "ipython",
        "version": 3
      },
      "file_extension": ".py",
      "mimetype": "text/x-python",
      "name": "python",
      "nbconvert_exporter": "python",
      "pygments_lexer": "ipython3",
      "version": "3.10.15"
    }
  },
  "nbformat": 4,
  "nbformat_minor": 0
}
